{
 "cells": [
  {
   "cell_type": "code",
   "execution_count": null,
   "id": "8b1b1634-d2cb-427d-b300-8778d7e43218",
   "metadata": {},
   "outputs": [],
   "source": []
  },
  {
   "cell_type": "code",
   "execution_count": 1,
   "id": "7fabf415-4d62-49e1-8bbb-e4a5ecebf5a3",
   "metadata": {},
   "outputs": [],
   "source": [
    "import pyspark.sql.types as T\n",
    "import pyspark.sql.functions as F\n",
    "\n",
    "from pyspark import SparkContext, SparkConf, SQLContext\n",
    "\n",
    "from dateutil.relativedelta import relativedelta\n",
    "from pyspark.sql.functions import pandas_udf\n",
    "from pyspark.sql.window import Window\n",
    "\n",
    "import pandas as pd\n",
    "import numpy as np\n",
    "\n",
    "from datetime import date, datetime, timedelta, timezone\n",
    "import os\n",
    "import json\n",
    "import requests\n",
    "import time\n",
    "import yaml\n",
    "from itertools import chain\n",
    "\n",
    "import concurrent.futures\n",
    "from threading import Lock"
   ]
  },
  {
   "cell_type": "code",
   "execution_count": 2,
   "id": "cc128c9b-b607-4e57-8881-189f05edb440",
   "metadata": {
    "scrolled": true
   },
   "outputs": [
    {
     "name": "stderr",
     "output_type": "stream",
     "text": [
      "25/02/22 14:13:59 WARN Utils: Your hostname, LAPTOP-4O0SI9BK resolves to a loopback address: 127.0.1.1; using 172.30.70.20 instead (on interface eth0)\n",
      "25/02/22 14:13:59 WARN Utils: Set SPARK_LOCAL_IP if you need to bind to another address\n",
      "Setting default log level to \"WARN\".\n",
      "To adjust logging level use sc.setLogLevel(newLevel). For SparkR, use setLogLevel(newLevel).\n",
      "25/02/22 14:14:01 WARN NativeCodeLoader: Unable to load native-hadoop library for your platform... using builtin-java classes where applicable\n",
      "25/02/22 14:14:01 WARN SparkConf: Note that spark.local.dir will be overridden by the value set by the cluster manager (via SPARK_LOCAL_DIRS in mesos/standalone/kubernetes and LOCAL_DIRS in YARN).\n",
      "/usr/local/lib/python3.10/dist-packages/pyspark/sql/context.py:113: FutureWarning: Deprecated in 3.0.0. Use SparkSession.builder.getOrCreate() instead.\n",
      "  warnings.warn(\n",
      "----------------------------------------\n",
      "Exception occurred during processing of request from ('127.0.0.1', 39218)\n",
      "Traceback (most recent call last):\n",
      "  File \"/usr/lib/python3.10/socketserver.py\", line 316, in _handle_request_noblock\n",
      "    self.process_request(request, client_address)\n",
      "  File \"/usr/lib/python3.10/socketserver.py\", line 347, in process_request\n",
      "    self.finish_request(request, client_address)\n",
      "  File \"/usr/lib/python3.10/socketserver.py\", line 360, in finish_request\n",
      "    self.RequestHandlerClass(request, client_address, self)\n",
      "  File \"/usr/lib/python3.10/socketserver.py\", line 747, in __init__\n",
      "    self.handle()\n",
      "  File \"/usr/local/lib/python3.10/dist-packages/pyspark/accumulators.py\", line 295, in handle\n",
      "    poll(accum_updates)\n",
      "  File \"/usr/local/lib/python3.10/dist-packages/pyspark/accumulators.py\", line 267, in poll\n",
      "    if self.rfile in r and func():\n",
      "  File \"/usr/local/lib/python3.10/dist-packages/pyspark/accumulators.py\", line 271, in accum_updates\n",
      "    num_updates = read_int(self.rfile)\n",
      "  File \"/usr/local/lib/python3.10/dist-packages/pyspark/serializers.py\", line 596, in read_int\n",
      "    raise EOFError\n",
      "EOFError\n",
      "----------------------------------------\n"
     ]
    }
   ],
   "source": [
    "appName = \"PySpark TFT puuids\"\n",
    "master = \"local[*]\"\n",
    "conf = SparkConf() \\\n",
    "    .setAppName(appName) \\\n",
    "    .setMaster(master) \\\n",
    "    .set(\"spark.executor.memory\", \"40g\") \\\n",
    "    .set(\"spark.driver.memory\", \"40g\") \\\n",
    "    .set(\"spark.executor.memoryOverhead\", \"8g\") \\\n",
    "    .set(\"spark.local.dir\", \"/home/mai/spark-temp\") \\\n",
    "    .set(\"spark.sql.session.timeZone\", \"UTC\") \\\n",
    "    .set(\"spark.dynamicAllocation.enabled\", \"true\") \\\n",
    "    .set(\"spark.dynamicAllocation.minExecutors\", \"2\") \\\n",
    "    .set(\"spark.dynamicAllocation.maxExecutors\", \"50\") \\\n",
    "    .set(\"spark.speculation\", \"true\") \n",
    "   \n",
    "sc = SparkContext.getOrCreate(conf=conf)\n",
    "sqlContext = SQLContext(sc)\n",
    "spark = sqlContext.sparkSession"
   ]
  },
  {
   "cell_type": "code",
   "execution_count": 3,
   "id": "55be0d7c-4e75-4fed-9354-b74988689cfc",
   "metadata": {},
   "outputs": [
    {
     "name": "stderr",
     "output_type": "stream",
     "text": [
      "                                                                                \r"
     ]
    }
   ],
   "source": [
    "df = spark.read.parquet('./data/tft_match_data_cleaned/matches_euw1_CHALLENGER_I.parquet')"
   ]
  },
  {
   "cell_type": "code",
   "execution_count": 4,
   "id": "07e1da4c-257d-4c8a-84c7-30fb0970a866",
   "metadata": {},
   "outputs": [
    {
     "name": "stdout",
     "output_type": "stream",
     "text": [
      "root\n",
      " |-- metadata_data_version: string (nullable = true)\n",
      " |-- metadata_match_id: string (nullable = true)\n",
      " |-- info_endOfGameResult: string (nullable = true)\n",
      " |-- info_gameCreation: long (nullable = true)\n",
      " |-- info_game_datetime: long (nullable = true)\n",
      " |-- info_game_length: double (nullable = true)\n",
      " |-- info_game_version: string (nullable = true)\n",
      " |-- info_mapId: long (nullable = true)\n",
      " |-- info_queueId: long (nullable = true)\n",
      " |-- info_tft_game_type: string (nullable = true)\n",
      " |-- info_tft_set_core_name: string (nullable = true)\n",
      " |-- info_tft_set_number: long (nullable = true)\n",
      " |-- gold_left: long (nullable = true)\n",
      " |-- last_round: long (nullable = true)\n",
      " |-- level: long (nullable = true)\n",
      " |-- partner_group_id: integer (nullable = true)\n",
      " |-- placement: long (nullable = true)\n",
      " |-- players_eliminated: long (nullable = true)\n",
      " |-- puuid: string (nullable = true)\n",
      " |-- riotIdGameName: string (nullable = true)\n",
      " |-- riotIdTagline: string (nullable = true)\n",
      " |-- skill_tree: integer (nullable = true)\n",
      " |-- time_eliminated: double (nullable = true)\n",
      " |-- total_damage_to_players: long (nullable = true)\n",
      " |-- traits: array (nullable = true)\n",
      " |    |-- element: struct (containsNull = true)\n",
      " |    |    |-- name: string (nullable = true)\n",
      " |    |    |-- num_units: long (nullable = true)\n",
      " |    |    |-- style: long (nullable = true)\n",
      " |    |    |-- tier_current: long (nullable = true)\n",
      " |    |    |-- tier_total: long (nullable = true)\n",
      " |-- units: array (nullable = true)\n",
      " |    |-- element: struct (containsNull = true)\n",
      " |    |    |-- character_id: string (nullable = true)\n",
      " |    |    |-- itemNames: array (nullable = true)\n",
      " |    |    |    |-- element: string (containsNull = true)\n",
      " |    |    |-- name: string (nullable = true)\n",
      " |    |    |-- rarity: long (nullable = true)\n",
      " |    |    |-- tier: long (nullable = true)\n",
      " |-- win: boolean (nullable = true)\n",
      "\n"
     ]
    }
   ],
   "source": [
    "df.printSchema()"
   ]
  },
  {
   "cell_type": "code",
   "execution_count": 24,
   "id": "9cfaabab-1d82-46e6-8a89-99dcbacb5dad",
   "metadata": {},
   "outputs": [],
   "source": [
    "# get all unique unit names\n",
    "units = df.select(F.explode('units').alias('units')) \\\n",
    "          .select(F.col('units.character_id'))\\\n",
    "          .distinct()\\\n",
    "          .collect()"
   ]
  },
  {
   "cell_type": "code",
   "execution_count": 25,
   "id": "29568781-8ba5-46d7-86f4-44d1b59a6ae4",
   "metadata": {},
   "outputs": [
    {
     "data": {
      "text/plain": [
       "['Gremlin',\n",
       " 'NunuWillump',\n",
       " 'JayceSummon',\n",
       " 'Illaoi',\n",
       " 'Nami',\n",
       " 'Sett',\n",
       " 'Corki',\n",
       " 'Twitch',\n",
       " 'DrMundo',\n",
       " 'Viktor',\n",
       " 'TwistedFate',\n",
       " 'Trundle',\n",
       " 'Cassiopeia',\n",
       " 'Rumble',\n",
       " 'Lieutenant',\n",
       " 'Zoe',\n",
       " 'Garen',\n",
       " 'Morgana',\n",
       " 'Vex',\n",
       " 'Elise',\n",
       " 'Camille',\n",
       " 'Ambessa',\n",
       " 'Tristana',\n",
       " 'Jinx',\n",
       " 'Vladimir',\n",
       " 'Draven',\n",
       " 'Malzahar',\n",
       " 'Nocturne',\n",
       " 'Gangplank',\n",
       " 'Chainsaw',\n",
       " 'Ziggs',\n",
       " 'Leona',\n",
       " 'Fish',\n",
       " 'Lux',\n",
       " 'FlyGuy',\n",
       " 'Darius',\n",
       " 'RenataGlasc',\n",
       " 'Blitzcrank',\n",
       " 'Zeri',\n",
       " 'swain',\n",
       " 'Akali',\n",
       " 'Caitlyn',\n",
       " 'Sion',\n",
       " 'KogMaw',\n",
       " 'Jayce',\n",
       " 'Urgot',\n",
       " 'Mordekaiser',\n",
       " 'Amumu',\n",
       " 'Red',\n",
       " 'Rell',\n",
       " 'Ekko',\n",
       " 'LeBlanc',\n",
       " 'MissMage',\n",
       " 'Silco',\n",
       " 'elise',\n",
       " 'Ezreal',\n",
       " 'Warwick',\n",
       " 'Heimerdinger',\n",
       " 'Prime',\n",
       " 'Vi',\n",
       " 'Shooter',\n",
       " 'Singed',\n",
       " 'Blue',\n",
       " 'Zyra',\n",
       " 'jinx',\n",
       " 'Irelia',\n",
       " 'Beardy']"
      ]
     },
     "execution_count": 25,
     "metadata": {},
     "output_type": "execute_result"
    }
   ],
   "source": [
    "units = [i['character_id'].split('_')[-1] for i in units]\n",
    "\n",
    "units"
   ]
  },
  {
   "cell_type": "code",
   "execution_count": 27,
   "id": "fcc91238-a0a0-4c60-bfe9-f18b3bfe453a",
   "metadata": {},
   "outputs": [
    {
     "data": {
      "text/plain": [
       "67"
      ]
     },
     "execution_count": 27,
     "metadata": {},
     "output_type": "execute_result"
    }
   ],
   "source": [
    "len(units)"
   ]
  },
  {
   "cell_type": "code",
   "execution_count": 5,
   "id": "878235d5-6870-406c-b56a-9e3afc3982d9",
   "metadata": {},
   "outputs": [
    {
     "name": "stderr",
     "output_type": "stream",
     "text": [
      "                                                                                \r"
     ]
    },
    {
     "name": "stdout",
     "output_type": "stream",
     "text": [
      "+-----------------+--------------------+---------+---------+----------+---------+-------------------+-----------------------------------+----------------+-----+\n",
      "|metadata_match_id|               puuid|placement|num_units|num_traits|num_items|highest_unit_rarity|highest_tier_of_highest_unit_rarity|num_units_tier_3|level|\n",
      "+-----------------+--------------------+---------+---------+----------+---------+-------------------+-----------------------------------+----------------+-----+\n",
      "|  EUW1_7277890033|xmkFl1BkSaRjzuz3m...|        1|       11|        12|       16|                  9|                                  1|               0|   10|\n",
      "|  EUW1_7277890033|o8slPR9SLMExDt91J...|        2|        9|        13|       14|                  8|                                  1|               1|    9|\n",
      "|  EUW1_7277890033|Yxuy3gv-3zlkLdQHJ...|        3|        8|         9|       13|                  6|                                  1|               2|    8|\n",
      "|  EUW1_7277890033|J0lyE3mOPaXKvF55h...|        4|        8|         7|       12|                  8|                                  1|               5|    8|\n",
      "|  EUW1_7277890033|9FCno9_0fI0PAIYT7...|        5|        9|        10|       16|                  9|                                  1|               0|    8|\n",
      "|  EUW1_7277890033|cbf5r-JcONAFUYf9x...|        6|        8|        10|       13|                  6|                                  1|               1|    8|\n",
      "|  EUW1_7277890033|ceQ3nPbJbnOzYcYJw...|        7|        9|        12|        9|                  9|                                  1|               2|    7|\n",
      "|  EUW1_7277890033|Ppe5bQH2EwNNmEMLF...|        8|        8|         8|       12|                  8|                                  1|               0|    8|\n",
      "+-----------------+--------------------+---------+---------+----------+---------+-------------------+-----------------------------------+----------------+-----+\n",
      "only showing top 8 rows\n",
      "\n"
     ]
    }
   ],
   "source": [
    "df.withColumn('num_units', F.size(F.col('units')))\\\n",
    "    .withColumn('num_traits', F.size(F.col('traits')))\\\n",
    "    .withColumn('num_units_tier_3', F.size(F.filter(F.col('units'), lambda x: x.tier == 3)))\\\n",
    "    .withColumn('highest_unit_rarity', F.array_max(F.col('units.rarity')))\\\n",
    "    .withColumn('units_with_highest_unit_rarity', F.filter(F.col('units'), lambda x: x.rarity == F.col('highest_unit_rarity')))\\\n",
    "    .withColumn('highest_tier_of_highest_unit_rarity', F.array_max(F.transform('units_with_highest_unit_rarity', lambda x: x.tier)))\\\n",
    "    .withColumn('num_items', F.aggregate(\"units\", F.lit(0), lambda acc, x: acc + F.size(x.itemNames)))\\\n",
    "    .select('metadata_match_id', 'puuid', 'placement', 'num_units', 'num_traits', 'num_items',\n",
    "            'highest_unit_rarity', 'highest_tier_of_highest_unit_rarity', 'num_units_tier_3', 'level')\\\n",
    "    .orderBy('metadata_match_id', 'placement')\\\n",
    "    .show(8)"
   ]
  },
  {
   "cell_type": "code",
   "execution_count": 6,
   "id": "29a15ac8-3c61-4aee-9c02-2a9320a3892c",
   "metadata": {},
   "outputs": [
    {
     "name": "stdout",
     "output_type": "stream",
     "text": [
      "+-----------------+--------------------+---------+---------+----------+---------+-------------------+----------------+-----+\n",
      "|metadata_match_id|               puuid|placement|num_units|num_traits|num_items|highest_unit_rarity|num_units_tier_3|level|\n",
      "+-----------------+--------------------+---------+---------+----------+---------+-------------------+----------------+-----+\n",
      "|  EUW1_7277890033|xmkFl1BkSaRjzuz3m...|        1|       11|        12|       16|                  9|               0|   10|\n",
      "|  EUW1_7277890033|o8slPR9SLMExDt91J...|        2|        9|        13|       14|                  8|               1|    9|\n",
      "|  EUW1_7277890033|Yxuy3gv-3zlkLdQHJ...|        3|        8|         9|       13|                  6|               2|    8|\n",
      "|  EUW1_7277890033|J0lyE3mOPaXKvF55h...|        4|        8|         7|       12|                  8|               5|    8|\n",
      "|  EUW1_7277890033|9FCno9_0fI0PAIYT7...|        5|        9|        10|       16|                  9|               0|    8|\n",
      "|  EUW1_7277890033|cbf5r-JcONAFUYf9x...|        6|        8|        10|       13|                  6|               1|    8|\n",
      "|  EUW1_7277890033|ceQ3nPbJbnOzYcYJw...|        7|        9|        12|        9|                  9|               2|    7|\n",
      "|  EUW1_7277890033|Ppe5bQH2EwNNmEMLF...|        8|        8|         8|       12|                  8|               0|    8|\n",
      "+-----------------+--------------------+---------+---------+----------+---------+-------------------+----------------+-----+\n",
      "only showing top 8 rows\n",
      "\n"
     ]
    }
   ],
   "source": [
    "df.withColumn('num_units', F.size(F.col('units')))\\\n",
    "    .withColumn('num_traits', F.size(F.col('traits')))\\\n",
    "    .withColumn('num_units_tier_3', F.size(F.filter(F.col('units'), lambda x: x.tier == 3)))\\\n",
    "    .withColumn('highest_unit_rarity', F.array_max(F.col('units.rarity')))\\\n",
    "    .withColumn('num_items', F.aggregate(\"units\", F.lit(0), lambda acc, x: acc + F.size(x.itemNames)))\\\n",
    "    .select('metadata_match_id', 'puuid', 'placement', 'num_units', 'num_traits', 'num_items',\n",
    "            'highest_unit_rarity', 'num_units_tier_3', 'level')\\\n",
    "    .orderBy('metadata_match_id', 'placement')\\\n",
    "    .show(8)"
   ]
  },
  {
   "cell_type": "code",
   "execution_count": null,
   "id": "d3b5a79a-aa4f-4177-9550-b93269307ce6",
   "metadata": {},
   "outputs": [],
   "source": []
  },
  {
   "cell_type": "code",
   "execution_count": 7,
   "id": "50a821f3-9558-4b7e-8c7a-7a423954b853",
   "metadata": {},
   "outputs": [
    {
     "name": "stdout",
     "output_type": "stream",
     "text": [
      "+------------------------------------------------------------------------------+---------+---------+----------+-----+------------------+-----------------------+-----------------+------------+-----+----------+\n",
      "|puuid                                                                         |gold_left|placement|last_round|level|players_eliminated|total_damage_to_players|name             |tier_current|style|tier_total|\n",
      "+------------------------------------------------------------------------------+---------+---------+----------+-----+------------------+-----------------------+-----------------+------------+-----+----------+\n",
      "|4XZMPNXlRKTe9jXDeUzFFQoGOPNIOrjZfIY7vcECXNiXk1xKJgcz3yN5goB3oa4xoFLD8mTj420okQ|44       |5        |30        |8    |0                 |91                     |TFT13_Academy    |2           |2    |4         |\n",
      "|4XZMPNXlRKTe9jXDeUzFFQoGOPNIOrjZfIY7vcECXNiXk1xKJgcz3yN5goB3oa4xoFLD8mTj420okQ|44       |5        |30        |8    |0                 |91                     |TFT13_BloodHunter|1           |3    |1         |\n",
      "|4XZMPNXlRKTe9jXDeUzFFQoGOPNIOrjZfIY7vcECXNiXk1xKJgcz3yN5goB3oa4xoFLD8mTj420okQ|44       |5        |30        |8    |0                 |91                     |TFT13_Experiment |0           |0    |3         |\n",
      "|4XZMPNXlRKTe9jXDeUzFFQoGOPNIOrjZfIY7vcECXNiXk1xKJgcz3yN5goB3oa4xoFLD8mTj420okQ|44       |5        |30        |8    |0                 |91                     |TFT13_Invoker    |1           |1    |3         |\n",
      "|4XZMPNXlRKTe9jXDeUzFFQoGOPNIOrjZfIY7vcECXNiXk1xKJgcz3yN5goB3oa4xoFLD8mTj420okQ|44       |5        |30        |8    |0                 |91                     |TFT13_JunkerKing |1           |3    |1         |\n",
      "|4XZMPNXlRKTe9jXDeUzFFQoGOPNIOrjZfIY7vcECXNiXk1xKJgcz3yN5goB3oa4xoFLD8mTj420okQ|44       |5        |30        |8    |0                 |91                     |TFT13_Martialist |0           |0    |3         |\n",
      "|4XZMPNXlRKTe9jXDeUzFFQoGOPNIOrjZfIY7vcECXNiXk1xKJgcz3yN5goB3oa4xoFLD8mTj420okQ|44       |5        |30        |8    |0                 |91                     |TFT13_Rebel      |1           |1    |4         |\n",
      "|4XZMPNXlRKTe9jXDeUzFFQoGOPNIOrjZfIY7vcECXNiXk1xKJgcz3yN5goB3oa4xoFLD8mTj420okQ|44       |5        |30        |8    |0                 |91                     |TFT13_Scrap      |0           |0    |4         |\n",
      "|4XZMPNXlRKTe9jXDeUzFFQoGOPNIOrjZfIY7vcECXNiXk1xKJgcz3yN5goB3oa4xoFLD8mTj420okQ|44       |5        |30        |8    |0                 |91                     |TFT13_Titan      |3           |4    |3         |\n",
      "|4XZMPNXlRKTe9jXDeUzFFQoGOPNIOrjZfIY7vcECXNiXk1xKJgcz3yN5goB3oa4xoFLD8mTj420okQ|44       |5        |30        |8    |0                 |91                     |TFT13_Warband    |0           |0    |4         |\n",
      "|DqaoIU1D3Dfm4fSRTyMq-FEZ1RJmNeYhY9vu4IkDbAxwH3ZrRsIzFuojzlP_ZjTKLXt_PfC1F8LIjw|14       |1        |37        |10   |6                 |203                    |TFT13_Ambassador |2           |4    |2         |\n",
      "|DqaoIU1D3Dfm4fSRTyMq-FEZ1RJmNeYhY9vu4IkDbAxwH3ZrRsIzFuojzlP_ZjTKLXt_PfC1F8LIjw|14       |1        |37        |10   |6                 |203                    |TFT13_Bruiser    |0           |0    |3         |\n",
      "|DqaoIU1D3Dfm4fSRTyMq-FEZ1RJmNeYhY9vu4IkDbAxwH3ZrRsIzFuojzlP_ZjTKLXt_PfC1F8LIjw|14       |1        |37        |10   |6                 |203                    |TFT13_Cabal      |3           |4    |4         |\n",
      "|DqaoIU1D3Dfm4fSRTyMq-FEZ1RJmNeYhY9vu4IkDbAxwH3ZrRsIzFuojzlP_ZjTKLXt_PfC1F8LIjw|14       |1        |37        |10   |6                 |203                    |TFT13_Challenger |0           |0    |3         |\n",
      "|DqaoIU1D3Dfm4fSRTyMq-FEZ1RJmNeYhY9vu4IkDbAxwH3ZrRsIzFuojzlP_ZjTKLXt_PfC1F8LIjw|14       |1        |37        |10   |6                 |203                    |TFT13_FormSwapper|1           |1    |2         |\n",
      "|DqaoIU1D3Dfm4fSRTyMq-FEZ1RJmNeYhY9vu4IkDbAxwH3ZrRsIzFuojzlP_ZjTKLXt_PfC1F8LIjw|14       |1        |37        |10   |6                 |203                    |TFT13_Infused    |0           |0    |3         |\n",
      "|DqaoIU1D3Dfm4fSRTyMq-FEZ1RJmNeYhY9vu4IkDbAxwH3ZrRsIzFuojzlP_ZjTKLXt_PfC1F8LIjw|14       |1        |37        |10   |6                 |203                    |TFT13_Martialist |0           |0    |3         |\n",
      "|DqaoIU1D3Dfm4fSRTyMq-FEZ1RJmNeYhY9vu4IkDbAxwH3ZrRsIzFuojzlP_ZjTKLXt_PfC1F8LIjw|14       |1        |37        |10   |6                 |203                    |TFT13_Rebel      |0           |0    |4         |\n",
      "|DqaoIU1D3Dfm4fSRTyMq-FEZ1RJmNeYhY9vu4IkDbAxwH3ZrRsIzFuojzlP_ZjTKLXt_PfC1F8LIjw|14       |1        |37        |10   |6                 |203                    |TFT13_Sorcerer   |3           |4    |3         |\n",
      "|DqaoIU1D3Dfm4fSRTyMq-FEZ1RJmNeYhY9vu4IkDbAxwH3ZrRsIzFuojzlP_ZjTKLXt_PfC1F8LIjw|14       |1        |37        |10   |6                 |203                    |TFT13_Warband    |1           |1    |4         |\n",
      "+------------------------------------------------------------------------------+---------+---------+----------+-----+------------------+-----------------------+-----------------+------------+-----+----------+\n",
      "only showing top 20 rows\n",
      "\n"
     ]
    }
   ],
   "source": [
    "df.where(F.col('metadata_match_id') == 'EUW1_7291286802')\\\n",
    "    .select('puuid', 'gold_left', 'placement', 'last_round', 'level', 'players_eliminated', 'total_damage_to_players', F.explode('traits').alias('traits'), 'units')\\\n",
    "    .select('puuid', 'gold_left', 'placement', 'last_round', 'level', 'players_eliminated', 'total_damage_to_players', 'traits.name', 'traits.tier_current',\n",
    "           'traits.style', 'traits.tier_total').show(truncate=False)"
   ]
  },
  {
   "cell_type": "code",
   "execution_count": 22,
   "id": "33d11859-8ba5-4f19-817e-6072f4cbd6c5",
   "metadata": {},
   "outputs": [
    {
     "name": "stdout",
     "output_type": "stream",
     "text": [
      "+--------------------+---------+---------+----------+-----+------------------+-----------------------+------------------+--------------------+------+----+\n",
      "|               puuid|gold_left|placement|last_round|level|players_eliminated|total_damage_to_players|      character_id|           itemNames|rarity|tier|\n",
      "+--------------------+---------+---------+----------+-----+------------------+-----------------------+------------------+--------------------+------+----+\n",
      "|4XZMPNXlRKTe9jXDe...|       44|        5|        30|    8|                 0|                     91|      TFT13_Irelia|                  []|     0|   2|\n",
      "|4XZMPNXlRKTe9jXDe...|       44|        5|        30|    8|                 0|                     91|       TFT13_Leona|                  []|     1|   2|\n",
      "|4XZMPNXlRKTe9jXDe...|       44|        5|        30|    8|                 0|                     91|        TFT13_Rell|[TFT_Item_Bramble...|     1|   1|\n",
      "|4XZMPNXlRKTe9jXDe...|       44|        5|        30|    8|                 0|                     91|      TFT13_Ezreal|                  []|     2|   1|\n",
      "|4XZMPNXlRKTe9jXDe...|       44|        5|        30|    8|                 0|                     91|TFT13_Heimerdinger|[TFT_Item_SpearOf...|     4|   2|\n",
      "|4XZMPNXlRKTe9jXDe...|       44|        5|        30|    8|                 0|                     91|      TFT13_Illaoi|[TFT_Item_RedBuff...|     4|   2|\n",
      "|4XZMPNXlRKTe9jXDe...|       44|        5|        30|    8|                 0|                     91|      TFT13_Rumble|[TFT13_Item_Acade...|     6|   1|\n",
      "|4XZMPNXlRKTe9jXDe...|       44|        5|        30|    8|                 0|                     91|     TFT13_Warwick|[TFT_Item_Infinit...|     8|   1|\n",
      "|DqaoIU1D3Dfm4fSRT...|       14|        1|        37|   10|                 6|                    203|    TFT13_Vladimir|                  []|     1|   2|\n",
      "|DqaoIU1D3Dfm4fSRT...|       14|        1|        37|   10|                 6|                    203|    TFT13_Tristana|                  []|     1|   2|\n",
      "|DqaoIU1D3Dfm4fSRT...|       14|        1|        37|   10|                 6|                    203|       tft13_swain|                  []|     2|   2|\n",
      "|DqaoIU1D3Dfm4fSRT...|       14|        1|        37|   10|                 6|                    203|  TFT13_Cassiopeia|                  []|     2|   1|\n",
      "|DqaoIU1D3Dfm4fSRT...|       14|        1|        37|   10|                 6|                    203|        TFT13_Nami|[TFT_Item_SpearOf...|     2|   2|\n",
      "|DqaoIU1D3Dfm4fSRT...|       14|        1|        37|   10|                 6|                    203|       TFT13_Elise|[TFT13_Item_Sorce...|     4|   2|\n",
      "|DqaoIU1D3Dfm4fSRT...|       14|        1|        37|   10|                 6|                    203|     TFT13_Ambessa|[TFT_Item_ChainVe...|     4|   2|\n",
      "|DqaoIU1D3Dfm4fSRT...|       14|        1|        37|   10|                 6|                    203|       TFT13_Garen|[TFT_Item_Dragons...|     4|   2|\n",
      "|DqaoIU1D3Dfm4fSRT...|       14|        1|        37|   10|                 6|                    203|         TFT13_Zoe|                  []|     4|   1|\n",
      "|DqaoIU1D3Dfm4fSRT...|       14|        1|        37|   10|                 6|                    203|     TFT13_LeBlanc|[TFT_Item_Jeweled...|     6|   2|\n",
      "|DqaoIU1D3Dfm4fSRT...|       14|        1|        37|   10|                 6|                    203|        TFT13_Sion|                  []|     9|   3|\n",
      "|bfWbsSQiKtdfCaxPU...|        1|        2|        37|    8|                 1|                    150|      TFT13_Irelia|                  []|     0|   2|\n",
      "|bfWbsSQiKtdfCaxPU...|        1|        2|        37|    8|                 1|                    150|        TFT13_Rell|                  []|     1|   2|\n",
      "|bfWbsSQiKtdfCaxPU...|        1|        2|        37|    8|                 1|                    150|       TFT13_Akali|[TFT_Item_Unstabl...|     1|   3|\n",
      "|bfWbsSQiKtdfCaxPU...|        1|        2|        37|    8|                 1|                    150|      TFT13_Beardy|[TFT_Item_Crowngu...|     2|   2|\n",
      "|bfWbsSQiKtdfCaxPU...|        1|        2|        37|    8|                 1|                    150| TFT13_TwistedFate|[TFT_Item_PowerGa...|     2|   3|\n",
      "|bfWbsSQiKtdfCaxPU...|        1|        2|        37|    8|                 1|                    150|     TFT13_Ambessa|[TFT_Item_Runaans...|     4|   2|\n",
      "|bfWbsSQiKtdfCaxPU...|        1|        2|        37|    8|                 1|                    150|      TFT13_Illaoi|[TFT_Item_Dragons...|     4|   2|\n",
      "|bfWbsSQiKtdfCaxPU...|        1|        2|        37|    8|                 1|                    150|    TFT13_MissMage|[TFT13_Item_Chall...|     8|   1|\n",
      "|hrNnMQX-XekVnlskQ...|        1|        8|        26|    6|                 0|                     27|     TFT13_Morgana|[TFT_Item_Morello...|     0|   3|\n",
      "|hrNnMQX-XekVnlskQ...|        1|        8|        26|    6|                 0|                     27|      TFT13_Singed|                  []|     0|   3|\n",
      "|hrNnMQX-XekVnlskQ...|        1|        8|        26|    6|                 0|                     27|         TFT13_Vex|                  []|     0|   3|\n",
      "|hrNnMQX-XekVnlskQ...|        1|        8|        26|    6|                 0|                     27|        TFT13_Rell|[TFT_Item_NightHa...|     1|   2|\n",
      "|hrNnMQX-XekVnlskQ...|        1|        8|        26|    6|                 0|                     27|        TFT13_Rell|                  []|     1|   2|\n",
      "|hrNnMQX-XekVnlskQ...|        1|        8|        26|    6|                 0|                     27| TFT13_RenataGlasc|[TFT_Item_Archang...|     1|   3|\n",
      "|f0qKlEv4sPZfZIwcn...|        1|        7|        28|    8|                 0|                     65|        TFT13_Zeri|[TFT_Item_LastWhi...|     1|   2|\n",
      "|f0qKlEv4sPZfZIwcn...|        1|        7|        28|    8|                 0|                     65| TFT13_NunuWillump|                  []|     2|   2|\n",
      "|f0qKlEv4sPZfZIwcn...|        1|        7|        28|    8|                 0|                     65|   TFT13_Gangplank|                  []|     2|   1|\n",
      "|f0qKlEv4sPZfZIwcn...|        1|        7|        28|    8|                 0|                     65|       TFT13_Elise|[TFT_Item_FrozenH...|     4|   2|\n",
      "|f0qKlEv4sPZfZIwcn...|        1|        7|        28|    8|                 0|                     65|     TFT13_DrMundo|                  []|     4|   1|\n",
      "|f0qKlEv4sPZfZIwcn...|        1|        7|        28|    8|                 0|                     65|      TFT13_Twitch|[TFT_Item_Deathbl...|     4|   2|\n",
      "|f0qKlEv4sPZfZIwcn...|        1|        7|        28|    8|                 0|                     65|          TFT13_Vi|[TFT_Item_Steraks...|     4|   2|\n",
      "|f0qKlEv4sPZfZIwcn...|        1|        7|        28|    8|                 0|                     65|      TFT13_Rumble|                  []|     6|   1|\n",
      "|-8TNcPruyzGFSODc5...|        1|        3|        33|    9|                 0|                    108|         TFT13_Lux|                  []|     0|   2|\n",
      "|-8TNcPruyzGFSODc5...|        1|        3|        33|    9|                 0|                    108|       TFT13_Leona|[TFT_Item_IonicSp...|     1|   2|\n",
      "|-8TNcPruyzGFSODc5...|        1|        3|        33|    9|                 0|                    108|        TFT13_Rell|                  []|     1|   2|\n",
      "|-8TNcPruyzGFSODc5...|        1|        3|        33|    9|                 0|                    108|      TFT13_Ezreal|                  []|     2|   2|\n",
      "|-8TNcPruyzGFSODc5...|        1|        3|        33|    9|                 0|                    108|      TFT13_Beardy|[TFT_Item_Warmogs...|     2|   2|\n",
      "|-8TNcPruyzGFSODc5...|        1|        3|        33|    9|                 0|                    108|TFT13_Heimerdinger|[TFT_Item_PowerGa...|     4|   2|\n",
      "|-8TNcPruyzGFSODc5...|        1|        3|        33|    9|                 0|                    108|       TFT13_Corki|[TFT_Item_Infinit...|     4|   2|\n",
      "|-8TNcPruyzGFSODc5...|        1|        3|        33|    9|                 0|                    108|       TFT13_Jayce| [TFT_Item_BlueBuff]|     6|   1|\n",
      "|-8TNcPruyzGFSODc5...|        1|        3|        33|    9|                 0|                    108|      TFT13_Rumble|[TFT_Item_Warmogs...|     6|   1|\n",
      "|-8TNcPruyzGFSODc5...|        1|        3|        33|    9|                 0|                    108| TFT13_JayceSummon|                  []|     9|   1|\n",
      "|fAS5kvMPPwOJo0j4L...|        0|        4|        31|    8|                 0|                     93|     TFT13_Morgana|                  []|     0|   2|\n",
      "|fAS5kvMPPwOJo0j4L...|        0|        4|        31|    8|                 0|                     93|       TFT13_Leona|                  []|     1|   2|\n",
      "|fAS5kvMPPwOJo0j4L...|        0|        4|        31|    8|                 0|                     93|        TFT13_Rell|[TFT_Item_Bramble...|     1|   2|\n",
      "|fAS5kvMPPwOJo0j4L...|        0|        4|        31|    8|                 0|                     93| TFT13_NunuWillump|[TFT4_Item_OrnnRa...|     2|   2|\n",
      "|fAS5kvMPPwOJo0j4L...|        0|        4|        31|    8|                 0|                     93|TFT13_Heimerdinger|[TFT_Item_BlueBuf...|     4|   1|\n",
      "|fAS5kvMPPwOJo0j4L...|        0|        4|        31|    8|                 0|                     93|       TFT13_Elise|                  []|     4|   1|\n",
      "|fAS5kvMPPwOJo0j4L...|        0|        4|        31|    8|                 0|                     93|       TFT13_Jayce|[TFT13_Item_Invok...|     6|   1|\n",
      "|fAS5kvMPPwOJo0j4L...|        0|        4|        31|    8|                 0|                     93|    TFT13_Malzahar|[TFT_Item_Hextech...|     6|   1|\n",
      "|fAS5kvMPPwOJo0j4L...|        0|        4|        31|    8|                 0|                     93| TFT13_JayceSummon|                  []|     9|   1|\n",
      "|3dZi0OZk4DyL-2Pjy...|        3|        6|        30|    8|                 0|                     64|       TFT13_Amumu|[TFT13_Item_Demol...|     0|   3|\n",
      "|3dZi0OZk4DyL-2Pjy...|        3|        6|        30|    8|                 0|                     64|    TFT13_Vladimir|[TFT_Item_FrozenH...|     1|   3|\n",
      "|3dZi0OZk4DyL-2Pjy...|        3|        6|        30|    8|                 0|                     64|    TFT13_Tristana|[TFT_Item_Infinit...|     1|   3|\n",
      "|3dZi0OZk4DyL-2Pjy...|        3|        6|        30|    8|                 0|                     64|       TFT13_Urgot|[TFT_Item_TearOfT...|     1|   2|\n",
      "|3dZi0OZk4DyL-2Pjy...|        3|        6|        30|    8|                 0|                     64|       TFT13_Prime|[TFT_Item_Bramble...|     1|   3|\n",
      "|3dZi0OZk4DyL-2Pjy...|        3|        6|        30|    8|                 0|                     64|      TFT13_FlyGuy|                  []|     2|   2|\n",
      "|3dZi0OZk4DyL-2Pjy...|        3|        6|        30|    8|                 0|                     64|       TFT13_Corki|                  []|     4|   1|\n",
      "|3dZi0OZk4DyL-2Pjy...|        3|        6|        30|    8|                 0|                     64|       TFT13_Corki|[TFT_Item_Madreds...|     4|   1|\n",
      "+--------------------+---------+---------+----------+-----+------------------+-----------------------+------------------+--------------------+------+----+\n",
      "\n"
     ]
    }
   ],
   "source": [
    "df.where(F.col('metadata_match_id') == 'EUW1_7291286802')\\\n",
    "    .select('puuid', 'gold_left', 'placement', 'last_round', 'level', 'players_eliminated', 'total_damage_to_players', F.explode('units').alias('units'))\\\n",
    "    .select('puuid', 'gold_left', 'placement', 'last_round', 'level', 'players_eliminated', 'total_damage_to_players', 'units.character_id', 'units.itemNames',\n",
    "           'units.rarity', 'units.tier').show(100)"
   ]
  },
  {
   "cell_type": "code",
   "execution_count": null,
   "id": "6f92d621-e7cf-4683-bbaf-ada913e2a428",
   "metadata": {},
   "outputs": [],
   "source": []
  }
 ],
 "metadata": {
  "kernelspec": {
   "display_name": "Python 3 (ipykernel)",
   "language": "python",
   "name": "python3"
  },
  "language_info": {
   "codemirror_mode": {
    "name": "ipython",
    "version": 3
   },
   "file_extension": ".py",
   "mimetype": "text/x-python",
   "name": "python",
   "nbconvert_exporter": "python",
   "pygments_lexer": "ipython3",
   "version": "3.10.12"
  }
 },
 "nbformat": 4,
 "nbformat_minor": 5
}
