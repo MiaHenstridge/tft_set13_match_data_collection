{
 "cells": [
  {
   "cell_type": "markdown",
   "id": "0cccba97-f180-41ef-afee-10840845aac2",
   "metadata": {},
   "source": [
    "# Step 2: Collect summonerId of Grandmaster TFT players"
   ]
  },
  {
   "cell_type": "code",
   "execution_count": 1,
   "id": "477534d3-7636-49e2-82bf-38a97b505393",
   "metadata": {},
   "outputs": [],
   "source": [
    "import pyspark.sql.types as T\n",
    "import pyspark.sql.functions as F\n",
    "\n",
    "from pyspark import SparkContext, SparkConf, SQLContext\n",
    "\n",
    "from dateutil.relativedelta import relativedelta\n",
    "from pyspark.sql.functions import pandas_udf\n",
    "from pyspark.sql.window import Window\n",
    "\n",
    "import pandas as pd\n",
    "import numpy as np\n",
    "\n",
    "from datetime import date, datetime, timedelta, timezone\n",
    "import os\n",
    "import json\n",
    "import requests\n",
    "import time\n",
    "import yaml"
   ]
  },
  {
   "cell_type": "code",
   "execution_count": 2,
   "id": "65e6705d-0601-4199-8f3d-fc45173c4cba",
   "metadata": {},
   "outputs": [
    {
     "name": "stderr",
     "output_type": "stream",
     "text": [
      "25/02/05 15:32:41 WARN Utils: Your hostname, LAPTOP-4O0SI9BK resolves to a loopback address: 127.0.1.1; using 172.26.83.22 instead (on interface eth0)\n",
      "25/02/05 15:32:41 WARN Utils: Set SPARK_LOCAL_IP if you need to bind to another address\n",
      "Setting default log level to \"WARN\".\n",
      "To adjust logging level use sc.setLogLevel(newLevel). For SparkR, use setLogLevel(newLevel).\n",
      "25/02/05 15:32:43 WARN NativeCodeLoader: Unable to load native-hadoop library for your platform... using builtin-java classes where applicable\n",
      "25/02/05 15:32:43 WARN SparkConf: Note that spark.local.dir will be overridden by the value set by the cluster manager (via SPARK_LOCAL_DIRS in mesos/standalone/kubernetes and LOCAL_DIRS in YARN).\n",
      "25/02/05 15:32:44 WARN Utils: Service 'SparkUI' could not bind on port 4040. Attempting port 4041.\n",
      "25/02/05 15:32:44 WARN Utils: Service 'SparkUI' could not bind on port 4041. Attempting port 4042.\n",
      "/usr/local/lib/python3.10/dist-packages/pyspark/sql/context.py:113: FutureWarning: Deprecated in 3.0.0. Use SparkSession.builder.getOrCreate() instead.\n",
      "  warnings.warn(\n"
     ]
    }
   ],
   "source": [
    "# set up a spark session\n",
    "appName = \"PySpark TFT players by rank\"\n",
    "master = \"local[*]\"\n",
    "conf = SparkConf() \\\n",
    "    .setAppName(appName) \\\n",
    "    .setMaster(master) \\\n",
    "    .set(\"spark.executor.memory\", \"40g\") \\\n",
    "    .set(\"spark.driver.memory\", \"40g\") \\\n",
    "    .set(\"spark.executor.memoryOverhead\", \"8g\") \\\n",
    "    .set(\"spark.local.dir\", \"/home/mai/spark-temp\") \\\n",
    "    .set(\"spark.sql.session.timeZone\", \"UTC\") \\\n",
    "    .set(\"spark.dynamicAllocation.enabled\", \"true\") \\\n",
    "    .set(\"spark.dynamicAllocation.minExecutors\", \"2\") \\\n",
    "    .set(\"spark.dynamicAllocation.maxExecutors\", \"50\") \\\n",
    "    .set(\"spark.speculation\", \"true\") \n",
    "   \n",
    "sc = SparkContext.getOrCreate(conf=conf)\n",
    "sqlContext = SQLContext(sc)\n",
    "spark = sqlContext.sparkSession"
   ]
  },
  {
   "cell_type": "markdown",
   "id": "52878f3f-e059-459b-b9c0-b8d79f36874b",
   "metadata": {},
   "source": [
    "## Set up"
   ]
  },
  {
   "cell_type": "code",
   "execution_count": 3,
   "id": "74c15366-9575-4e11-b62d-3bc89f0d3aa9",
   "metadata": {},
   "outputs": [],
   "source": [
    "# retrieve API key\n",
    "with open('./api_key.yaml', 'r') as file:\n",
    "    API_KEY = yaml.safe_load(file)['api_key']"
   ]
  },
  {
   "cell_type": "code",
   "execution_count": 15,
   "id": "1e22dbcd-078f-44ab-b2fd-6defbb9e5277",
   "metadata": {},
   "outputs": [],
   "source": [
    "# set up parameters for the querying the API\n",
    "REGION = 'kr'          # region of the player (KR or EUW1)\n",
    "BASE_URL = f'https://{REGION}.api.riotgames.com/tft/league/v1/grandmaster'     # API endpoint\n",
    "QUEUE = 'RANKED_TFT'   # queue of the player. We are interested in players who reached challenger in ranked queue\n",
    "TIER = 'GRANDMASTER'   # tier / rank of the player \n",
    "DIVISION = 'I'         # subdivision of the tier (For Master, Grandmaster, Challenger, there is only 1 subdivision so this defaults to I)"
   ]
  },
  {
   "cell_type": "code",
   "execution_count": 16,
   "id": "1c147376-292a-4e55-9cfd-00608f5274fc",
   "metadata": {},
   "outputs": [],
   "source": [
    "# construct the url and the headers with the API\n",
    "url = f'{BASE_URL}?{QUEUE}'\n",
    "headers = {\n",
    "        'X-Riot-Token': API_KEY\n",
    "    }"
   ]
  },
  {
   "cell_type": "markdown",
   "id": "231396b5-1a42-4b8e-ad5c-660f01e8198d",
   "metadata": {},
   "source": [
    "## Query the API"
   ]
  },
  {
   "cell_type": "code",
   "execution_count": 17,
   "id": "d0ee1d9f-8ee1-4d77-907f-1e435c8e791c",
   "metadata": {},
   "outputs": [],
   "source": [
    "# get the response\n",
    "response = requests.get(url, headers=headers)"
   ]
  },
  {
   "cell_type": "code",
   "execution_count": 18,
   "id": "c666f763-d61f-47f0-b263-1dbfebeb0514",
   "metadata": {},
   "outputs": [],
   "source": [
    "if response.status_code == 200:\n",
    "    # parse json response\n",
    "    data = response.json()['entries']"
   ]
  },
  {
   "cell_type": "code",
   "execution_count": 19,
   "id": "b3c8508c-47e6-4c16-b659-7483467dc72d",
   "metadata": {},
   "outputs": [],
   "source": [
    "# convert the json response into a dataframe\n",
    "tft_players = pd.json_normalize(data)"
   ]
  },
  {
   "cell_type": "code",
   "execution_count": 20,
   "id": "4ff5443a-8b4d-462f-8a80-19184daef64a",
   "metadata": {},
   "outputs": [
    {
     "data": {
      "text/html": [
       "<div>\n",
       "<style scoped>\n",
       "    .dataframe tbody tr th:only-of-type {\n",
       "        vertical-align: middle;\n",
       "    }\n",
       "\n",
       "    .dataframe tbody tr th {\n",
       "        vertical-align: top;\n",
       "    }\n",
       "\n",
       "    .dataframe thead th {\n",
       "        text-align: right;\n",
       "    }\n",
       "</style>\n",
       "<table border=\"1\" class=\"dataframe\">\n",
       "  <thead>\n",
       "    <tr style=\"text-align: right;\">\n",
       "      <th></th>\n",
       "      <th>summonerId</th>\n",
       "      <th>leaguePoints</th>\n",
       "      <th>rank</th>\n",
       "      <th>wins</th>\n",
       "      <th>losses</th>\n",
       "      <th>veteran</th>\n",
       "      <th>inactive</th>\n",
       "      <th>freshBlood</th>\n",
       "      <th>hotStreak</th>\n",
       "    </tr>\n",
       "  </thead>\n",
       "  <tbody>\n",
       "    <tr>\n",
       "      <th>0</th>\n",
       "      <td>dqmUNFs259mIFEdBVOxtiyHWzPZ6WXs6IQbmSw8S7Hh77w</td>\n",
       "      <td>1250</td>\n",
       "      <td>I</td>\n",
       "      <td>374</td>\n",
       "      <td>284</td>\n",
       "      <td>False</td>\n",
       "      <td>False</td>\n",
       "      <td>True</td>\n",
       "      <td>True</td>\n",
       "    </tr>\n",
       "    <tr>\n",
       "      <th>1</th>\n",
       "      <td>JCGB8OxzkrKchP6rK2MjNOimzWEW5n09oRWOjUjFAInZ0o...</td>\n",
       "      <td>1217</td>\n",
       "      <td>I</td>\n",
       "      <td>386</td>\n",
       "      <td>346</td>\n",
       "      <td>False</td>\n",
       "      <td>False</td>\n",
       "      <td>True</td>\n",
       "      <td>False</td>\n",
       "    </tr>\n",
       "    <tr>\n",
       "      <th>2</th>\n",
       "      <td>qcWxxzK64N_Hd_5jb-wIflEazUQiUuXANrvHbQ9_4o5vSdk</td>\n",
       "      <td>1213</td>\n",
       "      <td>I</td>\n",
       "      <td>387</td>\n",
       "      <td>330</td>\n",
       "      <td>False</td>\n",
       "      <td>False</td>\n",
       "      <td>False</td>\n",
       "      <td>False</td>\n",
       "    </tr>\n",
       "    <tr>\n",
       "      <th>3</th>\n",
       "      <td>zL5O66dVe1Mj2NOUBeGYY9HgXxxhn02LBHyuTBtIrPEwnZk</td>\n",
       "      <td>1193</td>\n",
       "      <td>I</td>\n",
       "      <td>163</td>\n",
       "      <td>100</td>\n",
       "      <td>False</td>\n",
       "      <td>False</td>\n",
       "      <td>True</td>\n",
       "      <td>True</td>\n",
       "    </tr>\n",
       "    <tr>\n",
       "      <th>4</th>\n",
       "      <td>9uUOsQ89Zuk1genCsk3cFy-y0FqLVwoUS_VLM7fXTG6EWY4</td>\n",
       "      <td>1192</td>\n",
       "      <td>I</td>\n",
       "      <td>122</td>\n",
       "      <td>66</td>\n",
       "      <td>False</td>\n",
       "      <td>False</td>\n",
       "      <td>False</td>\n",
       "      <td>True</td>\n",
       "    </tr>\n",
       "  </tbody>\n",
       "</table>\n",
       "</div>"
      ],
      "text/plain": [
       "                                          summonerId  leaguePoints rank  wins  \\\n",
       "0     dqmUNFs259mIFEdBVOxtiyHWzPZ6WXs6IQbmSw8S7Hh77w          1250    I   374   \n",
       "1  JCGB8OxzkrKchP6rK2MjNOimzWEW5n09oRWOjUjFAInZ0o...          1217    I   386   \n",
       "2    qcWxxzK64N_Hd_5jb-wIflEazUQiUuXANrvHbQ9_4o5vSdk          1213    I   387   \n",
       "3    zL5O66dVe1Mj2NOUBeGYY9HgXxxhn02LBHyuTBtIrPEwnZk          1193    I   163   \n",
       "4    9uUOsQ89Zuk1genCsk3cFy-y0FqLVwoUS_VLM7fXTG6EWY4          1192    I   122   \n",
       "\n",
       "   losses  veteran  inactive  freshBlood  hotStreak  \n",
       "0     284    False     False        True       True  \n",
       "1     346    False     False        True      False  \n",
       "2     330    False     False       False      False  \n",
       "3     100    False     False        True       True  \n",
       "4      66    False     False       False       True  "
      ]
     },
     "execution_count": 20,
     "metadata": {},
     "output_type": "execute_result"
    }
   ],
   "source": [
    "tft_players.head()"
   ]
  },
  {
   "cell_type": "code",
   "execution_count": 21,
   "id": "f51d4559-5d21-4d90-a629-c4c240e31071",
   "metadata": {},
   "outputs": [
    {
     "data": {
      "text/plain": [
       "(600, 9)"
      ]
     },
     "execution_count": 21,
     "metadata": {},
     "output_type": "execute_result"
    }
   ],
   "source": [
    "tft_players.shape"
   ]
  },
  {
   "cell_type": "code",
   "execution_count": 22,
   "id": "8f23f61c-c3e0-492f-b9eb-828be6220d6d",
   "metadata": {},
   "outputs": [],
   "source": [
    "# convert the Pandas dataframe into a PySpark dataframe for later usage\n",
    "tft_players = spark.createDataFrame(tft_players)"
   ]
  },
  {
   "cell_type": "code",
   "execution_count": 23,
   "id": "a04794ad-7c1f-4c34-a88e-29008d37f25d",
   "metadata": {},
   "outputs": [
    {
     "name": "stdout",
     "output_type": "stream",
     "text": [
      "+--------------------+------------+----+----+------+-------+--------+----------+---------+\n",
      "|          summonerId|leaguePoints|rank|wins|losses|veteran|inactive|freshBlood|hotStreak|\n",
      "+--------------------+------------+----+----+------+-------+--------+----------+---------+\n",
      "|dqmUNFs259mIFEdBV...|        1250|   I| 374|   284|  false|   false|      true|     true|\n",
      "|JCGB8OxzkrKchP6rK...|        1217|   I| 386|   346|  false|   false|      true|    false|\n",
      "|qcWxxzK64N_Hd_5jb...|        1213|   I| 387|   330|  false|   false|     false|    false|\n",
      "|zL5O66dVe1Mj2NOUB...|        1193|   I| 163|   100|  false|   false|      true|     true|\n",
      "|9uUOsQ89Zuk1genCs...|        1192|   I| 122|    66|  false|   false|     false|     true|\n",
      "|DLFOjULdDwm3vOgoe...|        1187|   I| 431|   389|   true|   false|     false|     true|\n",
      "|VBXyqNs_5AeYw1TL-...|        1171|   I| 379|   326|  false|   false|     false|    false|\n",
      "|RmfKs0P8FYoeMAunH...|        1168|   I| 178|   107|  false|   false|      true|    false|\n",
      "|zAbe6uOxsSobTkElj...|        1162|   I| 243|   168|  false|   false|      true|    false|\n",
      "|v_R3WeAGXHVNcrisa...|        1160|   I| 341|   286|   true|   false|     false|    false|\n",
      "|-6T9XzlI5vqgwAr64...|        1158|   I| 188|   133|   true|   false|     false|    false|\n",
      "|s4iCl5D6XRwp_SyFi...|        1156|   I| 596|   545|  false|   false|      true|     true|\n",
      "|Opdp0vOKRYUAHr7OO...|        1156|   I| 358|   312|  false|   false|      true|    false|\n",
      "|ofxkz6bZSOEhl-QAP...|        1155|   I| 221|   149|  false|   false|      true|    false|\n",
      "|gFY2pU8z3X6Amsjbd...|        1151|   I| 551|   399|  false|   false|      true|    false|\n",
      "|sKiKafS7V9HP3yV6E...|        1151|   I| 411|   337|   true|   false|     false|     true|\n",
      "|juCDpQBlYcecrXqT1...|        1151|   I| 119|    63|  false|   false|     false|     true|\n",
      "|XNo4c_6ci_zyUtsf4...|        1150|   I| 298|   235|  false|   false|      true|     true|\n",
      "|CRFjIO5P0qaiINA33...|        1147|   I| 470|   442|   true|   false|     false|     true|\n",
      "|JR8HZfV8lTIZov39W...|        1145|   I| 405|   324|  false|   false|     false|     true|\n",
      "+--------------------+------------+----+----+------+-------+--------+----------+---------+\n",
      "only showing top 20 rows\n",
      "\n"
     ]
    }
   ],
   "source": [
    "tft_players.show()"
   ]
  },
  {
   "cell_type": "code",
   "execution_count": 24,
   "id": "454bf942-44c9-435c-a022-10633d6867f1",
   "metadata": {},
   "outputs": [],
   "source": [
    "# write the PySpark dataframe to a parquet file\n",
    "tft_players.write.mode('overwrite').parquet(f'./data/tft_players/players_{REGION}_{TIER}_{DIVISION}.parquet')"
   ]
  },
  {
   "cell_type": "code",
   "execution_count": null,
   "id": "375c43a9-468d-4bd9-9821-4de77852e8b0",
   "metadata": {},
   "outputs": [],
   "source": []
  }
 ],
 "metadata": {
  "kernelspec": {
   "display_name": "Python 3 (ipykernel)",
   "language": "python",
   "name": "python3"
  },
  "language_info": {
   "codemirror_mode": {
    "name": "ipython",
    "version": 3
   },
   "file_extension": ".py",
   "mimetype": "text/x-python",
   "name": "python",
   "nbconvert_exporter": "python",
   "pygments_lexer": "ipython3",
   "version": "3.10.12"
  }
 },
 "nbformat": 4,
 "nbformat_minor": 5
}
