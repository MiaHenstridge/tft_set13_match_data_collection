{
 "cells": [
  {
   "cell_type": "code",
   "execution_count": 1,
   "id": "502a8da9-ea76-4cf0-af10-8be47dd2409f",
   "metadata": {},
   "outputs": [],
   "source": [
    "import pyspark.sql.types as T\n",
    "import pyspark.sql.functions as F\n",
    "\n",
    "from pyspark import SparkContext, SparkConf, SQLContext\n",
    "\n",
    "from dateutil.relativedelta import relativedelta\n",
    "from pyspark.sql.functions import pandas_udf\n",
    "from pyspark.sql.window import Window\n",
    "\n",
    "import pandas as pd\n",
    "import numpy as np\n",
    "\n",
    "from datetime import date, datetime, timedelta, timezone\n",
    "import os\n",
    "import json\n",
    "import requests\n",
    "import time\n",
    "import yaml"
   ]
  },
  {
   "cell_type": "code",
   "execution_count": 2,
   "id": "38c2b4ff-d31d-4239-88f5-fbaa90b2b215",
   "metadata": {},
   "outputs": [
    {
     "name": "stderr",
     "output_type": "stream",
     "text": [
      "25/02/05 14:59:50 WARN Utils: Your hostname, LAPTOP-4O0SI9BK resolves to a loopback address: 127.0.1.1; using 172.26.83.22 instead (on interface eth0)\n",
      "25/02/05 14:59:50 WARN Utils: Set SPARK_LOCAL_IP if you need to bind to another address\n",
      "Setting default log level to \"WARN\".\n",
      "To adjust logging level use sc.setLogLevel(newLevel). For SparkR, use setLogLevel(newLevel).\n",
      "25/02/05 14:59:52 WARN NativeCodeLoader: Unable to load native-hadoop library for your platform... using builtin-java classes where applicable\n",
      "25/02/05 14:59:52 WARN SparkConf: Note that spark.local.dir will be overridden by the value set by the cluster manager (via SPARK_LOCAL_DIRS in mesos/standalone/kubernetes and LOCAL_DIRS in YARN).\n",
      "/usr/local/lib/python3.10/dist-packages/pyspark/sql/context.py:113: FutureWarning: Deprecated in 3.0.0. Use SparkSession.builder.getOrCreate() instead.\n",
      "  warnings.warn(\n"
     ]
    }
   ],
   "source": [
    "appName = \"PySpark Lol players by rank\"\n",
    "master = \"local[*]\"\n",
    "conf = SparkConf() \\\n",
    "    .setAppName(appName) \\\n",
    "    .setMaster(master) \\\n",
    "    .set(\"spark.executor.memory\", \"40g\") \\\n",
    "    .set(\"spark.driver.memory\", \"40g\") \\\n",
    "    .set(\"spark.executor.memoryOverhead\", \"8g\") \\\n",
    "    .set(\"spark.local.dir\", \"/home/mai/spark-temp\") \\\n",
    "    .set(\"spark.sql.session.timeZone\", \"UTC\") \\\n",
    "    .set(\"spark.dynamicAllocation.enabled\", \"true\") \\\n",
    "    .set(\"spark.dynamicAllocation.minExecutors\", \"2\") \\\n",
    "    .set(\"spark.dynamicAllocation.maxExecutors\", \"50\") \\\n",
    "    .set(\"spark.speculation\", \"true\") \n",
    "   \n",
    "sc = SparkContext.getOrCreate(conf=conf)\n",
    "sqlContext = SQLContext(sc)\n",
    "spark = sqlContext.sparkSession"
   ]
  },
  {
   "cell_type": "markdown",
   "id": "98fd9279-f87d-437b-b2c1-1e33d6c94c48",
   "metadata": {},
   "source": [
    "## Set up"
   ]
  },
  {
   "cell_type": "code",
   "execution_count": 3,
   "id": "06db4aac-62c6-4b17-89e2-a99041a6d901",
   "metadata": {},
   "outputs": [],
   "source": [
    "with open('./api_key.yaml', 'r') as file:\n",
    "    API_KEY = yaml.safe_load(file)['api_key']"
   ]
  },
  {
   "cell_type": "code",
   "execution_count": 4,
   "id": "13ab8ffb-78ab-4526-b7fd-3abb7a66fc3e",
   "metadata": {},
   "outputs": [
    {
     "data": {
      "text/plain": [
       "'RGAPI-1a8d985b-72d0-45c3-a1b5-bd1be81564a0'"
      ]
     },
     "execution_count": 4,
     "metadata": {},
     "output_type": "execute_result"
    }
   ],
   "source": [
    "API_KEY"
   ]
  },
  {
   "cell_type": "markdown",
   "id": "7fd1d5a2-cffe-499d-9155-f799258dc28b",
   "metadata": {},
   "source": [
    "## Get the players by rank"
   ]
  },
  {
   "cell_type": "code",
   "execution_count": 14,
   "id": "85debaeb-801f-4150-9abf-28ec11585e61",
   "metadata": {},
   "outputs": [],
   "source": [
    "# function to get the players\n",
    "def get_players(queue, tier, division, entry_limit):\n",
    "    players = []\n",
    "    page = 1\n",
    "    is_paginating = True\n",
    "    while is_paginating:\n",
    "        # construct url\n",
    "        url = f'{BASE_URL}/{QUEUE}/{TIER}/{DIVISION}?page={page}'\n",
    "        # headers\n",
    "        headers = {\n",
    "            'X-Riot-Token': API_KEY\n",
    "        }\n",
    "        # send request\n",
    "        response = requests.get(url, headers=headers)\n",
    "\n",
    "        if response.status_code == 200:\n",
    "            # parse json response\n",
    "            data = response.json()\n",
    "            players.extend(data)\n",
    "            if len(data) < entry_limit:\n",
    "                is_paginating = False\n",
    "            else:\n",
    "                page += 1\n",
    "            time.sleep(1.2)\n",
    "        elif response.status_code == 429:  # Rate-limited response\n",
    "            print(\"Rate limit exceeded. Waiting before retrying...\")\n",
    "            # Extract \"Retry-After\" header if available\n",
    "            retry_after = int(response.headers.get(\"Retry-After\", 10))\n",
    "            time.sleep(retry_after)  # Wait for the specified time\n",
    "        else:\n",
    "            print(f'Error: {response.status_code} - {response.text}')\n",
    "            is_paginating = False\n",
    "    return players"
   ]
  },
  {
   "cell_type": "code",
   "execution_count": 31,
   "id": "a6fe20c0-13ad-4d53-8aec-52888052f9c9",
   "metadata": {},
   "outputs": [],
   "source": [
    "# parameters for the query\n",
    "REGION = \"kr\"       # change these parameters if necessary\n",
    "BASE_URL = f\"https://{REGION}.api.riotgames.com/lol/league-exp/v4/entries\"\n",
    "# api parameters\n",
    "QUEUE = 'RANKED_SOLO_5x5'   # keep this\n",
    "TIER = 'EMERALD'             # change these parameters if necessary\n",
    "DIVISION = \"IV\"             # change these parameters if necessary"
   ]
  },
  {
   "cell_type": "code",
   "execution_count": 32,
   "id": "5ebf6c25-0ac0-4966-9e0a-e9721caae1e0",
   "metadata": {},
   "outputs": [],
   "source": [
    "ENTRY_LIMIT = 205"
   ]
  },
  {
   "cell_type": "code",
   "execution_count": 33,
   "id": "bb903520-79c9-45e7-98c9-803c6ae6a3d8",
   "metadata": {},
   "outputs": [],
   "source": [
    "lol_players = get_players(QUEUE, TIER, DIVISION, ENTRY_LIMIT)"
   ]
  },
  {
   "cell_type": "code",
   "execution_count": 34,
   "id": "73f6780a-7cef-4fbb-866e-24830fc84161",
   "metadata": {},
   "outputs": [],
   "source": [
    "lol_players_df = pd.json_normalize(lol_players)\n",
    "lol_players_df = spark.createDataFrame(lol_players_df)"
   ]
  },
  {
   "cell_type": "code",
   "execution_count": 35,
   "id": "34e3c4a6-f57f-408d-bfcf-29e91114de50",
   "metadata": {},
   "outputs": [
    {
     "name": "stderr",
     "output_type": "stream",
     "text": [
      "[Stage 8:>                                                          (0 + 1) / 1]\r"
     ]
    },
    {
     "name": "stdout",
     "output_type": "stream",
     "text": [
      "+--------------------+---------------+-------+----+--------------------+------------+----+------+-------+--------+----------+---------+\n",
      "|            leagueId|      queueType|   tier|rank|          summonerId|leaguePoints|wins|losses|veteran|inactive|freshBlood|hotStreak|\n",
      "+--------------------+---------------+-------+----+--------------------+------------+----+------+-------+--------+----------+---------+\n",
      "|bb00d398-759c-40c...|RANKED_SOLO_5x5|EMERALD|  IV|3bfRAmfJlv7IKTL2J...|          45|   6|     7|  false|   false|      true|    false|\n",
      "|1a88576b-f067-472...|RANKED_SOLO_5x5|EMERALD|  IV|3UYt7jC3dd0guVS4-...|          45|   4|     7|  false|   false|     false|    false|\n",
      "|22347bcf-9140-49b...|RANKED_SOLO_5x5|EMERALD|  IV|nD98gXnWlrfy8hgE7...|           0|  33|    29|  false|   false|     false|    false|\n",
      "|f9255570-72f4-4d3...|RANKED_SOLO_5x5|EMERALD|  IV|Ex8GzYO0LI40K4IS5...|          27|  75|    70|  false|   false|     false|    false|\n",
      "|10316489-e3d3-4e5...|RANKED_SOLO_5x5|EMERALD|  IV|kQ5o0nDLSeKe2Im5x...|          34|  10|    11|  false|   false|     false|    false|\n",
      "|730e3709-9c48-40c...|RANKED_SOLO_5x5|EMERALD|  IV|CUEWbNmIRNHKBOC12...|          37|   5|     5|  false|   false|     false|    false|\n",
      "|5056fe9d-47ca-468...|RANKED_SOLO_5x5|EMERALD|  IV|0l2Gc4u5Uft-GPTRB...|           0|  25|    30|  false|   false|      true|    false|\n",
      "|fd178ab7-d033-4f9...|RANKED_SOLO_5x5|EMERALD|  IV|Xi2IFl0JID33IkBZT...|          50|  14|    12|  false|   false|      true|    false|\n",
      "|ca66179e-e7e1-433...|RANKED_SOLO_5x5|EMERALD|  IV|Ez_jgCdmT5draLZeS...|          43|   5|     4|  false|   false|     false|    false|\n",
      "|2191d0b8-f9f3-489...|RANKED_SOLO_5x5|EMERALD|  IV|pk0f8rkTCdA-Fn_rg...|          56|  14|    10|  false|   false|      true|    false|\n",
      "|fc066e5b-2321-4d2...|RANKED_SOLO_5x5|EMERALD|  IV|65NDv4E-Owo4wdFwQ...|           0|  27|    24|  false|   false|     false|    false|\n",
      "|68d1dca2-00ec-47c...|RANKED_SOLO_5x5|EMERALD|  IV|9fIG1sWY9KqMXhw00...|          98|  16|     8|  false|   false|     false|    false|\n",
      "|9cb867ca-e6a2-4a1...|RANKED_SOLO_5x5|EMERALD|  IV|xrI_8WJUUJqNQJUy7...|           2|  43|    24|  false|   false|     false|    false|\n",
      "|55653575-aee2-413...|RANKED_SOLO_5x5|EMERALD|  IV|CV_lOKKoD24srykXF...|          81|   8|     9|  false|   false|      true|    false|\n",
      "|d8d685ea-1838-42a...|RANKED_SOLO_5x5|EMERALD|  IV|YBVxWZWXkSyclFZVq...|          86|  26|    34|  false|   false|     false|    false|\n",
      "|8b620911-9b1c-47b...|RANKED_SOLO_5x5|EMERALD|  IV|J7dTGHyvcDpyB1Tbf...|           0|  42|    20|  false|   false|     false|    false|\n",
      "|8dae6712-ce73-4e1...|RANKED_SOLO_5x5|EMERALD|  IV|QEBUaGm0h2ujCJlXa...|          19|  67|    54|  false|   false|      true|    false|\n",
      "|8c127158-bdc9-471...|RANKED_SOLO_5x5|EMERALD|  IV|izRZQf1s6L9rNyMlU...|          13|   9|     4|  false|   false|     false|    false|\n",
      "|e73e78bd-8044-4ad...|RANKED_SOLO_5x5|EMERALD|  IV|xWuAmudAmAMcctCJi...|          22|  49|    42|  false|   false|      true|    false|\n",
      "|0a8fe7f4-b4a7-4fa...|RANKED_SOLO_5x5|EMERALD|  IV|nW6O-zeDw3Dw3n6eB...|           0|   1|     6|  false|   false|     false|    false|\n",
      "+--------------------+---------------+-------+----+--------------------+------------+----+------+-------+--------+----------+---------+\n",
      "only showing top 20 rows\n",
      "\n"
     ]
    },
    {
     "name": "stderr",
     "output_type": "stream",
     "text": [
      "                                                                                \r"
     ]
    }
   ],
   "source": [
    "lol_players_df.show()"
   ]
  },
  {
   "cell_type": "code",
   "execution_count": null,
   "id": "9764620f-a491-4ff9-b46b-b8dc68aab4b0",
   "metadata": {},
   "outputs": [],
   "source": [
    "len(lol_players)"
   ]
  },
  {
   "cell_type": "code",
   "execution_count": 36,
   "id": "dbf507f7-264a-4e51-af57-8bd079b5df51",
   "metadata": {},
   "outputs": [
    {
     "name": "stderr",
     "output_type": "stream",
     "text": [
      "                                                                                \r"
     ]
    }
   ],
   "source": [
    "lol_players_df.write.mode('overwrite').parquet(f'./data/players/players_{REGION}_{TIER}_{DIVISION}.parquet')"
   ]
  },
  {
   "cell_type": "code",
   "execution_count": null,
   "id": "050b93ed-e87f-43c3-9088-039b61b9a981",
   "metadata": {},
   "outputs": [],
   "source": []
  },
  {
   "cell_type": "code",
   "execution_count": null,
   "id": "a83c132e-33cb-4a1e-a36a-6459c9154fbd",
   "metadata": {},
   "outputs": [],
   "source": []
  }
 ],
 "metadata": {
  "kernelspec": {
   "display_name": "Python 3 (ipykernel)",
   "language": "python",
   "name": "python3"
  },
  "language_info": {
   "codemirror_mode": {
    "name": "ipython",
    "version": 3
   },
   "file_extension": ".py",
   "mimetype": "text/x-python",
   "name": "python",
   "nbconvert_exporter": "python",
   "pygments_lexer": "ipython3",
   "version": "3.10.12"
  }
 },
 "nbformat": 4,
 "nbformat_minor": 5
}
