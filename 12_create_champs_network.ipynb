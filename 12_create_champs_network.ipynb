{
 "cells": [
  {
   "cell_type": "code",
   "execution_count": 1,
   "id": "e9b31fab-f8e5-44e7-8d11-4ea13a091e70",
   "metadata": {},
   "outputs": [],
   "source": [
    "import pandas as pd\n",
    "import numpy as np\n",
    "from graph_tool.all import *\n",
    "import matplotlib.pyplot as plt\n",
    "import seaborn as sns\n",
    "import matplotlib\n",
    "import matplotlib.cm\n",
    "import os\n",
    "import json\n",
    "from itertools import combinations\n",
    "\n",
    "%matplotlib inline\n",
    "%config InlineBackend.figure_format = 'svg'"
   ]
  },
  {
   "cell_type": "code",
   "execution_count": 2,
   "id": "7857f10a-3997-4366-9e7e-12bb16ea59ca",
   "metadata": {},
   "outputs": [],
   "source": [
    "VISUALIZATION_DIR = './visualizations/'\n",
    "ALL_FEATURE_DIR = './data/all_features/'\n",
    "\n",
    "CHAMP_NETWORK_DIR = './data/data'"
   ]
  },
  {
   "cell_type": "markdown",
   "id": "d17c0248-73b0-4b4b-853e-71ed1661bea1",
   "metadata": {},
   "source": [
    "## Load data"
   ]
  },
  {
   "cell_type": "markdown",
   "id": "7c6dfd44-0ab3-44cd-bb24-52c0153f75fc",
   "metadata": {},
   "source": [
    "### Mid-elo data"
   ]
  },
  {
   "cell_type": "code",
   "execution_count": 3,
   "id": "ac6edb2a-ebec-4cec-a7d0-b955a73e6d3b",
   "metadata": {},
   "outputs": [],
   "source": [
    "REGION = 'euw1'\n",
    "TIER = 'GOLD'\n",
    "DIVISION = 'I'"
   ]
  },
  {
   "cell_type": "code",
   "execution_count": 4,
   "id": "18aefe3d-2467-4dd6-84e4-eb3da473c7d6",
   "metadata": {},
   "outputs": [],
   "source": [
    "gold_eu = pd.read_parquet(os.path.join(ALL_FEATURE_DIR, f'all_features_{REGION}_{TIER}_{DIVISION}.parquet'))"
   ]
  },
  {
   "cell_type": "code",
   "execution_count": 5,
   "id": "6e7ffec0-d81c-430d-b900-8d0becbae7b1",
   "metadata": {},
   "outputs": [],
   "source": [
    "REGION = 'kr'\n",
    "TIER = 'GOLD'\n",
    "DIVISION = 'I'"
   ]
  },
  {
   "cell_type": "code",
   "execution_count": 6,
   "id": "5d33e7b1-2f00-49ed-a0fc-24b48e76047a",
   "metadata": {},
   "outputs": [],
   "source": [
    "gold_kr = pd.read_parquet(os.path.join(ALL_FEATURE_DIR, f'all_features_{REGION}_{TIER}_{DIVISION}.parquet'))"
   ]
  },
  {
   "cell_type": "code",
   "execution_count": 7,
   "id": "2aef9e33-adde-4fc9-8f95-89ba8bb3e119",
   "metadata": {},
   "outputs": [],
   "source": [
    "# merge\n",
    "mid_elo = pd.concat([gold_eu, gold_kr], axis=0)"
   ]
  },
  {
   "cell_type": "code",
   "execution_count": 8,
   "id": "f3865ede-5e7a-4f60-a819-aa6cbd5a31da",
   "metadata": {},
   "outputs": [],
   "source": [
    "mid_elo = mid_elo[['metadata_match_id', 'puuid', 'units', 'placement', 'win']]"
   ]
  },
  {
   "cell_type": "code",
   "execution_count": 9,
   "id": "501efbbb-c566-43be-80ea-cfbf3227822c",
   "metadata": {},
   "outputs": [
    {
     "data": {
      "text/plain": [
       "(139824, 5)"
      ]
     },
     "execution_count": 9,
     "metadata": {},
     "output_type": "execute_result"
    }
   ],
   "source": [
    "mid_elo.shape"
   ]
  },
  {
   "cell_type": "code",
   "execution_count": 10,
   "id": "4b168c86-1491-4a23-838d-9e57160e1ba0",
   "metadata": {},
   "outputs": [],
   "source": [
    "mid_elo['unit_name'] = mid_elo['units'].apply(lambda x: set([i['unit_name'] for i in x]))"
   ]
  },
  {
   "cell_type": "markdown",
   "id": "45059f32-a6a3-4b0f-9e69-c3bb22221ea5",
   "metadata": {},
   "source": [
    "### High-elo data"
   ]
  },
  {
   "cell_type": "markdown",
   "id": "32fe3eda-8dde-41ab-8743-05cccf15731e",
   "metadata": {},
   "source": [
    "Challenger"
   ]
  },
  {
   "cell_type": "code",
   "execution_count": 11,
   "id": "2df3761d-1c8c-4b0e-9a79-89b0d6af50e3",
   "metadata": {},
   "outputs": [],
   "source": [
    "REGION = 'euw1'\n",
    "TIER = 'CHALLENGER'\n",
    "DIVISION = 'I'"
   ]
  },
  {
   "cell_type": "code",
   "execution_count": 12,
   "id": "f070bb80-5dc6-4f70-938c-b4e2f0d46ad0",
   "metadata": {},
   "outputs": [],
   "source": [
    "chal_eu = pd.read_parquet(os.path.join(ALL_FEATURE_DIR, f'all_features_{REGION}_{TIER}_{DIVISION}.parquet'))"
   ]
  },
  {
   "cell_type": "code",
   "execution_count": 13,
   "id": "8c19e500-f9ba-4bf7-9830-2613b4f6a271",
   "metadata": {},
   "outputs": [],
   "source": [
    "REGION = 'kr'\n",
    "TIER = 'CHALLENGER'\n",
    "DIVISION = 'I'"
   ]
  },
  {
   "cell_type": "code",
   "execution_count": 14,
   "id": "378fe155-c4c9-44d8-a653-779edd726f23",
   "metadata": {},
   "outputs": [],
   "source": [
    "chal_kr = pd.read_parquet(os.path.join(ALL_FEATURE_DIR, f'all_features_{REGION}_{TIER}_{DIVISION}.parquet'))"
   ]
  },
  {
   "cell_type": "markdown",
   "id": "e779c0d3-bb5d-490d-a5a6-b09d7d4e1e47",
   "metadata": {},
   "source": [
    "Grandmaster"
   ]
  },
  {
   "cell_type": "code",
   "execution_count": 15,
   "id": "dee82a29-6106-409e-9838-39afc4ea5e72",
   "metadata": {},
   "outputs": [],
   "source": [
    "REGION = 'euw1'\n",
    "TIER = 'GRANDMASTER'\n",
    "DIVISION = 'I'"
   ]
  },
  {
   "cell_type": "code",
   "execution_count": 16,
   "id": "0244f262-087c-4fc0-8969-25a09fbc8004",
   "metadata": {},
   "outputs": [],
   "source": [
    "gm_eu = pd.read_parquet(os.path.join(ALL_FEATURE_DIR, f'all_features_{REGION}_{TIER}_{DIVISION}.parquet'))"
   ]
  },
  {
   "cell_type": "code",
   "execution_count": 17,
   "id": "00bfa4d7-d463-4585-a998-b9b9f8344bec",
   "metadata": {},
   "outputs": [],
   "source": [
    "REGION = 'kr'\n",
    "TIER = 'GRANDMASTER'\n",
    "DIVISION = 'I'"
   ]
  },
  {
   "cell_type": "code",
   "execution_count": 18,
   "id": "e2f2cb40-6283-4347-9479-1d13add34f3e",
   "metadata": {},
   "outputs": [],
   "source": [
    "gm_kr = pd.read_parquet(os.path.join(ALL_FEATURE_DIR, f'all_features_{REGION}_{TIER}_{DIVISION}.parquet'))"
   ]
  },
  {
   "cell_type": "markdown",
   "id": "d98bbebd-1d22-4078-bdfa-26b71de6ee20",
   "metadata": {},
   "source": [
    "Merge"
   ]
  },
  {
   "cell_type": "code",
   "execution_count": 19,
   "id": "6319f139-59c6-4e8b-9cae-1c4abc9dec6a",
   "metadata": {},
   "outputs": [],
   "source": [
    "high_elo = pd.concat([chal_eu, chal_kr, gm_eu, gm_kr], axis=0)"
   ]
  },
  {
   "cell_type": "code",
   "execution_count": 20,
   "id": "4137feec-8160-4086-94f8-c322bfcfc183",
   "metadata": {},
   "outputs": [],
   "source": [
    "high_elo = high_elo[['metadata_match_id', 'puuid', 'units', 'placement', 'win']]"
   ]
  },
  {
   "cell_type": "code",
   "execution_count": 21,
   "id": "3f6375da-3454-48c9-9cb5-14300dce70af",
   "metadata": {},
   "outputs": [
    {
     "data": {
      "text/plain": [
       "(198496, 5)"
      ]
     },
     "execution_count": 21,
     "metadata": {},
     "output_type": "execute_result"
    }
   ],
   "source": [
    "high_elo.shape"
   ]
  },
  {
   "cell_type": "code",
   "execution_count": 22,
   "id": "e8fead08-7485-4dd8-9a3e-03d23887ed81",
   "metadata": {},
   "outputs": [],
   "source": [
    "high_elo['unit_name'] = high_elo['units'].apply(lambda x: set([i['unit_name'] for i in x]))"
   ]
  },
  {
   "cell_type": "markdown",
   "id": "9b6a4204-5b4d-4b92-9d1a-40c9701b46b0",
   "metadata": {},
   "source": [
    "## Load reference data"
   ]
  },
  {
   "cell_type": "code",
   "execution_count": 23,
   "id": "2f322452-3649-4854-a157-5f6edbf026c0",
   "metadata": {},
   "outputs": [],
   "source": [
    "# create the vertices - all units from set 13\n",
    "DATA_DRAGON_DIR = './data/data_dragon/set13/'"
   ]
  },
  {
   "cell_type": "code",
   "execution_count": 24,
   "id": "a209fc0c-2984-4b78-93e6-4969c68a1520",
   "metadata": {},
   "outputs": [],
   "source": [
    "with open(os.path.join(DATA_DRAGON_DIR, 'units.json'), 'r') as file:\n",
    "    units = json.load(file)"
   ]
  },
  {
   "cell_type": "code",
   "execution_count": 25,
   "id": "9565f0fb-ef4c-46a5-af12-b52f57e9edd6",
   "metadata": {},
   "outputs": [],
   "source": [
    "SET13_UNITS = [units[i]['name'] for i in units]"
   ]
  },
  {
   "cell_type": "code",
   "execution_count": 26,
   "id": "a82310f9-bce6-4f22-993b-251fe84a3a91",
   "metadata": {},
   "outputs": [],
   "source": [
    "unit_costs = {units[i]['name']: units[i]['tier'] for i in units}"
   ]
  },
  {
   "cell_type": "code",
   "execution_count": null,
   "id": "5f4d6376-aea7-41c9-a061-d23be306e1a2",
   "metadata": {},
   "outputs": [],
   "source": []
  },
  {
   "cell_type": "markdown",
   "id": "b31c8ba3-60c8-4da8-9d08-702ffe8959ef",
   "metadata": {
    "jp-MarkdownHeadingCollapsed": true
   },
   "source": [
    "## Create network"
   ]
  },
  {
   "cell_type": "code",
   "execution_count": 19,
   "id": "3923c8b4-7cb0-4223-a749-0b1b3c6d14bc",
   "metadata": {},
   "outputs": [],
   "source": [
    "# # initialize empty graph\n",
    "# g_mid = Graph(directed=False)\n",
    "# g_high = Graph(directed=False)"
   ]
  },
  {
   "cell_type": "code",
   "execution_count": 21,
   "id": "b327c603-cab5-4ede-b28f-f9e2049c6c9f",
   "metadata": {},
   "outputs": [],
   "source": [
    "# # Add a vertex property map to store names\n",
    "# vname_mid = g_mid.new_vp(\"string\")\n",
    "# vname_high = g_high.new_vp(\"string\")\n",
    "\n",
    "# # add vertices to the graph and add vertex property\n",
    "# for unit in SET13_UNITS:\n",
    "#     v = g_mid.add_vertex()\n",
    "#     vname_mid[v] = unit\n",
    "\n",
    "#     v = g_high.add_vertex()\n",
    "#     vname_high[v] = unit\n",
    "\n",
    "# # Attach the property to the graph\n",
    "# g_mid.vp[\"name\"] = vname_mid\n",
    "# g_high.vp[\"name\"] = vname_high"
   ]
  },
  {
   "cell_type": "code",
   "execution_count": 22,
   "id": "0bc8e989-fbd6-4d73-bf30-fe32f58a2997",
   "metadata": {},
   "outputs": [],
   "source": [
    "# unit_vertices_mid = {g_mid.vp['name'][v]: v for v in g_mid.vertices()}\n",
    "# unit_vertices_high = {g_high.vp['name'][v]: v for v in g_high.vertices()}"
   ]
  },
  {
   "cell_type": "code",
   "execution_count": 23,
   "id": "663aa4c3-d2dd-4e83-ab0e-af824a5afdc7",
   "metadata": {},
   "outputs": [],
   "source": [
    "# # add edges to graph\n",
    "# def create_edges(unit_list):\n",
    "#     unit_list = set([i for i in unit_list if i in SET13_UNITS])    # exclude summon units\n",
    "#     return [(u1, u2) for (u1, u2) in combinations(unit_list, 2)]"
   ]
  },
  {
   "cell_type": "code",
   "execution_count": 24,
   "id": "a41a2492-3aac-43f4-b431-2218390231ea",
   "metadata": {},
   "outputs": [],
   "source": [
    "# # create edge property for weight\n",
    "# eweight_mid = g_mid.new_edge_property('int')\n",
    "# eweight_high = g_high.new_edge_property('int')"
   ]
  },
  {
   "cell_type": "code",
   "execution_count": 25,
   "id": "b41f9c1f-b870-4316-8d73-8c28f346a755",
   "metadata": {},
   "outputs": [],
   "source": [
    "# def add_weighted_edges_from_edgelist(g, eweight, edge_list, weight=1):\n",
    "#     for (unit1, unit2) in edge_list:\n",
    "#         unit_vertices = {g.vp['name'][v]: v for v in g.vertices()}\n",
    "#         # get vertex indices of units\n",
    "#         (v1, v2) = (unit_vertices[unit1], unit_vertices[unit2])\n",
    "#         # check if edge already exists\n",
    "#         edge_ = g.edge(v1, v2) or g.edge(v2, v1)\n",
    "#         if edge_:\n",
    "#             eweight[(v1, v2)] += weight  # Increase weight if edge exists\n",
    "#         else:\n",
    "#             edge_ = g.add_edge(v1, v2)  # Add new edge\n",
    "#             eweight[edge_] = weight  # Set initial weight"
   ]
  },
  {
   "cell_type": "code",
   "execution_count": 26,
   "id": "1264b796-d8b3-4986-97d4-3667291d2dc8",
   "metadata": {},
   "outputs": [],
   "source": [
    "# edge_ls_mid = mid_elo['unit_name'].apply(create_edges)\n",
    "# edge_ls_high = high_elo['unit_name'].apply(create_edges)"
   ]
  },
  {
   "cell_type": "code",
   "execution_count": 40,
   "id": "66370f15-9e59-4b07-b95d-1a42b88e0143",
   "metadata": {},
   "outputs": [],
   "source": [
    "# for ls in edge_ls_mid:\n",
    "#     add_weighted_edges_from_edgelist(g_mid, eweight_mid, ls)"
   ]
  },
  {
   "cell_type": "code",
   "execution_count": 27,
   "id": "29a56fc9-70e2-4c35-a3dc-407420a41aab",
   "metadata": {},
   "outputs": [],
   "source": [
    "# for ls in edge_ls_high:\n",
    "#     add_weighted_edges_from_edgelist(g_high, eweight_high, ls)"
   ]
  },
  {
   "cell_type": "code",
   "execution_count": 28,
   "id": "2d401582-0367-4d87-a9ca-f5e5ff79d2c5",
   "metadata": {},
   "outputs": [],
   "source": [
    "# g_mid.ep['weight'] = eweight_mid\n",
    "# g_high.ep['weight'] = eweight_high"
   ]
  },
  {
   "cell_type": "code",
   "execution_count": null,
   "id": "dd06d530-d01c-4751-a566-37282997673b",
   "metadata": {},
   "outputs": [],
   "source": []
  },
  {
   "cell_type": "markdown",
   "id": "517eaf5c-1cb8-45bd-8f8d-de5f7ddce76f",
   "metadata": {
    "jp-MarkdownHeadingCollapsed": true
   },
   "source": [
    "## Save networks"
   ]
  },
  {
   "cell_type": "code",
   "execution_count": 29,
   "id": "d52db617-f347-436d-a8aa-6954133425a2",
   "metadata": {},
   "outputs": [],
   "source": [
    "# g_mid.save(os.path.join(VISUALIZATION_DIR, 'mid_champs.gt'))\n",
    "# g_high.save(os.path.join(VISUALIZATION_DIR, 'high_champs.gt'))"
   ]
  },
  {
   "cell_type": "code",
   "execution_count": null,
   "id": "82c90096-1e17-46fc-a50a-5460445d540a",
   "metadata": {},
   "outputs": [],
   "source": []
  },
  {
   "cell_type": "markdown",
   "id": "4cb2162f-6143-460c-932a-08b5f7aa580b",
   "metadata": {},
   "source": [
    "## Load networks"
   ]
  },
  {
   "cell_type": "code",
   "execution_count": 27,
   "id": "f2ea2e40-93ee-4123-8ade-6a39f7d1143b",
   "metadata": {},
   "outputs": [],
   "source": [
    "g_mid = graph_tool.load_graph(os.path.join(VISUALIZATION_DIR, 'mid_champs.gt'))\n",
    "g_high = graph_tool.load_graph(os.path.join(VISUALIZATION_DIR, 'high_champs.gt'))"
   ]
  },
  {
   "cell_type": "code",
   "execution_count": 28,
   "id": "528e95b5-8032-4bf6-9c72-a2a32ff733b5",
   "metadata": {},
   "outputs": [],
   "source": [
    "import cairo"
   ]
  },
  {
   "cell_type": "code",
   "execution_count": 29,
   "id": "761e7419-28a1-4126-a4ee-e193bf335b71",
   "metadata": {},
   "outputs": [],
   "source": [
    "# add champ bg splashart add vertex property\n",
    "vsurface_mid = g_mid.new_vp('object')\n",
    "vsurface_high = g_high.new_vp('object')\n",
    "\n",
    "CHAMP_IMG_DIR = './data/data_visualization_final_project/img/champs/'\n",
    "# retrieve image link for each champ\n",
    "unit_images = {units[champ]['name']: cairo.ImageSurface.create_from_png(os.path.join(CHAMP_IMG_DIR, units[champ]['image']['full'])) for champ in units}\n",
    "\n",
    "for v in g_mid.vertices():\n",
    "    vsurface_mid[v] = unit_images[g_mid.vp['name'][v]]\n",
    "\n",
    "for v in g_high.vertices():\n",
    "    vsurface_high[v] = unit_images[g_high.vp['name'][v]]\n",
    "\n",
    "g_mid.vp['image'] = vsurface_mid\n",
    "g_high.vp['image'] = vsurface_high"
   ]
  },
  {
   "cell_type": "markdown",
   "id": "5ac16a56-691d-42e1-ac0f-b2d4275b32ff",
   "metadata": {},
   "source": [
    "## Adding more properties to vertices"
   ]
  },
  {
   "cell_type": "code",
   "execution_count": 30,
   "id": "a13ece0b-7b1c-408b-a623-fa2e53d52051",
   "metadata": {},
   "outputs": [],
   "source": [
    "vcolor_mid = g_mid.new_vp('vector<double>')\n",
    "vcolor_high = g_high.new_vp('vector<double>')"
   ]
  },
  {
   "cell_type": "code",
   "execution_count": 31,
   "id": "bd65d225-05be-4e1f-a6f8-c08ccc5e42d1",
   "metadata": {},
   "outputs": [],
   "source": [
    "\n",
    "for v in g_mid.vertices():\n",
    "    if unit_costs[g_mid.vp.name[v]] == 1:\n",
    "        vcolor_mid[v] = (0.5, 0.5, 0.5, 0.9)\n",
    "    elif unit_costs[g_mid.vp.name[v]] == 2:\n",
    "        vcolor_mid[v] = (0.0, 1.0, 0.0, 0.9)\n",
    "    elif unit_costs[g_mid.vp.name[v]] == 3:\n",
    "        vcolor_mid[v] = (0.0, 0.0, 1.0, 0.9)\n",
    "    elif unit_costs[g_mid.vp.name[v]] == 4:\n",
    "        vcolor_mid[v] = (0.5, 0.0, 0.5, 0.9)\n",
    "    elif unit_costs[g_mid.vp.name[v]] == 5:\n",
    "        vcolor_mid[v] = (1.0, 0.647, 0.0, 0.9)\n",
    "    else:\n",
    "        vcolor_mid[v] = (1.0, 0.0, 0.0, 0.9)\n",
    "\n",
    "g_mid.vp['color'] = vcolor_mid"
   ]
  },
  {
   "cell_type": "code",
   "execution_count": 32,
   "id": "30ae370b-2615-470f-89d5-e139d091a247",
   "metadata": {},
   "outputs": [],
   "source": [
    "\n",
    "for v in g_high.vertices():\n",
    "    if unit_costs[g_high.vp.name[v]] == 1:\n",
    "        vcolor_high[v] = (0.5, 0.5, 0.5, 0.9)\n",
    "    elif unit_costs[g_high.vp.name[v]] == 2:\n",
    "        vcolor_high[v] = (0.0, 1.0, 0.0, 0.9)\n",
    "    elif unit_costs[g_high.vp.name[v]] == 3:\n",
    "        vcolor_high[v] = (0.0, 0.0, 1.0, 0.9)\n",
    "    elif unit_costs[g_high.vp.name[v]] == 4:\n",
    "        vcolor_high[v] = (0.5, 0.0, 0.5, 0.9)\n",
    "    elif unit_costs[g_high.vp.name[v]] == 5:\n",
    "        vcolor_high[v] = (1.0, 0.647, 0.0, 0.9)\n",
    "    else:\n",
    "        vcolor_high[v] = (1.0, 0.0, 0.0, 0.9)\n",
    "\n",
    "g_high.vp['color'] = vcolor_high"
   ]
  },
  {
   "cell_type": "code",
   "execution_count": 33,
   "id": "c6ffcbd0-8619-4936-aca9-b2fdf65c7c91",
   "metadata": {},
   "outputs": [],
   "source": [
    "# calculate unit play rate\n",
    "mid_elo['unit_name'] = mid_elo['unit_name'].apply(lambda x: set(x))\n",
    "\n",
    "unit_freq_mid = (mid_elo.explode('unit_name')\n",
    "                 .groupby(['metadata_match_id', 'puuid'])['unit_name'].value_counts().reset_index()\n",
    "                 .groupby('unit_name')[['metadata_match_id', 'puuid']].count()\n",
    "                 .drop('metadata_match_id', axis=1)\n",
    "                 .rename(columns={'puuid': 'play_count'})\n",
    "            )\n",
    "unit_freq_mid['play_rate'] = unit_freq_mid['play_count'] / mid_elo.shape[0]"
   ]
  },
  {
   "cell_type": "code",
   "execution_count": 34,
   "id": "c214d059-b49c-4d48-81a5-c8b158d5527e",
   "metadata": {},
   "outputs": [],
   "source": [
    "high_elo['unit_name'] = high_elo['unit_name'].apply(lambda x: set(x))\n",
    "\n",
    "unit_freq_high = (high_elo.explode('unit_name')\n",
    "                 .groupby(['metadata_match_id', 'puuid'])['unit_name'].value_counts().reset_index()\n",
    "                 .groupby('unit_name')[['metadata_match_id', 'puuid']].count()\n",
    "                 .drop('metadata_match_id', axis=1)\n",
    "                 .rename(columns={'puuid': 'play_count'})\n",
    "            )\n",
    "unit_freq_high['play_rate'] = unit_freq_high['play_count'] / high_elo.shape[0]"
   ]
  },
  {
   "cell_type": "code",
   "execution_count": 35,
   "id": "b655f79a-d633-4937-ad85-2629e0abaf25",
   "metadata": {},
   "outputs": [],
   "source": [
    "# calculate unit winrate\n",
    "unit_wr_mid = mid_elo.explode('unit_name').groupby('unit_name')['win'].mean()\n",
    "unit_wr_high = high_elo.explode('unit_name').groupby('unit_name')['win'].mean()"
   ]
  },
  {
   "cell_type": "code",
   "execution_count": 36,
   "id": "e5fbbfd5-998e-4e8d-8571-7cc361e58714",
   "metadata": {},
   "outputs": [],
   "source": [
    "vfreq_mid = g_mid.new_vp('float')\n",
    "\n",
    "for v in g_mid.vertices():\n",
    "    vfreq_mid[v] = unit_freq_mid.loc[g_mid.vp.name[v]]['play_rate']\n",
    "\n",
    "g_mid.vp.frequency = vfreq_mid"
   ]
  },
  {
   "cell_type": "code",
   "execution_count": 37,
   "id": "2e916ea2-795e-48b7-abb3-9891518e2ec0",
   "metadata": {},
   "outputs": [],
   "source": [
    "vfreq_high = g_high.new_vp('float')\n",
    "\n",
    "for v in g_high.vertices():\n",
    "    vfreq_high[v] = unit_freq_high.loc[g_high.vp.name[v]]['play_rate']\n",
    "\n",
    "g_high.vp.frequency = vfreq_high"
   ]
  },
  {
   "cell_type": "markdown",
   "id": "4eed9d59-5957-4fc0-bf1f-4eda906c7ed5",
   "metadata": {},
   "source": [
    "## Filter edges"
   ]
  },
  {
   "cell_type": "code",
   "execution_count": 38,
   "id": "8fbc3835-733c-49ef-b38d-83aa049c823d",
   "metadata": {},
   "outputs": [],
   "source": [
    "# retain edges with weights >= threshold\n",
    "threshold = pd.Series(g_mid.ep.weight.fa).quantile(0.90)\n",
    "\n",
    "efilt_mid = g_mid.new_ep('bool', vals=g_mid.ep.weight.a >= threshold)\n",
    "\n",
    "u_mid = GraphView(g_mid, efilt=efilt_mid)"
   ]
  },
  {
   "cell_type": "code",
   "execution_count": 39,
   "id": "d508faa9-704a-4b31-8f03-5b09bb6ba3e1",
   "metadata": {},
   "outputs": [],
   "source": [
    "threshold = pd.Series(g_high.ep.weight.fa).quantile(0.90)\n",
    "\n",
    "efilt_high = g_high.new_ep('bool', vals=g_high.ep.weight.a >= threshold)\n",
    "\n",
    "u_high = GraphView(g_high, efilt=efilt_high)"
   ]
  },
  {
   "cell_type": "code",
   "execution_count": null,
   "id": "730ce2ae-5efb-42c0-b5f5-0575a653c936",
   "metadata": {},
   "outputs": [],
   "source": []
  },
  {
   "cell_type": "markdown",
   "id": "3696ff48-b2c2-4d00-9bed-1f9777334577",
   "metadata": {},
   "source": [
    "## Apply block model"
   ]
  },
  {
   "cell_type": "code",
   "execution_count": 40,
   "id": "7443def4-cb93-44ce-a92c-4a675516dcaf",
   "metadata": {},
   "outputs": [],
   "source": [
    "from graph_tool.topology import label_largest_component"
   ]
  },
  {
   "cell_type": "code",
   "execution_count": 41,
   "id": "cd0cc475-ad58-47d1-9cc6-3953ed588629",
   "metadata": {},
   "outputs": [],
   "source": [
    "# set random seed\n",
    "np.random.seed(42)\n",
    "graph_tool.seed_rng(42)"
   ]
  },
  {
   "cell_type": "code",
   "execution_count": 42,
   "id": "80f42071-726c-4b2b-be3e-2d729d922974",
   "metadata": {},
   "outputs": [],
   "source": [
    "state_mid = minimize_nested_blockmodel_dl(g_mid, state_args=dict(recs=[g_mid.ep.weight],\n",
    "                                                         rec_types=[\"discrete-geometric\"]))\n",
    "\n",
    "state_high = minimize_nested_blockmodel_dl(g_high, state_args=dict(recs=[g_high.ep.weight],\n",
    "                                                         rec_types=[\"discrete-geometric\"]))"
   ]
  },
  {
   "cell_type": "markdown",
   "id": "2298e455-f906-40e7-b673-8e5b27929ed3",
   "metadata": {},
   "source": [
    "## Visualize largest component & hierarchical structure"
   ]
  },
  {
   "cell_type": "markdown",
   "id": "713d93e0-684b-48a3-af60-5f17fa7111ca",
   "metadata": {},
   "source": [
    "### Mid elo"
   ]
  },
  {
   "cell_type": "code",
   "execution_count": 43,
   "id": "df965e2a-5bf1-4ac2-af9d-be58d5006b5c",
   "metadata": {},
   "outputs": [],
   "source": [
    "# filter largest component in u\n",
    "largest_component = label_largest_component(u_mid)\n",
    "u_mid.set_vertex_filter(largest_component)\n",
    "\n",
    "\n",
    "pos = arf_layout(u_mid, d=100, a=5)\n",
    "# pos = radial_tree_layout(u_mid, u_mid.vertex(20))\n",
    "# pos = sfdp_layout(u, groups=state.project_level(0).get_blocks(), multilevel=True, C=5, r=20)\n",
    "\n",
    "# edge weight \n",
    "edge_weight = prop_to_size(u_mid.ep.weight, mi=0, ma=5, power=1, log=True)\n",
    "vertex_size = prop_to_size(u_mid.vp.frequency, mi=30, ma=100, power=1)   # scale vertex by play rate\n",
    "# vertex_size = prop_to_size(u.vp.winrate, mi=20, ma=100, power=1)       # scale vertex by winrate\n",
    "vertex_label = u_mid.vp.name\n",
    "\n",
    "# state.draw()\n",
    "graph_draw(u_mid, pos=pos,\n",
    "           vertex_shape='square',\n",
    "           vertex_size=vertex_size,  # Apply eigenvector for vertex size\n",
    "           vertex_fill_color=u_mid.vp.color,\n",
    "           vertex_surface=u_mid.vp.image,\n",
    "           vertex_color=u_mid.vp.color,\n",
    "           vertex_pen_width=5,\n",
    "           vorder=g_mid.vp.frequency,\n",
    "           edge_pen_width=edge_weight,\n",
    "           eorder=g_mid.ep.weight,\n",
    "           output_size=(1200, 1200),\n",
    "           output=os.path.join(VISUALIZATION_DIR, 'champs_mid.png'),\n",
    "      );"
   ]
  },
  {
   "cell_type": "code",
   "execution_count": 44,
   "id": "99b0a337-cf15-4f47-b380-e5c32414229b",
   "metadata": {},
   "outputs": [
    {
     "data": {
      "text/plain": [
       "(<VertexPropertyMap object with value type 'vector<double>', for Graph 0x7fc48c89aad0, at 0x7fc311fc65c0>,\n",
       " <GraphView object, directed, with 67 vertices and 66 edges, edges filtered by (<EdgePropertyMap object with value type 'bool', for Graph 0x7fc311fc6dd0, at 0x7fc311fc5330>, False), vertices filtered by (<VertexPropertyMap object with value type 'bool', for Graph 0x7fc311fc6dd0, at 0x7fc311fc63e0>, False), at 0x7fc311fc6dd0>,\n",
       " <VertexPropertyMap object with value type 'vector<double>', for Graph 0x7fc311fc6dd0, at 0x7fc311fc7790>)"
      ]
     },
     "execution_count": 44,
     "metadata": {},
     "output_type": "execute_result"
    }
   ],
   "source": [
    "state_mid.draw(edge_gradient=[],  # needed to turn-off the group-based gradients on the edges\n",
    "           edge_color=prop_to_size(g_mid.ep.weight, power=2, log=False),\n",
    "           ecmap=matplotlib.cm.inferno,\n",
    "           eorder=g_mid.ep.weight, # edge ordering is important!\n",
    "           edge_pen_width=2,\n",
    "           vcmap=matplotlib.cm.Set1,\n",
    "           vertex_text=g_mid.vp.name,\n",
    "           vertex_text_position='centered',\n",
    "           # vertex_text_font_size=8,\n",
    "           vertex_size=15,\n",
    "           output=os.path.join(VISUALIZATION_DIR, 'champs_block_mid.png'),\n",
    "          )"
   ]
  },
  {
   "cell_type": "code",
   "execution_count": null,
   "id": "e3b4a65b-b06b-45b5-aade-2f8e9f4e10ae",
   "metadata": {},
   "outputs": [],
   "source": []
  },
  {
   "cell_type": "markdown",
   "id": "81ce444a-c30c-4ba6-8c8a-91874d68481c",
   "metadata": {},
   "source": [
    "### High elo"
   ]
  },
  {
   "cell_type": "code",
   "execution_count": 45,
   "id": "ad44b50a-7327-489e-bfc2-33647b880fe2",
   "metadata": {},
   "outputs": [],
   "source": [
    "# filter largest component in u\n",
    "largest_component = label_largest_component(u_high)\n",
    "u_high.set_vertex_filter(largest_component)\n",
    "\n",
    "\n",
    "pos = arf_layout(u_high, d=100, a=5)\n",
    "# pos = radial_tree_layout(u_mid, u_mid.vertex(20))\n",
    "# pos = sfdp_layout(u_high, groups=state_high.project_level(0).get_blocks(), multilevel=True, C=5, r=20)\n",
    "\n",
    "# edge weight \n",
    "edge_weight = prop_to_size(u_high.ep.weight, mi=0, ma=5, power=1, log=True)\n",
    "vertex_size = prop_to_size(u_high.vp.frequency, mi=30, ma=100, power=1)   # scale vertex by play rate\n",
    "# vertex_size = prop_to_size(u.vp.winrate, mi=20, ma=100, power=1)       # scale vertex by winrate\n",
    "vertex_label = u_high.vp.name\n",
    "\n",
    "# state.draw()\n",
    "graph_draw(u_high, pos=pos,\n",
    "           vertex_shape='square',\n",
    "           vertex_size=vertex_size,  # Apply eigenvector for vertex size\n",
    "           vertex_fill_color=u_high.vp.color,\n",
    "           vertex_surface=u_high.vp.image,\n",
    "           vertex_color=u_high.vp.color,\n",
    "           vertex_pen_width=5,\n",
    "           vorder=g_high.vp.frequency,\n",
    "           edge_pen_width=edge_weight,\n",
    "           eorder=g_high.ep.weight,\n",
    "           output_size=(1200, 1200),\n",
    "           output=os.path.join(VISUALIZATION_DIR, 'champs_high.png'),\n",
    "      );"
   ]
  },
  {
   "cell_type": "code",
   "execution_count": 46,
   "id": "4b2ea40f-deb3-4acd-89f8-9b069cf24996",
   "metadata": {},
   "outputs": [
    {
     "data": {
      "text/plain": [
       "(<VertexPropertyMap object with value type 'vector<double>', for Graph 0x7fc48c89a8f0, at 0x7fc311fc70d0>,\n",
       " <GraphView object, directed, with 69 vertices and 68 edges, edges filtered by (<EdgePropertyMap object with value type 'bool', for Graph 0x7fc311fc6ce0, at 0x7fc311fdcfa0>, False), vertices filtered by (<VertexPropertyMap object with value type 'bool', for Graph 0x7fc311fc6ce0, at 0x7fc311fdd060>, False), at 0x7fc311fc6ce0>,\n",
       " <VertexPropertyMap object with value type 'vector<double>', for Graph 0x7fc311fc6ce0, at 0x7fc311fc4d90>)"
      ]
     },
     "execution_count": 46,
     "metadata": {},
     "output_type": "execute_result"
    }
   ],
   "source": [
    "state_high.draw(edge_gradient=[],  # needed to turn-off the group-based gradients on the edges\n",
    "           edge_color=prop_to_size(g_high.ep.weight, power=2, log=False),\n",
    "           ecmap=matplotlib.cm.inferno,\n",
    "           eorder=g_high.ep.weight, # edge ordering is important!\n",
    "           edge_pen_width=2,\n",
    "           vcmap=matplotlib.cm.Set1,\n",
    "           vertex_text=g_high.vp.name,\n",
    "           vertex_text_position='centered',\n",
    "           vertex_size=15,\n",
    "           output=os.path.join(VISUALIZATION_DIR, 'champs_block_high.png'),\n",
    "          )"
   ]
  },
  {
   "cell_type": "code",
   "execution_count": null,
   "id": "f9853277-04c1-4f33-a402-975f2dd3ea51",
   "metadata": {},
   "outputs": [],
   "source": []
  }
 ],
 "metadata": {
  "kernelspec": {
   "display_name": "Python 3 (ipykernel)",
   "language": "python",
   "name": "python3"
  },
  "language_info": {
   "codemirror_mode": {
    "name": "ipython",
    "version": 3
   },
   "file_extension": ".py",
   "mimetype": "text/x-python",
   "name": "python",
   "nbconvert_exporter": "python",
   "pygments_lexer": "ipython3",
   "version": "3.10.12"
  }
 },
 "nbformat": 4,
 "nbformat_minor": 5
}
