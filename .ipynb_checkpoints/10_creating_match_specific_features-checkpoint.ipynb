{
 "cells": [
  {
   "cell_type": "code",
   "execution_count": 1,
   "id": "7c0b2325-9d81-4472-aac1-6a765a0677b0",
   "metadata": {},
   "outputs": [],
   "source": [
    "import pandas as pd\n",
    "import numpy as np\n",
    "\n",
    "import os\n",
    "import json\n",
    "import time\n",
    "import re\n",
    "\n",
    "import pyspark.sql.types as T\n",
    "import pyspark.sql.functions as F\n",
    "\n",
    "from pyspark import SparkContext, SparkConf, SQLContext\n",
    "\n",
    "from dateutil.relativedelta import relativedelta\n",
    "from pyspark.sql.functions import pandas_udf\n",
    "from pyspark.sql.window import Window\n",
    "\n",
    "from datetime import date, datetime, timedelta, timezone"
   ]
  },
  {
   "cell_type": "code",
   "execution_count": 2,
   "id": "bbd809ba-2ddc-48d6-bbf2-f88636ce2cd5",
   "metadata": {},
   "outputs": [
    {
     "name": "stderr",
     "output_type": "stream",
     "text": [
      "25/03/17 17:30:48 WARN Utils: Your hostname, LAPTOP-4O0SI9BK resolves to a loopback address: 127.0.1.1; using 172.30.56.151 instead (on interface eth0)\n",
      "25/03/17 17:30:48 WARN Utils: Set SPARK_LOCAL_IP if you need to bind to another address\n",
      "Setting default log level to \"WARN\".\n",
      "To adjust logging level use sc.setLogLevel(newLevel). For SparkR, use setLogLevel(newLevel).\n",
      "25/03/17 17:30:50 WARN NativeCodeLoader: Unable to load native-hadoop library for your platform... using builtin-java classes where applicable\n",
      "25/03/17 17:30:50 WARN SparkConf: Note that spark.local.dir will be overridden by the value set by the cluster manager (via SPARK_LOCAL_DIRS in mesos/standalone/kubernetes and LOCAL_DIRS in YARN).\n",
      "/usr/local/lib/python3.10/dist-packages/pyspark/sql/context.py:113: FutureWarning: Deprecated in 3.0.0. Use SparkSession.builder.getOrCreate() instead.\n",
      "  warnings.warn(\n"
     ]
    }
   ],
   "source": [
    "appName = \"PySpark TFT puuids\"\n",
    "master = \"local[10]\"\n",
    "conf = SparkConf() \\\n",
    "    .setAppName(appName) \\\n",
    "    .setMaster(master) \\\n",
    "    .set(\"spark.executor.memory\", \"40g\") \\\n",
    "    .set(\"spark.driver.memory\", \"40g\") \\\n",
    "    .set(\"spark.executor.memoryOverhead\", \"8g\") \\\n",
    "    .set(\"spark.local.dir\", \"/home/mai/spark-temp\") \\\n",
    "    .set(\"spark.sql.session.timeZone\", \"UTC\") \\\n",
    "    .set(\"spark.dynamicAllocation.enabled\", \"true\") \\\n",
    "    .set(\"spark.dynamicAllocation.minExecutors\", \"2\") \\\n",
    "    .set(\"spark.dynamicAllocation.maxExecutors\", \"50\") \\\n",
    "    .set(\"spark.speculation\", \"true\") \n",
    "   \n",
    "sc = SparkContext.getOrCreate(conf=conf)\n",
    "sqlContext = SQLContext(sc)\n",
    "spark = sqlContext.sparkSession"
   ]
  },
  {
   "cell_type": "code",
   "execution_count": 3,
   "id": "d6b3fc93-a5a3-4c1f-9435-1b3e560b5aab",
   "metadata": {},
   "outputs": [],
   "source": [
    "pd.set_option('display.max_columns', None)\n",
    "pd.set_option('display.max_rows', None)"
   ]
  },
  {
   "cell_type": "code",
   "execution_count": 4,
   "id": "9a1acff6-c68a-4540-8d2d-4e602f765458",
   "metadata": {},
   "outputs": [],
   "source": [
    "MATCH_DIR = './data/tft_match_data_cleaned/'\n",
    "MATCH_STAT_DIR = './data/tft_match_stats/'\n",
    "TRAIT_FEATURE_DIR = './data/tft_trait_features/'\n",
    "UNIT_ITEM_FEATURE_DIR = './data/tft_unit_item_features/'"
   ]
  },
  {
   "cell_type": "code",
   "execution_count": 5,
   "id": "8196be0b-7e77-46a3-9dfc-2541092224a0",
   "metadata": {},
   "outputs": [],
   "source": [
    "TRAIT_OUTPUT_DIR = './data/all_features/traits/'\n",
    "os.makedirs(TRAIT_OUTPUT_DIR, exist_ok=True)\n",
    "\n",
    "UNIT_ITEM_OUTPUT_DIR = './data/all_features/units_items/'\n",
    "os.makedirs(UNIT_ITEM_OUTPUT_DIR, exist_ok=True)\n",
    "\n",
    "MATCH_STAT_OUTPUT_DIR = './data/all_features/match_stats'\n",
    "os.makedirs(MATCH_STAT_OUTPUT_DIR, exist_ok=True)\n",
    "\n",
    "ALL_FEATURES_DIR = './data/all_features/'"
   ]
  },
  {
   "cell_type": "code",
   "execution_count": 6,
   "id": "f8ecb7a9-e5f2-4e5c-92e2-21b27eee247f",
   "metadata": {},
   "outputs": [],
   "source": [
    "# parameters of region, tier, division\n",
    "REGION = 'euw1'\n",
    "TIER = 'CHALLENGER'\n",
    "DIVISION = 'I'"
   ]
  },
  {
   "cell_type": "markdown",
   "id": "84a134af-8559-4d85-8830-d17744268de7",
   "metadata": {
    "jp-MarkdownHeadingCollapsed": true
   },
   "source": [
    "## 0. Utility functions"
   ]
  },
  {
   "cell_type": "markdown",
   "id": "a6130dab-304a-40ce-855e-7ecdec32b597",
   "metadata": {},
   "source": [
    "### 0.0. Match-specific stats"
   ]
  },
  {
   "cell_type": "code",
   "execution_count": 7,
   "id": "aae95ce0-5714-4c88-a5df-8a73194924ad",
   "metadata": {},
   "outputs": [],
   "source": [
    "def create_match_stat_compare_features(df):\n",
    "    df1 = df.alias('df1')\n",
    "    df2 = df.alias('df2')\n",
    "\n",
    "    compare_stat_feats = df1.join(df2, on=\"metadata_match_id\")\\\n",
    "                            .where(F.col('df1.puuid') != F.col('df2.puuid'))\\\n",
    "                            .groupby('df1.metadata_match_id', 'df1.puuid')\\\n",
    "                            .agg((F.sum(F.when(F.col(\"df2.level\") > F.col(\"df1.level\"), 1).otherwise(0))).alias(\"players_with_higher_level\"),\n",
    "                                 (F.sum(F.when(F.col(\"df2.gold_left\") > F.col(\"df1.gold_left\"), 1).otherwise(0))).alias(\"players_with_more_gold_left\"),\n",
    "                                )\n",
    "\n",
    "    return compare_stat_feats"
   ]
  },
  {
   "cell_type": "markdown",
   "id": "80e6f902-bd5a-4c06-8db1-08f60430059a",
   "metadata": {},
   "source": [
    "### 0.1. Match-specific trait features"
   ]
  },
  {
   "cell_type": "code",
   "execution_count": 8,
   "id": "ee9936a3-f3e9-455b-aea5-d85724d8427d",
   "metadata": {},
   "outputs": [],
   "source": [
    "def create_match_trait_count_features(df):\n",
    "    w = Window.partitionBy('metadata_match_id')\n",
    "    # w1 = Window.partitionBy('metadata_match_id', 'puuid')\n",
    "\n",
    "    df = df.withColumn('match_avg_active_traits', F.avg('total_active_traits').over(w))\\\n",
    "            .withColumn('match_max_active_traits', F.max('total_active_traits').over(w))\\\n",
    "            .withColumn('match_min_active_traits', F.min('total_active_traits').over(w))\\\n",
    "            .withColumn('match_avg_unique_traits', F.avg('total_unique_traits').over(w))\\\n",
    "            .withColumn('match_max_unique_traits', F.max('total_unique_traits').over(w))\\\n",
    "            .withColumn('match_min_unique_traits', F.min('total_unique_traits').over(w))\\\n",
    "            .withColumn('match_players_with_unique_traits', F.sum(F.when(F.col('total_unique_traits') > 0, 1).otherwise(0)).over(w))\\\n",
    "            .withColumn('match_avg_teamup_traits', F.avg('total_teamup_traits').over(w))\\\n",
    "            .withColumn('match_max_teamup_traits', F.max('total_teamup_traits').over(w))\\\n",
    "            .withColumn('match_min_teamup_traits', F.min('total_teamup_traits').over(w))\\\n",
    "            .withColumn('match_players_with_teamup_traits', F.sum(F.when(F.col('total_teamup_traits') > 0, 1).otherwise(0)).over(w))\\\n",
    "            .withColumn('match_avg_vertical_traits', F.avg('total_vertical_traits').over(w))\\\n",
    "            .withColumn('match_max_vertical_traits', F.max('total_vertical_traits').over(w))\\\n",
    "            .withColumn('match_min_vertical_traits', F.min('total_vertical_traits').over(w))\\\n",
    "            .withColumn('match_avg_horizontal_traits', F.avg('total_horizontal_traits').over(w))\\\n",
    "            .withColumn('match_max_horizontal_traits', F.max('total_horizontal_traits').over(w))\\\n",
    "            .withColumn('match_min_horizontal_traits', F.min('total_horizontal_traits').over(w))\\\n",
    "            .withColumn('match_avg_defensive_traits', F.avg('total_defensive_traits').over(w))\\\n",
    "            .withColumn('match_max_defensive_traits', F.max('total_defensive_traits').over(w))\\\n",
    "            .withColumn('match_min_defensive_traits', F.min('total_defensive_traits').over(w))\\\n",
    "            .withColumn('match_players_with_defensive_traits', F.sum(F.when(F.col('total_defensive_traits') > 0, 1).otherwise(0)).over(w))\\\n",
    "            .withColumn('match_avg_offensive_traits', F.avg('total_offensive_traits').over(w))\\\n",
    "            .withColumn('match_max_offensive_traits', F.max('total_offensive_traits').over(w))\\\n",
    "            .withColumn('match_min_offensive_traits', F.min('total_offensive_traits').over(w))\\\n",
    "            .withColumn('match_players_with_offensive_traits', F.sum(F.when(F.col('total_offensive_traits') > 0, 1).otherwise(0)).over(w))\\\n",
    "            .withColumn('match_avg_utility_traits', F.avg('total_utility_traits').over(w))\\\n",
    "            .withColumn('match_max_utility_traits', F.max('total_utility_traits').over(w))\\\n",
    "            .withColumn('match_min_utility_traits', F.min('total_utility_traits').over(w))\\\n",
    "            .withColumn('match_avg_econ_traits', F.avg('total_econ_traits').over(w))\\\n",
    "            .withColumn('match_max_econ_traits', F.max('total_econ_traits').over(w))\\\n",
    "            .withColumn('match_min_econ_traits', F.min('total_econ_traits').over(w))\\\n",
    "            .withColumn('match_players_with_econ_traits', F.sum(F.when(F.col('total_econ_traits') > 0, 1).otherwise(0)).over(w))\\\n",
    "            .withColumn('match_avg_bronze_style_traits', F.avg('total_bronze_style_traits').over(w))\\\n",
    "            .withColumn('match_max_bronze_style_traits', F.max('total_bronze_style_traits').over(w))\\\n",
    "            .withColumn('match_min_bronze_style_traits', F.min('total_bronze_style_traits').over(w))\\\n",
    "            .withColumn('match_avg_silver_style_traits', F.avg('total_silver_style_traits').over(w))\\\n",
    "            .withColumn('match_max_silver_style_traits', F.max('total_silver_style_traits').over(w))\\\n",
    "            .withColumn('match_min_silver_style_traits', F.min('total_silver_style_traits').over(w))\\\n",
    "            .withColumn('match_avg_gold_style_traits', F.avg('total_gold_style_traits').over(w))\\\n",
    "            .withColumn('match_max_gold_style_traits', F.max('total_gold_style_traits').over(w))\\\n",
    "            .withColumn('match_min_gold_style_traits', F.min('total_gold_style_traits').over(w))\\\n",
    "            .withColumn('match_avg_prismatic_style_traits', F.avg('total_prismatic_style_traits').over(w))\\\n",
    "            .withColumn('match_max_prismatic_style_traits', F.max('total_prismatic_style_traits').over(w))\\\n",
    "            .withColumn('match_min_prismatic_style_traits', F.min('total_prismatic_style_traits').over(w))\\\n",
    "            .withColumn('match_avg_prismatic_vertical_traits', F.avg('total_prismatic_vertical_traits').over(w))\\\n",
    "            .withColumn('match_max_prismatic_vertical_traits', F.max('total_prismatic_vertical_traits').over(w))\\\n",
    "            .withColumn('match_min_prismatic_vertical_traits', F.min('total_prismatic_vertical_traits').over(w))\\\n",
    "            .withColumn('match_players_with_prismatic_vertical_traits', F.sum(F.when(F.col('total_prismatic_vertical_traits') > 0, 1).otherwise(0)).over(w))\\\n",
    "            .withColumn('match_avg_gold_vertical_traits', F.avg('total_gold_vertical_traits').over(w))\\\n",
    "            .withColumn('match_max_gold_vertical_traits', F.max('total_gold_vertical_traits').over(w))\\\n",
    "            .withColumn('match_min_gold_vertical_traits', F.min('total_gold_vertical_traits').over(w))\\\n",
    "            .withColumn('match_players_with_gold_vertical_traits', F.sum(F.when(F.col('total_gold_vertical_traits') > 0, 1).otherwise(0)).over(w))\\\n",
    "            .withColumn('match_avg_silver_vertical_traits', F.avg('total_silver_vertical_traits').over(w))\\\n",
    "            .withColumn('match_max_silver_vertical_traits', F.max('total_silver_vertical_traits').over(w))\\\n",
    "            .withColumn('match_min_silver_vertical_traits', F.min('total_silver_vertical_traits').over(w))\\\n",
    "            .withColumn('match_avg_bronze_vertical_traits', F.avg('total_bronze_vertical_traits').over(w))\\\n",
    "            .withColumn('match_max_bronze_vertical_traits', F.max('total_bronze_vertical_traits').over(w))\\\n",
    "            .withColumn('match_min_bronze_vertical_traits', F.min('total_bronze_vertical_traits').over(w))\\\n",
    "            .withColumn('match_avg_prismatic_horizontal_traits', F.avg('total_prismatic_horizontal_traits').over(w))\\\n",
    "            .withColumn('match_max_prismatic_horizontal_traits', F.max('total_prismatic_horizontal_traits').over(w))\\\n",
    "            .withColumn('match_min_prismatic_horizontal_traits', F.min('total_prismatic_horizontal_traits').over(w))\\\n",
    "            .withColumn('match_players_with_prismatic_horizontal_traits', F.sum(F.when(F.col('total_prismatic_horizontal_traits') > 0, 1).otherwise(0)).over(w))\\\n",
    "            .withColumn('match_avg_gold_horizontal_traits', F.avg('total_gold_horizontal_traits').over(w))\\\n",
    "            .withColumn('match_max_gold_horizontal_traits', F.max('total_gold_horizontal_traits').over(w))\\\n",
    "            .withColumn('match_min_gold_horizontal_traits', F.min('total_gold_horizontal_traits').over(w))\\\n",
    "            .withColumn('match_players_with_gold_horizontal_traits', F.sum(F.when(F.col('total_gold_horizontal_traits') > 0, 1).otherwise(0)).over(w))\\\n",
    "            .withColumn('match_avg_silver_horizontal_traits', F.avg('total_silver_horizontal_traits').over(w))\\\n",
    "            .withColumn('match_max_silver_horizontal_traits', F.max('total_silver_horizontal_traits').over(w))\\\n",
    "            .withColumn('match_min_silver_horizontal_traits', F.min('total_silver_horizontal_traits').over(w))\\\n",
    "            .withColumn('match_avg_bronze_horizontal_traits', F.avg('total_bronze_horizontal_traits').over(w))\\\n",
    "            .withColumn('match_max_bronze_horizontal_traits', F.max('total_bronze_horizontal_traits').over(w))\\\n",
    "            .withColumn('match_min_bronze_horizontal_traits', F.min('total_bronze_horizontal_traits').over(w))\n",
    "            \n",
    "\n",
    "    return df"
   ]
  },
  {
   "cell_type": "code",
   "execution_count": 9,
   "id": "6bebe37c-bbad-4809-acfc-e7c8418be21e",
   "metadata": {},
   "outputs": [],
   "source": [
    "def create_match_trait_compare_features(df):\n",
    "    df1 = df.alias('df1')\n",
    "    df2 = df.alias('df2')\n",
    "\n",
    "    compare_trait_feats = df1.join(df2, on=\"metadata_match_id\")\\\n",
    "                            .groupby('df1.metadata_match_id', 'df1.puuid')\\\n",
    "                            .agg((F.sum(F.when(F.col(\"df2.total_active_traits\") > F.col(\"df1.total_active_traits\"), 1).otherwise(0))).alias(\"players_with_more_active_traits\"),\n",
    "                                (F.sum(F.when(F.col(\"df2.total_unique_traits\") > F.col(\"df1.total_unique_traits\"), 1).otherwise(0))).alias(\"players_with_more_unique_traits\"),\n",
    "                                (F.sum(F.when(F.col(\"df2.total_vertical_traits\") > F.col(\"df1.total_vertical_traits\"), 1).otherwise(0))).alias(\"players_with_more_vertical_traits\"),\n",
    "                                (F.sum(F.when(F.col(\"df2.total_horizontal_traits\") > F.col(\"df1.total_horizontal_traits\"), 1).otherwise(0))).alias(\"players_with_more_horizontal_traits\"),\n",
    "                                (F.sum(F.when(F.col(\"df2.total_offensive_traits\") > F.col(\"df1.total_offensive_traits\"), 1).otherwise(0))).alias(\"players_with_more_offensive_traits\"),\n",
    "                                (F.sum(F.when(F.col(\"df2.total_defensive_traits\") > F.col(\"df1.total_defensive_traits\"), 1).otherwise(0))).alias(\"players_with_more_defensive_traits\"),\n",
    "                                (F.sum(F.when(F.col(\"df2.total_utility_traits\") > F.col(\"df1.total_utility_traits\"), 1).otherwise(0))).alias(\"players_with_more_utility_traits\"),\n",
    "                                (F.sum(F.when(F.col(\"df2.total_prismatic_style_traits\") > F.col(\"df1.total_prismatic_style_traits\"), 1).otherwise(0))).alias(\"players_with_more_prismatic_style_traits\"),\n",
    "                                (F.sum(F.when(F.col(\"df2.total_gold_style_traits\") > F.col(\"df1.total_gold_style_traits\"), 1).otherwise(0))).alias(\"players_with_more_gold_style_traits\"),\n",
    "                                (F.sum(F.when(F.col(\"df2.total_prismatic_vertical_traits\") > F.col(\"df1.total_prismatic_vertical_traits\"), 1).otherwise(0))).alias(\"players_with_more_prismatic_vertical_traits\"),\n",
    "                                (F.sum(F.when(F.col(\"df2.total_gold_vertical_traits\") > F.col(\"df1.total_gold_vertical_traits\"), 1).otherwise(0))).alias(\"players_with_more_gold_vertical_traits\"),\n",
    "                                (F.sum(F.when(F.col(\"df2.total_prismatic_horizontal_traits\") > F.col(\"df1.total_prismatic_horizontal_traits\"), 1).otherwise(0))).alias(\"players_with_more_prismatic_horizontal_traits\"),\n",
    "                                (F.sum(F.when(F.col(\"df2.total_gold_horizontal_traits\") > F.col(\"df1.total_gold_horizontal_traits\"), 1).otherwise(0))).alias(\"players_with_more_gold_horizontal_traits\"),)\n",
    "\n",
    "    return compare_trait_feats"
   ]
  },
  {
   "cell_type": "markdown",
   "id": "5fc45ffe-9dee-492d-a147-2826bc88ecdc",
   "metadata": {},
   "source": [
    "### 0.2. Match-specific unit & item features"
   ]
  },
  {
   "cell_type": "code",
   "execution_count": 10,
   "id": "83f24a5f-c48c-4d5c-a7ce-ed3267f8d5ab",
   "metadata": {},
   "outputs": [],
   "source": [
    "def create_unit_item_count_features(df):\n",
    "    w = Window.partitionBy('metadata_match_id')\n",
    "\n",
    "    df = df.withColumn('match_avg_total_units', F.avg('total_units').over(w))\\\n",
    "            .withColumn('match_max_total_units', F.max('total_units').over(w))\\\n",
    "            .withColumn('match_min_total_units', F.min('total_units').over(w))\\\n",
    "            .withColumn('match_avg_total_items', F.avg('total_items').over(w))\\\n",
    "            .withColumn('match_max_total_items', F.max('total_items').over(w))\\\n",
    "            .withColumn('match_min_total_items', F.min('total_items').over(w))\\\n",
    "            .withColumn('match_avg_total_board_cost', F.avg('total_board_cost').over(w))\\\n",
    "            .withColumn('match_max_total_board_cost', F.max('total_board_cost').over(w))\\\n",
    "            .withColumn('match_min_total_board_cost', F.min('total_board_cost').over(w))\\\n",
    "            .withColumn('match_avg_highest_unit_cost', F.avg('highest_unit_cost').over(w))\\\n",
    "            .withColumn('match_max_highest_unit_cost', F.max('highest_unit_cost').over(w))\\\n",
    "            .withColumn('match_min_highest_unit_cost', F.min('highest_unit_cost').over(w))\\\n",
    "            .withColumn('match_avg_total_ap_units', F.avg('total_ap_units').over(w))\\\n",
    "            .withColumn('match_max_total_ap_units', F.max('total_ap_units').over(w))\\\n",
    "            .withColumn('match_min_total_ap_units', F.min('total_ap_units').over(w))\\\n",
    "            .withColumn('match_avg_total_ad_units', F.avg('total_ad_units').over(w))\\\n",
    "            .withColumn('match_max_total_ad_units', F.max('total_ad_units').over(w))\\\n",
    "            .withColumn('match_min_total_ad_units', F.min('total_ad_units').over(w))\\\n",
    "            .withColumn('match_avg_total_carry_units', F.avg('total_carry_units').over(w))\\\n",
    "            .withColumn('match_max_total_carry_units', F.max('total_carry_units').over(w))\\\n",
    "            .withColumn('match_min_total_carry_units', F.min('total_carry_units').over(w))\\\n",
    "            .withColumn('match_avg_total_caster_units', F.avg('total_caster_units').over(w))\\\n",
    "            .withColumn('match_max_total_caster_units', F.max('total_caster_units').over(w))\\\n",
    "            .withColumn('match_min_total_caster_units', F.min('total_caster_units').over(w))\\\n",
    "            .withColumn('match_avg_total_tank_units', F.avg('total_tank_units').over(w))\\\n",
    "            .withColumn('match_max_total_tank_units', F.max('total_tank_units').over(w))\\\n",
    "            .withColumn('match_min_total_tank_units', F.min('total_tank_units').over(w))\\\n",
    "            .withColumn('match_avg_total_reaper_units', F.avg('total_reaper_units').over(w))\\\n",
    "            .withColumn('match_max_total_reaper_units', F.max('total_reaper_units').over(w))\\\n",
    "            .withColumn('match_min_total_reaper_units', F.min('total_reaper_units').over(w))\\\n",
    "            .withColumn('match_avg_total_fighter_units', F.avg('total_fighter_units').over(w))\\\n",
    "            .withColumn('match_max_total_fighter_units', F.max('total_fighter_units').over(w))\\\n",
    "            .withColumn('match_min_total_fighter_units', F.min('total_fighter_units').over(w))\\\n",
    "            .withColumn('match_avg_total_combined_items', F.avg('total_combined_items').over(w))\\\n",
    "            .withColumn('match_max_total_combined_items', F.max('total_combined_items').over(w))\\\n",
    "            .withColumn('match_min_total_combined_items', F.min('total_combined_items').over(w))\\\n",
    "            .withColumn('match_avg_total_radiant_items', F.avg('total_radiant_items').over(w))\\\n",
    "            .withColumn('match_max_total_radiant_items', F.max('total_radiant_items').over(w))\\\n",
    "            .withColumn('match_min_total_radiant_items', F.min('total_radiant_items').over(w))\\\n",
    "            .withColumn('match_avg_total_tactician_crown_items', F.avg('total_tactician_crown_items').over(w))\\\n",
    "            .withColumn('match_max_total_tactician_crown_items', F.max('total_tactician_crown_items').over(w))\\\n",
    "            .withColumn('match_min_total_tactician_crown_items', F.min('total_tactician_crown_items').over(w))\\\n",
    "            .withColumn('players_with_tactician_crown_items', F.sum(F.when(F.col('total_tactician_crown_items') > 0, 1).otherwise(0)).over(w))\\\n",
    "            .withColumn('match_avg_total_artifact_items', F.avg('total_artifact_items').over(w))\\\n",
    "            .withColumn('match_max_total_artifact_items', F.max('total_artifact_items').over(w))\\\n",
    "            .withColumn('match_min_total_artifact_items', F.min('total_artifact_items').over(w))\\\n",
    "            .withColumn('players_with_artifact_items', F.sum(F.when(F.col('total_artifact_items') > 0, 1).otherwise(0)).over(w))\\\n",
    "            .withColumn('match_avg_total_emblem_items', F.avg('total_emblem_items').over(w))\\\n",
    "            .withColumn('match_max_total_emblem_items', F.max('total_emblem_items').over(w))\\\n",
    "            .withColumn('match_min_total_emblem_items', F.min('total_emblem_items').over(w))\\\n",
    "            .withColumn('players_with_emblem_items', F.sum(F.when(F.col('total_emblem_items') > 0, 1).otherwise(0)).over(w))\\\n",
    "            .withColumn('match_avg_total_ornn_items', F.avg('total_ornn_items').over(w))\\\n",
    "            .withColumn('match_max_total_ornn_items', F.max('total_ornn_items').over(w))\\\n",
    "            .withColumn('match_min_total_ornn_items', F.min('total_ornn_items').over(w))\\\n",
    "            .withColumn('players_with_ornn_items', F.sum(F.when(F.col('total_ornn_items') > 0, 1).otherwise(0)).over(w))\\\n",
    "            .withColumn('match_avg_total_shimmerscale_items', F.avg('total_shimmerscale_items').over(w))\\\n",
    "            .withColumn('match_max_total_shimmerscale_items', F.max('total_shimmerscale_items').over(w))\\\n",
    "            .withColumn('match_min_total_shimmerscale_items', F.min('total_shimmerscale_items').over(w))\\\n",
    "            .withColumn('players_with_shimmerscale_items', F.sum(F.when(F.col('total_shimmerscale_items') > 0, 1).otherwise(0)).over(w))\\\n",
    "            .withColumn('match_avg_total_chembaron_items', F.avg('total_chembaron_items').over(w))\\\n",
    "            .withColumn('match_max_total_chembaron_items', F.max('total_chembaron_items').over(w))\\\n",
    "            .withColumn('match_min_total_chembaron_items', F.min('total_chembaron_items').over(w))\\\n",
    "            .withColumn('players_with_chembaron_items', F.sum(F.when(F.col('total_chembaron_items') > 0, 1).otherwise(0)).over(w))\\\n",
    "            .withColumn('match_avg_total_chembaron_bronze_items', F.avg('total_chembaron_bronze_items').over(w))\\\n",
    "            .withColumn('match_max_total_chembaron_bronze_items', F.max('total_chembaron_bronze_items').over(w))\\\n",
    "            .withColumn('match_min_total_chembaron_bronze_items', F.min('total_chembaron_bronze_items').over(w))\\\n",
    "            .withColumn('players_with_chembaron_bronze_items', F.sum(F.when(F.col('total_chembaron_bronze_items') > 0, 1).otherwise(0)).over(w))\\\n",
    "            .withColumn('match_avg_total_chembaron_silver_items', F.avg('total_chembaron_silver_items').over(w))\\\n",
    "            .withColumn('match_max_total_chembaron_silver_items', F.max('total_chembaron_silver_items').over(w))\\\n",
    "            .withColumn('match_min_total_chembaron_silver_items', F.min('total_chembaron_silver_items').over(w))\\\n",
    "            .withColumn('players_with_chembaron_silver_items', F.sum(F.when(F.col('total_chembaron_silver_items') > 0, 1).otherwise(0)).over(w))\\\n",
    "            .withColumn('match_avg_total_chembaron_gold_items', F.avg('total_chembaron_gold_items').over(w))\\\n",
    "            .withColumn('match_max_total_chembaron_gold_items', F.max('total_chembaron_gold_items').over(w))\\\n",
    "            .withColumn('match_min_total_chembaron_gold_items', F.min('total_chembaron_gold_items').over(w))\\\n",
    "            .withColumn('players_with_chembaron_gold_items', F.sum(F.when(F.col('total_chembaron_gold_items') > 0, 1).otherwise(0)).over(w))\\\n",
    "            .withColumn('match_avg_total_chembaron_prismatic_items', F.avg('total_chembaron_prismatic_items').over(w))\\\n",
    "            .withColumn('match_max_total_chembaron_prismatic_items', F.max('total_chembaron_prismatic_items').over(w))\\\n",
    "            .withColumn('match_min_total_chembaron_prismatic_items', F.min('total_chembaron_prismatic_items').over(w))\\\n",
    "            .withColumn('players_with_chembaron_prismatic_items', F.sum(F.when(F.col('total_chembaron_prismatic_items') > 0, 1).otherwise(0)).over(w))\n",
    "\n",
    "    return df"
   ]
  },
  {
   "cell_type": "code",
   "execution_count": 11,
   "id": "fce6e84e-39a2-4208-a00c-e02c0485e18f",
   "metadata": {},
   "outputs": [],
   "source": [
    "def create_match_unit_item_compare_features(df):\n",
    "    df1 = df.alias('df1')\n",
    "    df2 = df.alias('df2')\n",
    "\n",
    "    compare_unit_item_feats = df1.join(df2, on=\"metadata_match_id\")\\\n",
    "                                .groupby('df1.metadata_match_id', 'df1.puuid')\\\n",
    "                                .agg((F.sum(F.when(F.col(\"df2.total_units\") > F.col(\"df1.total_units\"), 1).otherwise(0))).alias(\"players_with_more_units\"),\n",
    "                                     (F.sum(F.when(F.col(\"df2.total_board_cost\") > F.col(\"df1.total_board_cost\"), 1).otherwise(0))).alias(\"players_with_higher_total_board_cost\"),\n",
    "                                     (F.sum(F.when(F.col(\"df2.total_tier_4_units\") > F.col(\"df1.total_tier_4_units\"), 1).otherwise(0))).alias(\"players_with_more_tier_4_units\"),\n",
    "                                     (F.sum(F.when(F.col(\"df2.total_tier_3_units\") > F.col(\"df1.total_tier_3_units\"), 1).otherwise(0))).alias(\"players_with_more_tier_3_units\"),\n",
    "                                     (F.sum(F.when(F.col(\"df2.total_tier_2_units\") > F.col(\"df1.total_tier_2_units\"), 1).otherwise(0))).alias(\"players_with_more_tier_2_units\"),\n",
    "                                     (F.sum(F.when(F.col(\"df2.total_tier_3_1_cost_units\") > F.col(\"df1.total_tier_3_1_cost_units\"), 1).otherwise(0))).alias(\"players_with_more_tier_3_1_cost_units\"),\n",
    "                                     (F.sum(F.when(F.col(\"df2.total_tier_3_2_cost_units\") > F.col(\"df1.total_tier_3_2_cost_units\"), 1).otherwise(0))).alias(\"players_with_more_tier_3_2_cost_units\"),\n",
    "                                     (F.sum(F.when(F.col(\"df2.total_tier_3_3_cost_units\") > F.col(\"df1.total_tier_3_3_cost_units\"), 1).otherwise(0))).alias(\"players_with_more_tier_3_3_cost_units\"),\n",
    "                                     (F.sum(F.when(F.col(\"df2.total_tier_3_4_cost_units\") > F.col(\"df1.total_tier_3_4_cost_units\"), 1).otherwise(0))).alias(\"players_with_more_tier_3_4_cost_units\"),\n",
    "                                     (F.sum(F.when(F.col(\"df2.total_tier_3_5_cost_units\") > F.col(\"df1.total_tier_3_5_cost_units\"), 1).otherwise(0))).alias(\"players_with_more_tier_3_5_cost_units\"),\n",
    "                                     (F.sum(F.when(F.col(\"df2.total_tier_3_6_cost_units\") > F.col(\"df1.total_tier_3_6_cost_units\"), 1).otherwise(0))).alias(\"players_with_more_tier_3_6_cost_units\"),\n",
    "                                     (F.sum(F.when(F.col(\"df2.total_tier_2_1_and_2_cost_units\") > F.col(\"df1.total_tier_2_1_and_2_cost_units\"), 1).otherwise(0))).alias(\"players_with_more_tier_2_1_and_2_cost_units\"),\n",
    "                                     (F.sum(F.when(F.col(\"df2.total_tier_2_3_cost_units\") > F.col(\"df1.total_tier_2_3_cost_units\"), 1).otherwise(0))).alias(\"players_with_more_tier_2_3_cost_units\"),\n",
    "                                     (F.sum(F.when(F.col(\"df2.total_tier_2_4_cost_units\") > F.col(\"df1.total_tier_2_4_cost_units\"), 1).otherwise(0))).alias(\"players_with_more_tier_2_4_cost_units\"),\n",
    "                                     (F.sum(F.when(F.col(\"df2.total_tier_2_5_cost_units\") > F.col(\"df1.total_tier_2_5_cost_units\"), 1).otherwise(0))).alias(\"players_with_more_tier_2_5_cost_units\"),\n",
    "                                     (F.sum(F.when(F.col(\"df2.total_tier_2_6_cost_units\") > F.col(\"df1.total_tier_2_6_cost_units\"), 1).otherwise(0))).alias(\"players_with_more_tier_2_6_cost_units\"),\n",
    "                                     (F.sum(F.when(F.col(\"df2.total_tier_1_5_cost_units\") > F.col(\"df1.total_tier_1_5_cost_units\"), 1).otherwise(0))).alias(\"players_with_more_tier_1_5_cost_units\"),\n",
    "                                     (F.sum(F.when(F.col(\"df2.total_tier_1_6_cost_units\") > F.col(\"df1.total_tier_1_6_cost_units\"), 1).otherwise(0))).alias(\"players_with_more_tier_1_6_cost_units\"),\n",
    "                                     (F.sum(F.when(F.col(\"df2.total_items\") > F.col(\"df1.total_items\"), 1).otherwise(0))).alias(\"players_with_more_items\"),\n",
    "                                     (F.sum(F.when(F.col(\"df2.total_combined_items\") > F.col(\"df1.total_combined_items\"), 1).otherwise(0))).alias(\"players_with_more_combined_items\"),\n",
    "                                     (F.sum(F.when(F.col(\"df2.total_utility_items\") > F.col(\"df1.total_utility_items\"), 1).otherwise(0))).alias(\"players_with_more_utility_items\"),\n",
    "                                     (F.sum(F.when(F.col(\"df2.total_artifact_items\") > F.col(\"df1.total_artifact_items\"), 1).otherwise(0))).alias(\"players_with_more_artifact_items\"),\n",
    "                                     (F.sum(F.when(F.col(\"df2.total_ornn_items\") > F.col(\"df1.total_ornn_items\"), 1).otherwise(0))).alias(\"players_with_more_ornn_items\"),\n",
    "                                     (F.sum(F.when(F.col(\"df2.total_chembaron_items\") > F.col(\"df1.total_chembaron_items\"), 1).otherwise(0))).alias(\"players_with_more_chembaron_items\"),\n",
    "                                     (F.sum(F.when(F.col(\"df2.total_chembaron_silver_items\") > F.col(\"df1.total_chembaron_silver_items\"), 1).otherwise(0))).alias(\"players_with_more_chembaron_silver_items\"),\n",
    "                                     (F.sum(F.when(F.col(\"df2.total_chembaron_gold_items\") > F.col(\"df1.total_chembaron_gold_items\"), 1).otherwise(0))).alias(\"players_with_more_chembaron_gold_items\"),\n",
    "                                     (F.sum(F.when(F.col(\"df2.total_chembaron_prismatic_items\") > F.col(\"df1.total_chembaron_prismatic_items\"), 1).otherwise(0))).alias(\"players_with_more_chembaron_prismatic_items\"),\n",
    "                                    )\n",
    "    return compare_unit_item_feats"
   ]
  },
  {
   "cell_type": "markdown",
   "id": "2f86da3a-db5a-4957-8d0d-c32c261f1de2",
   "metadata": {},
   "source": [
    "## 1. Load data and create trait features"
   ]
  },
  {
   "cell_type": "code",
   "execution_count": 12,
   "id": "181cab86-c56c-40d7-880b-4d2fb88fbf3f",
   "metadata": {},
   "outputs": [],
   "source": [
    "df = spark.read.parquet(os.path.join(TRAIT_FEATURE_DIR, f'trait_features_{REGION}_{TIER}_{DIVISION}.parquet'))"
   ]
  },
  {
   "cell_type": "markdown",
   "id": "2adef454-3dfb-4325-84b1-95a501c25311",
   "metadata": {},
   "source": [
    "### 1.1. Match-specific aggregated trait stats"
   ]
  },
  {
   "cell_type": "code",
   "execution_count": 13,
   "id": "c92b2711-7204-42ad-8ef8-7bce97dcb29f",
   "metadata": {},
   "outputs": [],
   "source": [
    "df = create_match_trait_count_features(df)"
   ]
  },
  {
   "cell_type": "code",
   "execution_count": 14,
   "id": "214b01cc-5660-4c82-b22a-f0e739fc2ba7",
   "metadata": {},
   "outputs": [
    {
     "data": {
      "text/plain": [
       "115"
      ]
     },
     "execution_count": 14,
     "metadata": {},
     "output_type": "execute_result"
    }
   ],
   "source": [
    "len(df.columns)"
   ]
  },
  {
   "cell_type": "markdown",
   "id": "79e55d56-2628-449a-aa52-55de767195bd",
   "metadata": {},
   "source": [
    "### 1.2. Match-specific trait comparison features"
   ]
  },
  {
   "cell_type": "code",
   "execution_count": 15,
   "id": "8bc2353b-a7db-465c-a662-1cd2ed09e703",
   "metadata": {},
   "outputs": [],
   "source": [
    "tmp = create_match_trait_compare_features(df)"
   ]
  },
  {
   "cell_type": "markdown",
   "id": "1fe8bd88-ae31-40a6-96cf-691c82952668",
   "metadata": {},
   "source": [
    "### 1.3. Join all trait features"
   ]
  },
  {
   "cell_type": "code",
   "execution_count": 16,
   "id": "855984fc-7970-46c3-ac96-96f61fbf8450",
   "metadata": {},
   "outputs": [
    {
     "data": {
      "text/plain": [
       "55136"
      ]
     },
     "execution_count": 16,
     "metadata": {},
     "output_type": "execute_result"
    }
   ],
   "source": [
    "df.count()"
   ]
  },
  {
   "cell_type": "code",
   "execution_count": 17,
   "id": "9ef87be2-22b1-4fb3-a517-facc55567839",
   "metadata": {},
   "outputs": [
    {
     "name": "stderr",
     "output_type": "stream",
     "text": [
      "                                                                                \r"
     ]
    },
    {
     "data": {
      "text/plain": [
       "55136"
      ]
     },
     "execution_count": 17,
     "metadata": {},
     "output_type": "execute_result"
    }
   ],
   "source": [
    "tmp.count()"
   ]
  },
  {
   "cell_type": "code",
   "execution_count": 18,
   "id": "7a7a1c14-f51f-439b-8cb6-d83eed8829a4",
   "metadata": {},
   "outputs": [],
   "source": [
    "df = df.join(tmp, on=['metadata_match_id', 'puuid'], how='left')"
   ]
  },
  {
   "cell_type": "code",
   "execution_count": 19,
   "id": "c9fdd48a-a06e-49d9-8719-10ae6f21c284",
   "metadata": {
    "scrolled": true
   },
   "outputs": [
    {
     "name": "stdout",
     "output_type": "stream",
     "text": [
      "root\n",
      " |-- metadata_match_id: string (nullable = true)\n",
      " |-- puuid: string (nullable = true)\n",
      " |-- active_traits: array (nullable = true)\n",
      " |    |-- element: struct (containsNull = true)\n",
      " |    |    |-- trait_name: string (nullable = true)\n",
      " |    |    |-- trait_style: double (nullable = true)\n",
      " |    |    |-- players_contesting_trait: double (nullable = true)\n",
      " |    |    |-- players_contesting_trait_higher: double (nullable = true)\n",
      " |    |    |-- is_teamup_trait: long (nullable = true)\n",
      " |    |    |-- is_unique_trait: long (nullable = true)\n",
      " |    |    |-- is_vertical_trait: long (nullable = true)\n",
      " |    |    |-- is_horizontal_trait: long (nullable = true)\n",
      " |    |    |-- is_defensive_trait: long (nullable = true)\n",
      " |    |    |-- is_offensive_trait: long (nullable = true)\n",
      " |    |    |-- is_utility_trait: long (nullable = true)\n",
      " |    |    |-- is_econ_trait: long (nullable = true)\n",
      " |-- total_active_traits: long (nullable = true)\n",
      " |-- total_teamup_traits: long (nullable = true)\n",
      " |-- total_unique_traits: long (nullable = true)\n",
      " |-- total_vertical_traits: long (nullable = true)\n",
      " |-- total_horizontal_traits: long (nullable = true)\n",
      " |-- total_defensive_traits: long (nullable = true)\n",
      " |-- total_offensive_traits: long (nullable = true)\n",
      " |-- total_utility_traits: long (nullable = true)\n",
      " |-- total_econ_traits: long (nullable = true)\n",
      " |-- total_bronze_style_traits: long (nullable = true)\n",
      " |-- total_silver_style_traits: long (nullable = true)\n",
      " |-- total_gold_style_traits: long (nullable = true)\n",
      " |-- total_prismatic_style_traits: long (nullable = true)\n",
      " |-- total_prismatic_defensive_traits: long (nullable = true)\n",
      " |-- total_gold_defensive_traits: long (nullable = true)\n",
      " |-- total_silver_defensive_traits: long (nullable = true)\n",
      " |-- total_bronze_defensive_traits: long (nullable = true)\n",
      " |-- total_prismatic_offensive_traits: long (nullable = true)\n",
      " |-- total_gold_offensive_traits: long (nullable = true)\n",
      " |-- total_silver_offensive_traits: long (nullable = true)\n",
      " |-- total_bronze_offensive_traits: long (nullable = true)\n",
      " |-- total_prismatic_econ_traits: long (nullable = true)\n",
      " |-- total_gold_econ_traits: long (nullable = true)\n",
      " |-- total_silver_econ_traits: long (nullable = true)\n",
      " |-- total_bronze_econ_traits: long (nullable = true)\n",
      " |-- total_prismatic_vertical_traits: long (nullable = true)\n",
      " |-- total_gold_vertical_traits: long (nullable = true)\n",
      " |-- total_silver_vertical_traits: long (nullable = true)\n",
      " |-- total_bronze_vertical_traits: long (nullable = true)\n",
      " |-- total_prismatic_horizontal_traits: long (nullable = true)\n",
      " |-- total_gold_horizontal_traits: long (nullable = true)\n",
      " |-- total_silver_horizontal_traits: long (nullable = true)\n",
      " |-- total_bronze_horizontal_traits: long (nullable = true)\n",
      " |-- highest_active_trait_style: double (nullable = true)\n",
      " |-- highest_vertical_trait_style: double (nullable = true)\n",
      " |-- highest_horizontal_trait_style: double (nullable = true)\n",
      " |-- highest_defensive_trait_style: double (nullable = true)\n",
      " |-- highest_offensive_trait_style: double (nullable = true)\n",
      " |-- highest_utility_trait_style: double (nullable = true)\n",
      " |-- highest_econ_trait_style: double (nullable = true)\n",
      " |-- match_avg_active_traits: double (nullable = true)\n",
      " |-- match_max_active_traits: long (nullable = true)\n",
      " |-- match_min_active_traits: long (nullable = true)\n",
      " |-- match_avg_unique_traits: double (nullable = true)\n",
      " |-- match_max_unique_traits: long (nullable = true)\n",
      " |-- match_min_unique_traits: long (nullable = true)\n",
      " |-- match_players_with_unique_traits: long (nullable = true)\n",
      " |-- match_avg_teamup_traits: double (nullable = true)\n",
      " |-- match_max_teamup_traits: long (nullable = true)\n",
      " |-- match_min_teamup_traits: long (nullable = true)\n",
      " |-- match_players_with_teamup_traits: long (nullable = true)\n",
      " |-- match_avg_vertical_traits: double (nullable = true)\n",
      " |-- match_max_vertical_traits: long (nullable = true)\n",
      " |-- match_min_vertical_traits: long (nullable = true)\n",
      " |-- match_avg_horizontal_traits: double (nullable = true)\n",
      " |-- match_max_horizontal_traits: long (nullable = true)\n",
      " |-- match_min_horizontal_traits: long (nullable = true)\n",
      " |-- match_avg_defensive_traits: double (nullable = true)\n",
      " |-- match_max_defensive_traits: long (nullable = true)\n",
      " |-- match_min_defensive_traits: long (nullable = true)\n",
      " |-- match_players_with_defensive_traits: long (nullable = true)\n",
      " |-- match_avg_offensive_traits: double (nullable = true)\n",
      " |-- match_max_offensive_traits: long (nullable = true)\n",
      " |-- match_min_offensive_traits: long (nullable = true)\n",
      " |-- match_players_with_offensive_traits: long (nullable = true)\n",
      " |-- match_avg_utility_traits: double (nullable = true)\n",
      " |-- match_max_utility_traits: long (nullable = true)\n",
      " |-- match_min_utility_traits: long (nullable = true)\n",
      " |-- match_avg_econ_traits: double (nullable = true)\n",
      " |-- match_max_econ_traits: long (nullable = true)\n",
      " |-- match_min_econ_traits: long (nullable = true)\n",
      " |-- match_players_with_econ_traits: long (nullable = true)\n",
      " |-- match_avg_bronze_style_traits: double (nullable = true)\n",
      " |-- match_max_bronze_style_traits: long (nullable = true)\n",
      " |-- match_min_bronze_style_traits: long (nullable = true)\n",
      " |-- match_avg_silver_style_traits: double (nullable = true)\n",
      " |-- match_max_silver_style_traits: long (nullable = true)\n",
      " |-- match_min_silver_style_traits: long (nullable = true)\n",
      " |-- match_avg_gold_style_traits: double (nullable = true)\n",
      " |-- match_max_gold_style_traits: long (nullable = true)\n",
      " |-- match_min_gold_style_traits: long (nullable = true)\n",
      " |-- match_avg_prismatic_style_traits: double (nullable = true)\n",
      " |-- match_max_prismatic_style_traits: long (nullable = true)\n",
      " |-- match_min_prismatic_style_traits: long (nullable = true)\n",
      " |-- match_avg_prismatic_vertical_traits: double (nullable = true)\n",
      " |-- match_max_prismatic_vertical_traits: long (nullable = true)\n",
      " |-- match_min_prismatic_vertical_traits: long (nullable = true)\n",
      " |-- match_players_with_prismatic_vertical_traits: long (nullable = true)\n",
      " |-- match_avg_gold_vertical_traits: double (nullable = true)\n",
      " |-- match_max_gold_vertical_traits: long (nullable = true)\n",
      " |-- match_min_gold_vertical_traits: long (nullable = true)\n",
      " |-- match_players_with_gold_vertical_traits: long (nullable = true)\n",
      " |-- match_avg_silver_vertical_traits: double (nullable = true)\n",
      " |-- match_max_silver_vertical_traits: long (nullable = true)\n",
      " |-- match_min_silver_vertical_traits: long (nullable = true)\n",
      " |-- match_avg_bronze_vertical_traits: double (nullable = true)\n",
      " |-- match_max_bronze_vertical_traits: long (nullable = true)\n",
      " |-- match_min_bronze_vertical_traits: long (nullable = true)\n",
      " |-- match_avg_prismatic_horizontal_traits: double (nullable = true)\n",
      " |-- match_max_prismatic_horizontal_traits: long (nullable = true)\n",
      " |-- match_min_prismatic_horizontal_traits: long (nullable = true)\n",
      " |-- match_players_with_prismatic_horizontal_traits: long (nullable = true)\n",
      " |-- match_avg_gold_horizontal_traits: double (nullable = true)\n",
      " |-- match_max_gold_horizontal_traits: long (nullable = true)\n",
      " |-- match_min_gold_horizontal_traits: long (nullable = true)\n",
      " |-- match_players_with_gold_horizontal_traits: long (nullable = true)\n",
      " |-- match_avg_silver_horizontal_traits: double (nullable = true)\n",
      " |-- match_max_silver_horizontal_traits: long (nullable = true)\n",
      " |-- match_min_silver_horizontal_traits: long (nullable = true)\n",
      " |-- match_avg_bronze_horizontal_traits: double (nullable = true)\n",
      " |-- match_max_bronze_horizontal_traits: long (nullable = true)\n",
      " |-- match_min_bronze_horizontal_traits: long (nullable = true)\n",
      " |-- players_with_more_active_traits: long (nullable = true)\n",
      " |-- players_with_more_unique_traits: long (nullable = true)\n",
      " |-- players_with_more_vertical_traits: long (nullable = true)\n",
      " |-- players_with_more_horizontal_traits: long (nullable = true)\n",
      " |-- players_with_more_offensive_traits: long (nullable = true)\n",
      " |-- players_with_more_defensive_traits: long (nullable = true)\n",
      " |-- players_with_more_utility_traits: long (nullable = true)\n",
      " |-- players_with_more_prismatic_style_traits: long (nullable = true)\n",
      " |-- players_with_more_gold_style_traits: long (nullable = true)\n",
      " |-- players_with_more_prismatic_vertical_traits: long (nullable = true)\n",
      " |-- players_with_more_gold_vertical_traits: long (nullable = true)\n",
      " |-- players_with_more_prismatic_horizontal_traits: long (nullable = true)\n",
      " |-- players_with_more_gold_horizontal_traits: long (nullable = true)\n",
      "\n"
     ]
    }
   ],
   "source": [
    "df.printSchema()"
   ]
  },
  {
   "cell_type": "code",
   "execution_count": 20,
   "id": "51a140ff-af40-4b2a-8159-04af0ef3c86c",
   "metadata": {},
   "outputs": [
    {
     "name": "stderr",
     "output_type": "stream",
     "text": [
      "25/03/17 17:31:29 WARN SparkStringUtils: Truncated the string representation of a plan since it was too large. This behavior can be adjusted by setting 'spark.sql.debug.maxToStringFields'.\n",
      "                                                                                \r"
     ]
    }
   ],
   "source": [
    "df.write.mode('overwrite').parquet(os.path.join(TRAIT_OUTPUT_DIR, f'all_trait_features_{REGION}_{TIER}_{DIVISION}.parquet'))"
   ]
  },
  {
   "cell_type": "markdown",
   "id": "0e65f78e-66d0-49a9-bb57-6d9d4669e728",
   "metadata": {},
   "source": [
    "## 2. Load data and create unit & items features"
   ]
  },
  {
   "cell_type": "code",
   "execution_count": 21,
   "id": "3fcc8ffa-6dab-4efb-b99c-3a698a537694",
   "metadata": {},
   "outputs": [],
   "source": [
    "df = spark.read.parquet(os.path.join(UNIT_ITEM_FEATURE_DIR, f'unit_item_features_{REGION}_{TIER}_{DIVISION}.parquet'))"
   ]
  },
  {
   "cell_type": "code",
   "execution_count": 22,
   "id": "5a691c9e-ea4c-48d2-94df-99124b178745",
   "metadata": {},
   "outputs": [
    {
     "data": {
      "text/plain": [
       "55136"
      ]
     },
     "execution_count": 22,
     "metadata": {},
     "output_type": "execute_result"
    }
   ],
   "source": [
    "df.count()"
   ]
  },
  {
   "cell_type": "code",
   "execution_count": 23,
   "id": "0491833b-6b40-4ed9-b453-94efc75cf6a8",
   "metadata": {
    "scrolled": true
   },
   "outputs": [
    {
     "name": "stdout",
     "output_type": "stream",
     "text": [
      "root\n",
      " |-- metadata_match_id: string (nullable = true)\n",
      " |-- puuid: string (nullable = true)\n",
      " |-- units: array (nullable = true)\n",
      " |    |-- element: struct (containsNull = true)\n",
      " |    |    |-- unit_name: string (nullable = true)\n",
      " |    |    |-- unit_cost: long (nullable = true)\n",
      " |    |    |-- unit_tier: long (nullable = true)\n",
      " |    |    |-- unit_item_count: long (nullable = true)\n",
      " |    |    |-- players_contesting_unit: double (nullable = true)\n",
      " |    |    |-- players_contesting_unit_tier_equal: double (nullable = true)\n",
      " |    |    |-- players_contesting_unit_tier_higher: double (nullable = true)\n",
      " |    |    |-- is_ap_damage: long (nullable = true)\n",
      " |    |    |-- is_ad_damage: long (nullable = true)\n",
      " |    |    |-- is_carry: long (nullable = true)\n",
      " |    |    |-- is_caster: long (nullable = true)\n",
      " |    |    |-- is_tank: long (nullable = true)\n",
      " |    |    |-- is_reaper: long (nullable = true)\n",
      " |    |    |-- is_fighter: long (nullable = true)\n",
      " |    |    |-- unit_radiant_item_count: long (nullable = true)\n",
      " |    |    |-- unit_artifact_item_count: long (nullable = true)\n",
      " |    |    |-- unit_utility_item_count: long (nullable = true)\n",
      " |    |    |-- unit_emblem_item_count: long (nullable = true)\n",
      " |    |    |-- unit_ornn_item_count: long (nullable = true)\n",
      " |    |    |-- unit_chembaron_item_count: long (nullable = true)\n",
      " |    |    |-- unit_chembaron_gold_item_count: long (nullable = true)\n",
      " |    |    |-- unit_chembaron_prismatic_item_count: long (nullable = true)\n",
      " |-- total_units: long (nullable = true)\n",
      " |-- total_items: long (nullable = true)\n",
      " |-- highest_unit_cost: long (nullable = true)\n",
      " |-- average_unit_cost: double (nullable = true)\n",
      " |-- total_board_cost: long (nullable = true)\n",
      " |-- total_tier_4_units: long (nullable = true)\n",
      " |-- total_tier_3_units: long (nullable = true)\n",
      " |-- total_tier_2_units: long (nullable = true)\n",
      " |-- total_tier_3_1_cost_units: long (nullable = true)\n",
      " |-- total_tier_3_2_cost_units: long (nullable = true)\n",
      " |-- total_tier_3_3_cost_units: long (nullable = true)\n",
      " |-- total_tier_3_4_cost_units: long (nullable = true)\n",
      " |-- total_tier_3_5_cost_units: long (nullable = true)\n",
      " |-- total_tier_3_6_cost_units: long (nullable = true)\n",
      " |-- total_tier_2_1_and_2_cost_units: long (nullable = true)\n",
      " |-- total_tier_2_3_cost_units: long (nullable = true)\n",
      " |-- total_tier_2_4_cost_units: long (nullable = true)\n",
      " |-- total_tier_2_5_cost_units: long (nullable = true)\n",
      " |-- total_tier_2_6_cost_units: long (nullable = true)\n",
      " |-- total_tier_1_5_cost_units: long (nullable = true)\n",
      " |-- total_tier_1_6_cost_units: long (nullable = true)\n",
      " |-- total_ap_units: long (nullable = true)\n",
      " |-- total_ad_units: long (nullable = true)\n",
      " |-- total_carry_units: long (nullable = true)\n",
      " |-- total_caster_units: long (nullable = true)\n",
      " |-- total_tank_units: long (nullable = true)\n",
      " |-- total_reaper_units: long (nullable = true)\n",
      " |-- total_fighter_units: long (nullable = true)\n",
      " |-- total_component_items: long (nullable = true)\n",
      " |-- total_combined_items: long (nullable = true)\n",
      " |-- total_radiant_items: long (nullable = true)\n",
      " |-- total_tactician_crown_items: long (nullable = true)\n",
      " |-- total_utility_items: long (nullable = true)\n",
      " |-- total_artifact_items: long (nullable = true)\n",
      " |-- total_chembaron_items: long (nullable = true)\n",
      " |-- total_chembaron_bronze_items: long (nullable = true)\n",
      " |-- total_chembaron_silver_items: long (nullable = true)\n",
      " |-- total_chembaron_gold_items: long (nullable = true)\n",
      " |-- total_chembaron_prismatic_items: long (nullable = true)\n",
      " |-- total_emblem_items: long (nullable = true)\n",
      " |-- total_junkerking_upgrade_items: long (nullable = true)\n",
      " |-- total_shimmerscale_items: long (nullable = true)\n",
      " |-- total_ornn_items: long (nullable = true)\n",
      "\n"
     ]
    }
   ],
   "source": [
    "df.printSchema()"
   ]
  },
  {
   "cell_type": "markdown",
   "id": "932b9f72-862a-4405-a520-4cbbdda4f8d3",
   "metadata": {},
   "source": [
    "### 2.1. Match-specific aggregated unit & item stats"
   ]
  },
  {
   "cell_type": "code",
   "execution_count": 24,
   "id": "bba05c66-91c0-4504-8fe1-34df8f2230c0",
   "metadata": {},
   "outputs": [],
   "source": [
    "df = create_unit_item_count_features(df)"
   ]
  },
  {
   "cell_type": "code",
   "execution_count": 25,
   "id": "8eb61de3-4bb9-4c6e-9ea1-f0e10475a545",
   "metadata": {},
   "outputs": [
    {
     "data": {
      "text/plain": [
       "125"
      ]
     },
     "execution_count": 25,
     "metadata": {},
     "output_type": "execute_result"
    }
   ],
   "source": [
    "len(df.columns)"
   ]
  },
  {
   "cell_type": "code",
   "execution_count": null,
   "id": "9e343f2e-b11e-4bf4-8647-9fafd1260006",
   "metadata": {},
   "outputs": [],
   "source": []
  },
  {
   "cell_type": "markdown",
   "id": "30ef5b0b-c182-4319-9688-4989babbcc1a",
   "metadata": {},
   "source": [
    "### 2.2. Match-specific unit & item comparison features"
   ]
  },
  {
   "cell_type": "code",
   "execution_count": 26,
   "id": "05560303-cfbe-4807-ada0-7e3fc6013827",
   "metadata": {},
   "outputs": [],
   "source": [
    "tmp = create_match_unit_item_compare_features(df)"
   ]
  },
  {
   "cell_type": "code",
   "execution_count": 27,
   "id": "061547e8-30a8-4a3f-9e47-08d816bae8a3",
   "metadata": {},
   "outputs": [],
   "source": [
    "# tmp.show(1, False, True)"
   ]
  },
  {
   "cell_type": "markdown",
   "id": "dbb6714b-c97c-4151-a525-fc546286231e",
   "metadata": {},
   "source": [
    "### 2.3. Join all unit & item features"
   ]
  },
  {
   "cell_type": "code",
   "execution_count": 28,
   "id": "6b753067-1972-4080-ab90-7d6d4a15cdb7",
   "metadata": {},
   "outputs": [
    {
     "data": {
      "text/plain": [
       "55136"
      ]
     },
     "execution_count": 28,
     "metadata": {},
     "output_type": "execute_result"
    }
   ],
   "source": [
    "df.count()"
   ]
  },
  {
   "cell_type": "code",
   "execution_count": 29,
   "id": "0442f91a-404b-4ccf-87dd-f0b941747fda",
   "metadata": {},
   "outputs": [
    {
     "data": {
      "text/plain": [
       "55136"
      ]
     },
     "execution_count": 29,
     "metadata": {},
     "output_type": "execute_result"
    }
   ],
   "source": [
    "tmp.count()"
   ]
  },
  {
   "cell_type": "code",
   "execution_count": 30,
   "id": "23f9bb74-30dd-4393-bc1d-d1c4335f48a9",
   "metadata": {},
   "outputs": [],
   "source": [
    "df = df.join(tmp, on=['metadata_match_id', 'puuid'], how='left')"
   ]
  },
  {
   "cell_type": "code",
   "execution_count": 31,
   "id": "a285e6c6-05e2-4bc4-a79b-d2cf105e9d23",
   "metadata": {
    "scrolled": true
   },
   "outputs": [
    {
     "name": "stdout",
     "output_type": "stream",
     "text": [
      "root\n",
      " |-- metadata_match_id: string (nullable = true)\n",
      " |-- puuid: string (nullable = true)\n",
      " |-- units: array (nullable = true)\n",
      " |    |-- element: struct (containsNull = true)\n",
      " |    |    |-- unit_name: string (nullable = true)\n",
      " |    |    |-- unit_cost: long (nullable = true)\n",
      " |    |    |-- unit_tier: long (nullable = true)\n",
      " |    |    |-- unit_item_count: long (nullable = true)\n",
      " |    |    |-- players_contesting_unit: double (nullable = true)\n",
      " |    |    |-- players_contesting_unit_tier_equal: double (nullable = true)\n",
      " |    |    |-- players_contesting_unit_tier_higher: double (nullable = true)\n",
      " |    |    |-- is_ap_damage: long (nullable = true)\n",
      " |    |    |-- is_ad_damage: long (nullable = true)\n",
      " |    |    |-- is_carry: long (nullable = true)\n",
      " |    |    |-- is_caster: long (nullable = true)\n",
      " |    |    |-- is_tank: long (nullable = true)\n",
      " |    |    |-- is_reaper: long (nullable = true)\n",
      " |    |    |-- is_fighter: long (nullable = true)\n",
      " |    |    |-- unit_radiant_item_count: long (nullable = true)\n",
      " |    |    |-- unit_artifact_item_count: long (nullable = true)\n",
      " |    |    |-- unit_utility_item_count: long (nullable = true)\n",
      " |    |    |-- unit_emblem_item_count: long (nullable = true)\n",
      " |    |    |-- unit_ornn_item_count: long (nullable = true)\n",
      " |    |    |-- unit_chembaron_item_count: long (nullable = true)\n",
      " |    |    |-- unit_chembaron_gold_item_count: long (nullable = true)\n",
      " |    |    |-- unit_chembaron_prismatic_item_count: long (nullable = true)\n",
      " |-- total_units: long (nullable = true)\n",
      " |-- total_items: long (nullable = true)\n",
      " |-- highest_unit_cost: long (nullable = true)\n",
      " |-- average_unit_cost: double (nullable = true)\n",
      " |-- total_board_cost: long (nullable = true)\n",
      " |-- total_tier_4_units: long (nullable = true)\n",
      " |-- total_tier_3_units: long (nullable = true)\n",
      " |-- total_tier_2_units: long (nullable = true)\n",
      " |-- total_tier_3_1_cost_units: long (nullable = true)\n",
      " |-- total_tier_3_2_cost_units: long (nullable = true)\n",
      " |-- total_tier_3_3_cost_units: long (nullable = true)\n",
      " |-- total_tier_3_4_cost_units: long (nullable = true)\n",
      " |-- total_tier_3_5_cost_units: long (nullable = true)\n",
      " |-- total_tier_3_6_cost_units: long (nullable = true)\n",
      " |-- total_tier_2_1_and_2_cost_units: long (nullable = true)\n",
      " |-- total_tier_2_3_cost_units: long (nullable = true)\n",
      " |-- total_tier_2_4_cost_units: long (nullable = true)\n",
      " |-- total_tier_2_5_cost_units: long (nullable = true)\n",
      " |-- total_tier_2_6_cost_units: long (nullable = true)\n",
      " |-- total_tier_1_5_cost_units: long (nullable = true)\n",
      " |-- total_tier_1_6_cost_units: long (nullable = true)\n",
      " |-- total_ap_units: long (nullable = true)\n",
      " |-- total_ad_units: long (nullable = true)\n",
      " |-- total_carry_units: long (nullable = true)\n",
      " |-- total_caster_units: long (nullable = true)\n",
      " |-- total_tank_units: long (nullable = true)\n",
      " |-- total_reaper_units: long (nullable = true)\n",
      " |-- total_fighter_units: long (nullable = true)\n",
      " |-- total_component_items: long (nullable = true)\n",
      " |-- total_combined_items: long (nullable = true)\n",
      " |-- total_radiant_items: long (nullable = true)\n",
      " |-- total_tactician_crown_items: long (nullable = true)\n",
      " |-- total_utility_items: long (nullable = true)\n",
      " |-- total_artifact_items: long (nullable = true)\n",
      " |-- total_chembaron_items: long (nullable = true)\n",
      " |-- total_chembaron_bronze_items: long (nullable = true)\n",
      " |-- total_chembaron_silver_items: long (nullable = true)\n",
      " |-- total_chembaron_gold_items: long (nullable = true)\n",
      " |-- total_chembaron_prismatic_items: long (nullable = true)\n",
      " |-- total_emblem_items: long (nullable = true)\n",
      " |-- total_junkerking_upgrade_items: long (nullable = true)\n",
      " |-- total_shimmerscale_items: long (nullable = true)\n",
      " |-- total_ornn_items: long (nullable = true)\n",
      " |-- match_avg_total_units: double (nullable = true)\n",
      " |-- match_max_total_units: long (nullable = true)\n",
      " |-- match_min_total_units: long (nullable = true)\n",
      " |-- match_avg_total_items: double (nullable = true)\n",
      " |-- match_max_total_items: long (nullable = true)\n",
      " |-- match_min_total_items: long (nullable = true)\n",
      " |-- match_avg_total_board_cost: double (nullable = true)\n",
      " |-- match_max_total_board_cost: long (nullable = true)\n",
      " |-- match_min_total_board_cost: long (nullable = true)\n",
      " |-- match_avg_highest_unit_cost: double (nullable = true)\n",
      " |-- match_max_highest_unit_cost: long (nullable = true)\n",
      " |-- match_min_highest_unit_cost: long (nullable = true)\n",
      " |-- match_avg_total_ap_units: double (nullable = true)\n",
      " |-- match_max_total_ap_units: long (nullable = true)\n",
      " |-- match_min_total_ap_units: long (nullable = true)\n",
      " |-- match_avg_total_ad_units: double (nullable = true)\n",
      " |-- match_max_total_ad_units: long (nullable = true)\n",
      " |-- match_min_total_ad_units: long (nullable = true)\n",
      " |-- match_avg_total_carry_units: double (nullable = true)\n",
      " |-- match_max_total_carry_units: long (nullable = true)\n",
      " |-- match_min_total_carry_units: long (nullable = true)\n",
      " |-- match_avg_total_caster_units: double (nullable = true)\n",
      " |-- match_max_total_caster_units: long (nullable = true)\n",
      " |-- match_min_total_caster_units: long (nullable = true)\n",
      " |-- match_avg_total_tank_units: double (nullable = true)\n",
      " |-- match_max_total_tank_units: long (nullable = true)\n",
      " |-- match_min_total_tank_units: long (nullable = true)\n",
      " |-- match_avg_total_reaper_units: double (nullable = true)\n",
      " |-- match_max_total_reaper_units: long (nullable = true)\n",
      " |-- match_min_total_reaper_units: long (nullable = true)\n",
      " |-- match_avg_total_fighter_units: double (nullable = true)\n",
      " |-- match_max_total_fighter_units: long (nullable = true)\n",
      " |-- match_min_total_fighter_units: long (nullable = true)\n",
      " |-- match_avg_total_combined_items: double (nullable = true)\n",
      " |-- match_max_total_combined_items: long (nullable = true)\n",
      " |-- match_min_total_combined_items: long (nullable = true)\n",
      " |-- match_avg_total_radiant_items: double (nullable = true)\n",
      " |-- match_max_total_radiant_items: long (nullable = true)\n",
      " |-- match_min_total_radiant_items: long (nullable = true)\n",
      " |-- match_avg_total_tactician_crown_items: double (nullable = true)\n",
      " |-- match_max_total_tactician_crown_items: long (nullable = true)\n",
      " |-- match_min_total_tactician_crown_items: long (nullable = true)\n",
      " |-- players_with_tactician_crown_items: long (nullable = true)\n",
      " |-- match_avg_total_artifact_items: double (nullable = true)\n",
      " |-- match_max_total_artifact_items: long (nullable = true)\n",
      " |-- match_min_total_artifact_items: long (nullable = true)\n",
      " |-- players_with_artifact_items: long (nullable = true)\n",
      " |-- match_avg_total_emblem_items: double (nullable = true)\n",
      " |-- match_max_total_emblem_items: long (nullable = true)\n",
      " |-- match_min_total_emblem_items: long (nullable = true)\n",
      " |-- players_with_emblem_items: long (nullable = true)\n",
      " |-- match_avg_total_ornn_items: double (nullable = true)\n",
      " |-- match_max_total_ornn_items: long (nullable = true)\n",
      " |-- match_min_total_ornn_items: long (nullable = true)\n",
      " |-- players_with_ornn_items: long (nullable = true)\n",
      " |-- match_avg_total_shimmerscale_items: double (nullable = true)\n",
      " |-- match_max_total_shimmerscale_items: long (nullable = true)\n",
      " |-- match_min_total_shimmerscale_items: long (nullable = true)\n",
      " |-- players_with_shimmerscale_items: long (nullable = true)\n",
      " |-- match_avg_total_chembaron_items: double (nullable = true)\n",
      " |-- match_max_total_chembaron_items: long (nullable = true)\n",
      " |-- match_min_total_chembaron_items: long (nullable = true)\n",
      " |-- players_with_chembaron_items: long (nullable = true)\n",
      " |-- match_avg_total_chembaron_bronze_items: double (nullable = true)\n",
      " |-- match_max_total_chembaron_bronze_items: long (nullable = true)\n",
      " |-- match_min_total_chembaron_bronze_items: long (nullable = true)\n",
      " |-- players_with_chembaron_bronze_items: long (nullable = true)\n",
      " |-- match_avg_total_chembaron_silver_items: double (nullable = true)\n",
      " |-- match_max_total_chembaron_silver_items: long (nullable = true)\n",
      " |-- match_min_total_chembaron_silver_items: long (nullable = true)\n",
      " |-- players_with_chembaron_silver_items: long (nullable = true)\n",
      " |-- match_avg_total_chembaron_gold_items: double (nullable = true)\n",
      " |-- match_max_total_chembaron_gold_items: long (nullable = true)\n",
      " |-- match_min_total_chembaron_gold_items: long (nullable = true)\n",
      " |-- players_with_chembaron_gold_items: long (nullable = true)\n",
      " |-- match_avg_total_chembaron_prismatic_items: double (nullable = true)\n",
      " |-- match_max_total_chembaron_prismatic_items: long (nullable = true)\n",
      " |-- match_min_total_chembaron_prismatic_items: long (nullable = true)\n",
      " |-- players_with_chembaron_prismatic_items: long (nullable = true)\n",
      " |-- players_with_more_units: long (nullable = true)\n",
      " |-- players_with_higher_total_board_cost: long (nullable = true)\n",
      " |-- players_with_more_tier_4_units: long (nullable = true)\n",
      " |-- players_with_more_tier_3_units: long (nullable = true)\n",
      " |-- players_with_more_tier_2_units: long (nullable = true)\n",
      " |-- players_with_more_tier_3_1_cost_units: long (nullable = true)\n",
      " |-- players_with_more_tier_3_2_cost_units: long (nullable = true)\n",
      " |-- players_with_more_tier_3_3_cost_units: long (nullable = true)\n",
      " |-- players_with_more_tier_3_4_cost_units: long (nullable = true)\n",
      " |-- players_with_more_tier_3_5_cost_units: long (nullable = true)\n",
      " |-- players_with_more_tier_3_6_cost_units: long (nullable = true)\n",
      " |-- players_with_more_tier_2_1_and_2_cost_units: long (nullable = true)\n",
      " |-- players_with_more_tier_2_3_cost_units: long (nullable = true)\n",
      " |-- players_with_more_tier_2_4_cost_units: long (nullable = true)\n",
      " |-- players_with_more_tier_2_5_cost_units: long (nullable = true)\n",
      " |-- players_with_more_tier_2_6_cost_units: long (nullable = true)\n",
      " |-- players_with_more_tier_1_5_cost_units: long (nullable = true)\n",
      " |-- players_with_more_tier_1_6_cost_units: long (nullable = true)\n",
      " |-- players_with_more_items: long (nullable = true)\n",
      " |-- players_with_more_combined_items: long (nullable = true)\n",
      " |-- players_with_more_utility_items: long (nullable = true)\n",
      " |-- players_with_more_artifact_items: long (nullable = true)\n",
      " |-- players_with_more_ornn_items: long (nullable = true)\n",
      " |-- players_with_more_chembaron_items: long (nullable = true)\n",
      " |-- players_with_more_chembaron_silver_items: long (nullable = true)\n",
      " |-- players_with_more_chembaron_gold_items: long (nullable = true)\n",
      " |-- players_with_more_chembaron_prismatic_items: long (nullable = true)\n",
      "\n"
     ]
    }
   ],
   "source": [
    "df.printSchema()"
   ]
  },
  {
   "cell_type": "code",
   "execution_count": 32,
   "id": "56881f19-767c-49ca-9cc9-4844bfa97cdb",
   "metadata": {},
   "outputs": [
    {
     "name": "stderr",
     "output_type": "stream",
     "text": [
      "                                                                                \r"
     ]
    }
   ],
   "source": [
    "df.write.mode('overwrite').parquet(os.path.join(UNIT_ITEM_OUTPUT_DIR, f'all_unit_item_features_{REGION}_{TIER}_{DIVISION}.parquet'))"
   ]
  },
  {
   "cell_type": "markdown",
   "id": "3d43f2d2-a852-462a-b77a-ae923fa68d4d",
   "metadata": {},
   "source": [
    "## 3. Match-specific stats"
   ]
  },
  {
   "cell_type": "code",
   "execution_count": 33,
   "id": "73788fe5-1fbe-4835-a7f5-f6d3a7e12498",
   "metadata": {},
   "outputs": [],
   "source": [
    "df = spark.read.parquet(os.path.join(MATCH_STAT_DIR, f'match_stats_{REGION}_{TIER}_{DIVISION}.parquet')).drop('__index_level_0__')\\\n",
    "            .withColumn('win', F.when(F.col('placement') < 5, 1).otherwise(0))"
   ]
  },
  {
   "cell_type": "code",
   "execution_count": 34,
   "id": "4bd7fb70-0402-4cfa-bc26-3bd28153bc75",
   "metadata": {},
   "outputs": [
    {
     "name": "stdout",
     "output_type": "stream",
     "text": [
      "root\n",
      " |-- metadata_match_id: string (nullable = true)\n",
      " |-- puuid: string (nullable = true)\n",
      " |-- info_game_length: double (nullable = true)\n",
      " |-- gold_left: long (nullable = true)\n",
      " |-- last_round: long (nullable = true)\n",
      " |-- level: long (nullable = true)\n",
      " |-- placement: long (nullable = true)\n",
      " |-- players_eliminated: long (nullable = true)\n",
      " |-- total_damage_to_players: long (nullable = true)\n",
      " |-- win: integer (nullable = false)\n",
      " |-- max_level_by_match: long (nullable = true)\n",
      " |-- min_level_by_match: long (nullable = true)\n",
      " |-- avg_level_by_match: double (nullable = true)\n",
      " |-- diff_max_level: long (nullable = true)\n",
      " |-- diff_min_level: long (nullable = true)\n",
      " |-- max_players_eliminated_by_match: long (nullable = true)\n",
      " |-- min_players_eliminated_by_match: long (nullable = true)\n",
      " |-- avg_players_eliminated_by_match: double (nullable = true)\n",
      " |-- diff_max_players_eliminated: long (nullable = true)\n",
      " |-- diff_min_players_eliminated: long (nullable = true)\n",
      " |-- max_total_damage_to_players_by_match: long (nullable = true)\n",
      " |-- min_total_damage_to_players_by_match: long (nullable = true)\n",
      " |-- avg_total_damage_to_players_by_match: double (nullable = true)\n",
      " |-- diff_max_total_damage_to_players: long (nullable = true)\n",
      " |-- diff_min_total_damage_to_players: long (nullable = true)\n",
      " |-- max_gold_left_by_match: long (nullable = true)\n",
      " |-- min_gold_left_by_match: long (nullable = true)\n",
      " |-- avg_gold_left_by_match: double (nullable = true)\n",
      " |-- diff_max_gold_left: long (nullable = true)\n",
      " |-- diff_min_gold_left: long (nullable = true)\n",
      "\n"
     ]
    }
   ],
   "source": [
    "df.printSchema()"
   ]
  },
  {
   "cell_type": "code",
   "execution_count": 35,
   "id": "c8882c9e-58a3-48b3-8766-5405ef38336b",
   "metadata": {},
   "outputs": [
    {
     "data": {
      "text/plain": [
       "55136"
      ]
     },
     "execution_count": 35,
     "metadata": {},
     "output_type": "execute_result"
    }
   ],
   "source": [
    "df.count()"
   ]
  },
  {
   "cell_type": "markdown",
   "id": "36856033-b8f0-48c1-9d26-7ab04eb19ae6",
   "metadata": {},
   "source": [
    "### 3.1. Match-specific stat comparison features"
   ]
  },
  {
   "cell_type": "code",
   "execution_count": 36,
   "id": "258b027c-01e5-4220-a133-213bbfb9f079",
   "metadata": {},
   "outputs": [],
   "source": [
    "tmp = create_match_stat_compare_features(df)"
   ]
  },
  {
   "cell_type": "code",
   "execution_count": 37,
   "id": "7752b4b9-0243-49db-bdef-17bc1088e2b6",
   "metadata": {},
   "outputs": [
    {
     "name": "stdout",
     "output_type": "stream",
     "text": [
      "root\n",
      " |-- metadata_match_id: string (nullable = true)\n",
      " |-- puuid: string (nullable = true)\n",
      " |-- players_with_higher_level: long (nullable = true)\n",
      " |-- players_with_more_gold_left: long (nullable = true)\n",
      "\n"
     ]
    }
   ],
   "source": [
    "tmp.printSchema()"
   ]
  },
  {
   "cell_type": "code",
   "execution_count": 38,
   "id": "40478488-531a-4f2c-a06b-4c5bfc775bca",
   "metadata": {},
   "outputs": [
    {
     "name": "stderr",
     "output_type": "stream",
     "text": [
      "                                                                                \r"
     ]
    },
    {
     "data": {
      "text/plain": [
       "(55136, 55136)"
      ]
     },
     "execution_count": 38,
     "metadata": {},
     "output_type": "execute_result"
    }
   ],
   "source": [
    "df.count(), tmp.count()"
   ]
  },
  {
   "cell_type": "markdown",
   "id": "80c34eb4-7678-472c-9df9-4fd4ea20313a",
   "metadata": {},
   "source": [
    "### 3.2. Join all match features"
   ]
  },
  {
   "cell_type": "code",
   "execution_count": 39,
   "id": "fbfcca03-40f2-4716-901b-182ecb1344f6",
   "metadata": {},
   "outputs": [],
   "source": [
    "df = df.join(tmp, on=['metadata_match_id', 'puuid'], how='left')"
   ]
  },
  {
   "cell_type": "code",
   "execution_count": 40,
   "id": "e18c64f6-7017-4414-966d-4d3ba6f90b49",
   "metadata": {},
   "outputs": [
    {
     "name": "stdout",
     "output_type": "stream",
     "text": [
      "root\n",
      " |-- metadata_match_id: string (nullable = true)\n",
      " |-- puuid: string (nullable = true)\n",
      " |-- info_game_length: double (nullable = true)\n",
      " |-- gold_left: long (nullable = true)\n",
      " |-- last_round: long (nullable = true)\n",
      " |-- level: long (nullable = true)\n",
      " |-- placement: long (nullable = true)\n",
      " |-- players_eliminated: long (nullable = true)\n",
      " |-- total_damage_to_players: long (nullable = true)\n",
      " |-- win: integer (nullable = false)\n",
      " |-- max_level_by_match: long (nullable = true)\n",
      " |-- min_level_by_match: long (nullable = true)\n",
      " |-- avg_level_by_match: double (nullable = true)\n",
      " |-- diff_max_level: long (nullable = true)\n",
      " |-- diff_min_level: long (nullable = true)\n",
      " |-- max_players_eliminated_by_match: long (nullable = true)\n",
      " |-- min_players_eliminated_by_match: long (nullable = true)\n",
      " |-- avg_players_eliminated_by_match: double (nullable = true)\n",
      " |-- diff_max_players_eliminated: long (nullable = true)\n",
      " |-- diff_min_players_eliminated: long (nullable = true)\n",
      " |-- max_total_damage_to_players_by_match: long (nullable = true)\n",
      " |-- min_total_damage_to_players_by_match: long (nullable = true)\n",
      " |-- avg_total_damage_to_players_by_match: double (nullable = true)\n",
      " |-- diff_max_total_damage_to_players: long (nullable = true)\n",
      " |-- diff_min_total_damage_to_players: long (nullable = true)\n",
      " |-- max_gold_left_by_match: long (nullable = true)\n",
      " |-- min_gold_left_by_match: long (nullable = true)\n",
      " |-- avg_gold_left_by_match: double (nullable = true)\n",
      " |-- diff_max_gold_left: long (nullable = true)\n",
      " |-- diff_min_gold_left: long (nullable = true)\n",
      " |-- players_with_higher_level: long (nullable = true)\n",
      " |-- players_with_more_gold_left: long (nullable = true)\n",
      "\n"
     ]
    }
   ],
   "source": [
    "df.printSchema()"
   ]
  },
  {
   "cell_type": "code",
   "execution_count": 41,
   "id": "1d330fa1-7ee7-4d68-a75d-2ccc3a81642c",
   "metadata": {},
   "outputs": [
    {
     "name": "stderr",
     "output_type": "stream",
     "text": [
      "                                                                                \r"
     ]
    }
   ],
   "source": [
    "df.write.mode('overwrite').parquet(os.path.join(MATCH_STAT_OUTPUT_DIR, f'all_match_stat_features_{REGION}_{TIER}_{DIVISION}.parquet'))"
   ]
  },
  {
   "cell_type": "markdown",
   "id": "cede3650-4e7d-4d3c-ac48-fe6052a712ca",
   "metadata": {},
   "source": [
    "## 4. Combine all features"
   ]
  },
  {
   "cell_type": "code",
   "execution_count": 42,
   "id": "fec42db0-c0f8-4569-b30c-84882c34c4ac",
   "metadata": {},
   "outputs": [],
   "source": [
    "df_stat = spark.read.parquet(os.path.join(MATCH_STAT_OUTPUT_DIR, f'all_match_stat_features_{REGION}_{TIER}_{DIVISION}.parquet'))\n",
    "df_trait = spark.read.parquet(os.path.join(TRAIT_OUTPUT_DIR, f'all_trait_features_{REGION}_{TIER}_{DIVISION}.parquet'))\n",
    "df_unit = spark.read.parquet(os.path.join(UNIT_ITEM_OUTPUT_DIR, f'all_unit_item_features_{REGION}_{TIER}_{DIVISION}.parquet'))"
   ]
  },
  {
   "cell_type": "code",
   "execution_count": 43,
   "id": "86c0d3bf-0d90-49a8-b5c7-a13bbacd820b",
   "metadata": {},
   "outputs": [
    {
     "data": {
      "text/plain": [
       "(55136, 55136, 55136)"
      ]
     },
     "execution_count": 43,
     "metadata": {},
     "output_type": "execute_result"
    }
   ],
   "source": [
    "df_stat.count(), df_trait.count(), df_unit.count()"
   ]
  },
  {
   "cell_type": "code",
   "execution_count": 44,
   "id": "e21c4bdb-56ed-4a09-94dd-86025c28dfe1",
   "metadata": {},
   "outputs": [],
   "source": [
    "df_all = df_stat.join(df_trait, on=['metadata_match_id', 'puuid'], how='left')\\\n",
    "                .join(df_unit, on=['metadata_match_id', 'puuid'], how='left')"
   ]
  },
  {
   "cell_type": "code",
   "execution_count": 45,
   "id": "fae2ea21-8993-4085-8258-6e8e6080d636",
   "metadata": {},
   "outputs": [
    {
     "data": {
      "text/plain": [
       "55136"
      ]
     },
     "execution_count": 45,
     "metadata": {},
     "output_type": "execute_result"
    }
   ],
   "source": [
    "df_all.count()"
   ]
  },
  {
   "cell_type": "code",
   "execution_count": 46,
   "id": "1e881961-179a-4172-be09-673b5764d23f",
   "metadata": {},
   "outputs": [
    {
     "name": "stderr",
     "output_type": "stream",
     "text": [
      "                                                                                \r"
     ]
    }
   ],
   "source": [
    "df_all.write.mode('overwrite').parquet(os.path.join(ALL_FEATURES_DIR, f'all_features_{REGION}_{TIER}_{DIVISION}.parquet'))"
   ]
  },
  {
   "cell_type": "code",
   "execution_count": 47,
   "id": "414e1bb1-ef6b-42f8-ad9a-40dedad6140b",
   "metadata": {},
   "outputs": [],
   "source": [
    "df = spark.read.parquet(os.path.join(ALL_FEATURES_DIR, f'all_features_{REGION}_{TIER}_{DIVISION}.parquet'))"
   ]
  },
  {
   "cell_type": "code",
   "execution_count": 48,
   "id": "22a0746c-0733-4fa2-bc13-eff0e6b684a4",
   "metadata": {},
   "outputs": [
    {
     "name": "stdout",
     "output_type": "stream",
     "text": [
      "root\n",
      " |-- metadata_match_id: string (nullable = true)\n",
      " |-- puuid: string (nullable = true)\n",
      " |-- info_game_length: double (nullable = true)\n",
      " |-- gold_left: long (nullable = true)\n",
      " |-- last_round: long (nullable = true)\n",
      " |-- level: long (nullable = true)\n",
      " |-- placement: long (nullable = true)\n",
      " |-- players_eliminated: long (nullable = true)\n",
      " |-- total_damage_to_players: long (nullable = true)\n",
      " |-- win: integer (nullable = true)\n",
      " |-- max_level_by_match: long (nullable = true)\n",
      " |-- min_level_by_match: long (nullable = true)\n",
      " |-- avg_level_by_match: double (nullable = true)\n",
      " |-- diff_max_level: long (nullable = true)\n",
      " |-- diff_min_level: long (nullable = true)\n",
      " |-- max_players_eliminated_by_match: long (nullable = true)\n",
      " |-- min_players_eliminated_by_match: long (nullable = true)\n",
      " |-- avg_players_eliminated_by_match: double (nullable = true)\n",
      " |-- diff_max_players_eliminated: long (nullable = true)\n",
      " |-- diff_min_players_eliminated: long (nullable = true)\n",
      " |-- max_total_damage_to_players_by_match: long (nullable = true)\n",
      " |-- min_total_damage_to_players_by_match: long (nullable = true)\n",
      " |-- avg_total_damage_to_players_by_match: double (nullable = true)\n",
      " |-- diff_max_total_damage_to_players: long (nullable = true)\n",
      " |-- diff_min_total_damage_to_players: long (nullable = true)\n",
      " |-- max_gold_left_by_match: long (nullable = true)\n",
      " |-- min_gold_left_by_match: long (nullable = true)\n",
      " |-- avg_gold_left_by_match: double (nullable = true)\n",
      " |-- diff_max_gold_left: long (nullable = true)\n",
      " |-- diff_min_gold_left: long (nullable = true)\n",
      " |-- players_with_higher_level: long (nullable = true)\n",
      " |-- players_with_more_gold_left: long (nullable = true)\n",
      " |-- active_traits: array (nullable = true)\n",
      " |    |-- element: struct (containsNull = true)\n",
      " |    |    |-- trait_name: string (nullable = true)\n",
      " |    |    |-- trait_style: double (nullable = true)\n",
      " |    |    |-- players_contesting_trait: double (nullable = true)\n",
      " |    |    |-- players_contesting_trait_higher: double (nullable = true)\n",
      " |    |    |-- is_teamup_trait: long (nullable = true)\n",
      " |    |    |-- is_unique_trait: long (nullable = true)\n",
      " |    |    |-- is_vertical_trait: long (nullable = true)\n",
      " |    |    |-- is_horizontal_trait: long (nullable = true)\n",
      " |    |    |-- is_defensive_trait: long (nullable = true)\n",
      " |    |    |-- is_offensive_trait: long (nullable = true)\n",
      " |    |    |-- is_utility_trait: long (nullable = true)\n",
      " |    |    |-- is_econ_trait: long (nullable = true)\n",
      " |-- total_active_traits: long (nullable = true)\n",
      " |-- total_teamup_traits: long (nullable = true)\n",
      " |-- total_unique_traits: long (nullable = true)\n",
      " |-- total_vertical_traits: long (nullable = true)\n",
      " |-- total_horizontal_traits: long (nullable = true)\n",
      " |-- total_defensive_traits: long (nullable = true)\n",
      " |-- total_offensive_traits: long (nullable = true)\n",
      " |-- total_utility_traits: long (nullable = true)\n",
      " |-- total_econ_traits: long (nullable = true)\n",
      " |-- total_bronze_style_traits: long (nullable = true)\n",
      " |-- total_silver_style_traits: long (nullable = true)\n",
      " |-- total_gold_style_traits: long (nullable = true)\n",
      " |-- total_prismatic_style_traits: long (nullable = true)\n",
      " |-- total_prismatic_defensive_traits: long (nullable = true)\n",
      " |-- total_gold_defensive_traits: long (nullable = true)\n",
      " |-- total_silver_defensive_traits: long (nullable = true)\n",
      " |-- total_bronze_defensive_traits: long (nullable = true)\n",
      " |-- total_prismatic_offensive_traits: long (nullable = true)\n",
      " |-- total_gold_offensive_traits: long (nullable = true)\n",
      " |-- total_silver_offensive_traits: long (nullable = true)\n",
      " |-- total_bronze_offensive_traits: long (nullable = true)\n",
      " |-- total_prismatic_econ_traits: long (nullable = true)\n",
      " |-- total_gold_econ_traits: long (nullable = true)\n",
      " |-- total_silver_econ_traits: long (nullable = true)\n",
      " |-- total_bronze_econ_traits: long (nullable = true)\n",
      " |-- total_prismatic_vertical_traits: long (nullable = true)\n",
      " |-- total_gold_vertical_traits: long (nullable = true)\n",
      " |-- total_silver_vertical_traits: long (nullable = true)\n",
      " |-- total_bronze_vertical_traits: long (nullable = true)\n",
      " |-- total_prismatic_horizontal_traits: long (nullable = true)\n",
      " |-- total_gold_horizontal_traits: long (nullable = true)\n",
      " |-- total_silver_horizontal_traits: long (nullable = true)\n",
      " |-- total_bronze_horizontal_traits: long (nullable = true)\n",
      " |-- highest_active_trait_style: double (nullable = true)\n",
      " |-- highest_vertical_trait_style: double (nullable = true)\n",
      " |-- highest_horizontal_trait_style: double (nullable = true)\n",
      " |-- highest_defensive_trait_style: double (nullable = true)\n",
      " |-- highest_offensive_trait_style: double (nullable = true)\n",
      " |-- highest_utility_trait_style: double (nullable = true)\n",
      " |-- highest_econ_trait_style: double (nullable = true)\n",
      " |-- match_avg_active_traits: double (nullable = true)\n",
      " |-- match_max_active_traits: long (nullable = true)\n",
      " |-- match_min_active_traits: long (nullable = true)\n",
      " |-- match_avg_unique_traits: double (nullable = true)\n",
      " |-- match_max_unique_traits: long (nullable = true)\n",
      " |-- match_min_unique_traits: long (nullable = true)\n",
      " |-- match_players_with_unique_traits: long (nullable = true)\n",
      " |-- match_avg_teamup_traits: double (nullable = true)\n",
      " |-- match_max_teamup_traits: long (nullable = true)\n",
      " |-- match_min_teamup_traits: long (nullable = true)\n",
      " |-- match_players_with_teamup_traits: long (nullable = true)\n",
      " |-- match_avg_vertical_traits: double (nullable = true)\n",
      " |-- match_max_vertical_traits: long (nullable = true)\n",
      " |-- match_min_vertical_traits: long (nullable = true)\n",
      " |-- match_avg_horizontal_traits: double (nullable = true)\n",
      " |-- match_max_horizontal_traits: long (nullable = true)\n",
      " |-- match_min_horizontal_traits: long (nullable = true)\n",
      " |-- match_avg_defensive_traits: double (nullable = true)\n",
      " |-- match_max_defensive_traits: long (nullable = true)\n",
      " |-- match_min_defensive_traits: long (nullable = true)\n",
      " |-- match_players_with_defensive_traits: long (nullable = true)\n",
      " |-- match_avg_offensive_traits: double (nullable = true)\n",
      " |-- match_max_offensive_traits: long (nullable = true)\n",
      " |-- match_min_offensive_traits: long (nullable = true)\n",
      " |-- match_players_with_offensive_traits: long (nullable = true)\n",
      " |-- match_avg_utility_traits: double (nullable = true)\n",
      " |-- match_max_utility_traits: long (nullable = true)\n",
      " |-- match_min_utility_traits: long (nullable = true)\n",
      " |-- match_avg_econ_traits: double (nullable = true)\n",
      " |-- match_max_econ_traits: long (nullable = true)\n",
      " |-- match_min_econ_traits: long (nullable = true)\n",
      " |-- match_players_with_econ_traits: long (nullable = true)\n",
      " |-- match_avg_bronze_style_traits: double (nullable = true)\n",
      " |-- match_max_bronze_style_traits: long (nullable = true)\n",
      " |-- match_min_bronze_style_traits: long (nullable = true)\n",
      " |-- match_avg_silver_style_traits: double (nullable = true)\n",
      " |-- match_max_silver_style_traits: long (nullable = true)\n",
      " |-- match_min_silver_style_traits: long (nullable = true)\n",
      " |-- match_avg_gold_style_traits: double (nullable = true)\n",
      " |-- match_max_gold_style_traits: long (nullable = true)\n",
      " |-- match_min_gold_style_traits: long (nullable = true)\n",
      " |-- match_avg_prismatic_style_traits: double (nullable = true)\n",
      " |-- match_max_prismatic_style_traits: long (nullable = true)\n",
      " |-- match_min_prismatic_style_traits: long (nullable = true)\n",
      " |-- match_avg_prismatic_vertical_traits: double (nullable = true)\n",
      " |-- match_max_prismatic_vertical_traits: long (nullable = true)\n",
      " |-- match_min_prismatic_vertical_traits: long (nullable = true)\n",
      " |-- match_players_with_prismatic_vertical_traits: long (nullable = true)\n",
      " |-- match_avg_gold_vertical_traits: double (nullable = true)\n",
      " |-- match_max_gold_vertical_traits: long (nullable = true)\n",
      " |-- match_min_gold_vertical_traits: long (nullable = true)\n",
      " |-- match_players_with_gold_vertical_traits: long (nullable = true)\n",
      " |-- match_avg_silver_vertical_traits: double (nullable = true)\n",
      " |-- match_max_silver_vertical_traits: long (nullable = true)\n",
      " |-- match_min_silver_vertical_traits: long (nullable = true)\n",
      " |-- match_avg_bronze_vertical_traits: double (nullable = true)\n",
      " |-- match_max_bronze_vertical_traits: long (nullable = true)\n",
      " |-- match_min_bronze_vertical_traits: long (nullable = true)\n",
      " |-- match_avg_prismatic_horizontal_traits: double (nullable = true)\n",
      " |-- match_max_prismatic_horizontal_traits: long (nullable = true)\n",
      " |-- match_min_prismatic_horizontal_traits: long (nullable = true)\n",
      " |-- match_players_with_prismatic_horizontal_traits: long (nullable = true)\n",
      " |-- match_avg_gold_horizontal_traits: double (nullable = true)\n",
      " |-- match_max_gold_horizontal_traits: long (nullable = true)\n",
      " |-- match_min_gold_horizontal_traits: long (nullable = true)\n",
      " |-- match_players_with_gold_horizontal_traits: long (nullable = true)\n",
      " |-- match_avg_silver_horizontal_traits: double (nullable = true)\n",
      " |-- match_max_silver_horizontal_traits: long (nullable = true)\n",
      " |-- match_min_silver_horizontal_traits: long (nullable = true)\n",
      " |-- match_avg_bronze_horizontal_traits: double (nullable = true)\n",
      " |-- match_max_bronze_horizontal_traits: long (nullable = true)\n",
      " |-- match_min_bronze_horizontal_traits: long (nullable = true)\n",
      " |-- players_with_more_active_traits: long (nullable = true)\n",
      " |-- players_with_more_unique_traits: long (nullable = true)\n",
      " |-- players_with_more_vertical_traits: long (nullable = true)\n",
      " |-- players_with_more_horizontal_traits: long (nullable = true)\n",
      " |-- players_with_more_offensive_traits: long (nullable = true)\n",
      " |-- players_with_more_defensive_traits: long (nullable = true)\n",
      " |-- players_with_more_utility_traits: long (nullable = true)\n",
      " |-- players_with_more_prismatic_style_traits: long (nullable = true)\n",
      " |-- players_with_more_gold_style_traits: long (nullable = true)\n",
      " |-- players_with_more_prismatic_vertical_traits: long (nullable = true)\n",
      " |-- players_with_more_gold_vertical_traits: long (nullable = true)\n",
      " |-- players_with_more_prismatic_horizontal_traits: long (nullable = true)\n",
      " |-- players_with_more_gold_horizontal_traits: long (nullable = true)\n",
      " |-- units: array (nullable = true)\n",
      " |    |-- element: struct (containsNull = true)\n",
      " |    |    |-- unit_name: string (nullable = true)\n",
      " |    |    |-- unit_cost: long (nullable = true)\n",
      " |    |    |-- unit_tier: long (nullable = true)\n",
      " |    |    |-- unit_item_count: long (nullable = true)\n",
      " |    |    |-- players_contesting_unit: double (nullable = true)\n",
      " |    |    |-- players_contesting_unit_tier_equal: double (nullable = true)\n",
      " |    |    |-- players_contesting_unit_tier_higher: double (nullable = true)\n",
      " |    |    |-- is_ap_damage: long (nullable = true)\n",
      " |    |    |-- is_ad_damage: long (nullable = true)\n",
      " |    |    |-- is_carry: long (nullable = true)\n",
      " |    |    |-- is_caster: long (nullable = true)\n",
      " |    |    |-- is_tank: long (nullable = true)\n",
      " |    |    |-- is_reaper: long (nullable = true)\n",
      " |    |    |-- is_fighter: long (nullable = true)\n",
      " |    |    |-- unit_radiant_item_count: long (nullable = true)\n",
      " |    |    |-- unit_artifact_item_count: long (nullable = true)\n",
      " |    |    |-- unit_utility_item_count: long (nullable = true)\n",
      " |    |    |-- unit_emblem_item_count: long (nullable = true)\n",
      " |    |    |-- unit_ornn_item_count: long (nullable = true)\n",
      " |    |    |-- unit_chembaron_item_count: long (nullable = true)\n",
      " |    |    |-- unit_chembaron_gold_item_count: long (nullable = true)\n",
      " |    |    |-- unit_chembaron_prismatic_item_count: long (nullable = true)\n",
      " |-- total_units: long (nullable = true)\n",
      " |-- total_items: long (nullable = true)\n",
      " |-- highest_unit_cost: long (nullable = true)\n",
      " |-- average_unit_cost: double (nullable = true)\n",
      " |-- total_board_cost: long (nullable = true)\n",
      " |-- total_tier_4_units: long (nullable = true)\n",
      " |-- total_tier_3_units: long (nullable = true)\n",
      " |-- total_tier_2_units: long (nullable = true)\n",
      " |-- total_tier_3_1_cost_units: long (nullable = true)\n",
      " |-- total_tier_3_2_cost_units: long (nullable = true)\n",
      " |-- total_tier_3_3_cost_units: long (nullable = true)\n",
      " |-- total_tier_3_4_cost_units: long (nullable = true)\n",
      " |-- total_tier_3_5_cost_units: long (nullable = true)\n",
      " |-- total_tier_3_6_cost_units: long (nullable = true)\n",
      " |-- total_tier_2_1_and_2_cost_units: long (nullable = true)\n",
      " |-- total_tier_2_3_cost_units: long (nullable = true)\n",
      " |-- total_tier_2_4_cost_units: long (nullable = true)\n",
      " |-- total_tier_2_5_cost_units: long (nullable = true)\n",
      " |-- total_tier_2_6_cost_units: long (nullable = true)\n",
      " |-- total_tier_1_5_cost_units: long (nullable = true)\n",
      " |-- total_tier_1_6_cost_units: long (nullable = true)\n",
      " |-- total_ap_units: long (nullable = true)\n",
      " |-- total_ad_units: long (nullable = true)\n",
      " |-- total_carry_units: long (nullable = true)\n",
      " |-- total_caster_units: long (nullable = true)\n",
      " |-- total_tank_units: long (nullable = true)\n",
      " |-- total_reaper_units: long (nullable = true)\n",
      " |-- total_fighter_units: long (nullable = true)\n",
      " |-- total_component_items: long (nullable = true)\n",
      " |-- total_combined_items: long (nullable = true)\n",
      " |-- total_radiant_items: long (nullable = true)\n",
      " |-- total_tactician_crown_items: long (nullable = true)\n",
      " |-- total_utility_items: long (nullable = true)\n",
      " |-- total_artifact_items: long (nullable = true)\n",
      " |-- total_chembaron_items: long (nullable = true)\n",
      " |-- total_chembaron_bronze_items: long (nullable = true)\n",
      " |-- total_chembaron_silver_items: long (nullable = true)\n",
      " |-- total_chembaron_gold_items: long (nullable = true)\n",
      " |-- total_chembaron_prismatic_items: long (nullable = true)\n",
      " |-- total_emblem_items: long (nullable = true)\n",
      " |-- total_junkerking_upgrade_items: long (nullable = true)\n",
      " |-- total_shimmerscale_items: long (nullable = true)\n",
      " |-- total_ornn_items: long (nullable = true)\n",
      " |-- match_avg_total_units: double (nullable = true)\n",
      " |-- match_max_total_units: long (nullable = true)\n",
      " |-- match_min_total_units: long (nullable = true)\n",
      " |-- match_avg_total_items: double (nullable = true)\n",
      " |-- match_max_total_items: long (nullable = true)\n",
      " |-- match_min_total_items: long (nullable = true)\n",
      " |-- match_avg_total_board_cost: double (nullable = true)\n",
      " |-- match_max_total_board_cost: long (nullable = true)\n",
      " |-- match_min_total_board_cost: long (nullable = true)\n",
      " |-- match_avg_highest_unit_cost: double (nullable = true)\n",
      " |-- match_max_highest_unit_cost: long (nullable = true)\n",
      " |-- match_min_highest_unit_cost: long (nullable = true)\n",
      " |-- match_avg_total_ap_units: double (nullable = true)\n",
      " |-- match_max_total_ap_units: long (nullable = true)\n",
      " |-- match_min_total_ap_units: long (nullable = true)\n",
      " |-- match_avg_total_ad_units: double (nullable = true)\n",
      " |-- match_max_total_ad_units: long (nullable = true)\n",
      " |-- match_min_total_ad_units: long (nullable = true)\n",
      " |-- match_avg_total_carry_units: double (nullable = true)\n",
      " |-- match_max_total_carry_units: long (nullable = true)\n",
      " |-- match_min_total_carry_units: long (nullable = true)\n",
      " |-- match_avg_total_caster_units: double (nullable = true)\n",
      " |-- match_max_total_caster_units: long (nullable = true)\n",
      " |-- match_min_total_caster_units: long (nullable = true)\n",
      " |-- match_avg_total_tank_units: double (nullable = true)\n",
      " |-- match_max_total_tank_units: long (nullable = true)\n",
      " |-- match_min_total_tank_units: long (nullable = true)\n",
      " |-- match_avg_total_reaper_units: double (nullable = true)\n",
      " |-- match_max_total_reaper_units: long (nullable = true)\n",
      " |-- match_min_total_reaper_units: long (nullable = true)\n",
      " |-- match_avg_total_fighter_units: double (nullable = true)\n",
      " |-- match_max_total_fighter_units: long (nullable = true)\n",
      " |-- match_min_total_fighter_units: long (nullable = true)\n",
      " |-- match_avg_total_combined_items: double (nullable = true)\n",
      " |-- match_max_total_combined_items: long (nullable = true)\n",
      " |-- match_min_total_combined_items: long (nullable = true)\n",
      " |-- match_avg_total_radiant_items: double (nullable = true)\n",
      " |-- match_max_total_radiant_items: long (nullable = true)\n",
      " |-- match_min_total_radiant_items: long (nullable = true)\n",
      " |-- match_avg_total_tactician_crown_items: double (nullable = true)\n",
      " |-- match_max_total_tactician_crown_items: long (nullable = true)\n",
      " |-- match_min_total_tactician_crown_items: long (nullable = true)\n",
      " |-- players_with_tactician_crown_items: long (nullable = true)\n",
      " |-- match_avg_total_artifact_items: double (nullable = true)\n",
      " |-- match_max_total_artifact_items: long (nullable = true)\n",
      " |-- match_min_total_artifact_items: long (nullable = true)\n",
      " |-- players_with_artifact_items: long (nullable = true)\n",
      " |-- match_avg_total_emblem_items: double (nullable = true)\n",
      " |-- match_max_total_emblem_items: long (nullable = true)\n",
      " |-- match_min_total_emblem_items: long (nullable = true)\n",
      " |-- players_with_emblem_items: long (nullable = true)\n",
      " |-- match_avg_total_ornn_items: double (nullable = true)\n",
      " |-- match_max_total_ornn_items: long (nullable = true)\n",
      " |-- match_min_total_ornn_items: long (nullable = true)\n",
      " |-- players_with_ornn_items: long (nullable = true)\n",
      " |-- match_avg_total_shimmerscale_items: double (nullable = true)\n",
      " |-- match_max_total_shimmerscale_items: long (nullable = true)\n",
      " |-- match_min_total_shimmerscale_items: long (nullable = true)\n",
      " |-- players_with_shimmerscale_items: long (nullable = true)\n",
      " |-- match_avg_total_chembaron_items: double (nullable = true)\n",
      " |-- match_max_total_chembaron_items: long (nullable = true)\n",
      " |-- match_min_total_chembaron_items: long (nullable = true)\n",
      " |-- players_with_chembaron_items: long (nullable = true)\n",
      " |-- match_avg_total_chembaron_bronze_items: double (nullable = true)\n",
      " |-- match_max_total_chembaron_bronze_items: long (nullable = true)\n",
      " |-- match_min_total_chembaron_bronze_items: long (nullable = true)\n",
      " |-- players_with_chembaron_bronze_items: long (nullable = true)\n",
      " |-- match_avg_total_chembaron_silver_items: double (nullable = true)\n",
      " |-- match_max_total_chembaron_silver_items: long (nullable = true)\n",
      " |-- match_min_total_chembaron_silver_items: long (nullable = true)\n",
      " |-- players_with_chembaron_silver_items: long (nullable = true)\n",
      " |-- match_avg_total_chembaron_gold_items: double (nullable = true)\n",
      " |-- match_max_total_chembaron_gold_items: long (nullable = true)\n",
      " |-- match_min_total_chembaron_gold_items: long (nullable = true)\n",
      " |-- players_with_chembaron_gold_items: long (nullable = true)\n",
      " |-- match_avg_total_chembaron_prismatic_items: double (nullable = true)\n",
      " |-- match_max_total_chembaron_prismatic_items: long (nullable = true)\n",
      " |-- match_min_total_chembaron_prismatic_items: long (nullable = true)\n",
      " |-- players_with_chembaron_prismatic_items: long (nullable = true)\n",
      " |-- players_with_more_units: long (nullable = true)\n",
      " |-- players_with_higher_total_board_cost: long (nullable = true)\n",
      " |-- players_with_more_tier_4_units: long (nullable = true)\n",
      " |-- players_with_more_tier_3_units: long (nullable = true)\n",
      " |-- players_with_more_tier_2_units: long (nullable = true)\n",
      " |-- players_with_more_tier_3_1_cost_units: long (nullable = true)\n",
      " |-- players_with_more_tier_3_2_cost_units: long (nullable = true)\n",
      " |-- players_with_more_tier_3_3_cost_units: long (nullable = true)\n",
      " |-- players_with_more_tier_3_4_cost_units: long (nullable = true)\n",
      " |-- players_with_more_tier_3_5_cost_units: long (nullable = true)\n",
      " |-- players_with_more_tier_3_6_cost_units: long (nullable = true)\n",
      " |-- players_with_more_tier_2_1_and_2_cost_units: long (nullable = true)\n",
      " |-- players_with_more_tier_2_3_cost_units: long (nullable = true)\n",
      " |-- players_with_more_tier_2_4_cost_units: long (nullable = true)\n",
      " |-- players_with_more_tier_2_5_cost_units: long (nullable = true)\n",
      " |-- players_with_more_tier_2_6_cost_units: long (nullable = true)\n",
      " |-- players_with_more_tier_1_5_cost_units: long (nullable = true)\n",
      " |-- players_with_more_tier_1_6_cost_units: long (nullable = true)\n",
      " |-- players_with_more_items: long (nullable = true)\n",
      " |-- players_with_more_combined_items: long (nullable = true)\n",
      " |-- players_with_more_utility_items: long (nullable = true)\n",
      " |-- players_with_more_artifact_items: long (nullable = true)\n",
      " |-- players_with_more_ornn_items: long (nullable = true)\n",
      " |-- players_with_more_chembaron_items: long (nullable = true)\n",
      " |-- players_with_more_chembaron_silver_items: long (nullable = true)\n",
      " |-- players_with_more_chembaron_gold_items: long (nullable = true)\n",
      " |-- players_with_more_chembaron_prismatic_items: long (nullable = true)\n",
      "\n"
     ]
    }
   ],
   "source": [
    "df.printSchema()"
   ]
  },
  {
   "cell_type": "code",
   "execution_count": 49,
   "id": "385c1b9c-9589-4963-88e6-53d41358205c",
   "metadata": {},
   "outputs": [
    {
     "data": {
      "text/plain": [
       "308"
      ]
     },
     "execution_count": 49,
     "metadata": {},
     "output_type": "execute_result"
    }
   ],
   "source": [
    "len(df.columns)"
   ]
  },
  {
   "cell_type": "code",
   "execution_count": null,
   "id": "326ab010-2897-4cf9-9bcb-74e064b94693",
   "metadata": {},
   "outputs": [],
   "source": []
  }
 ],
 "metadata": {
  "kernelspec": {
   "display_name": "Python 3 (ipykernel)",
   "language": "python",
   "name": "python3"
  },
  "language_info": {
   "codemirror_mode": {
    "name": "ipython",
    "version": 3
   },
   "file_extension": ".py",
   "mimetype": "text/x-python",
   "name": "python",
   "nbconvert_exporter": "python",
   "pygments_lexer": "ipython3",
   "version": "3.10.12"
  }
 },
 "nbformat": 4,
 "nbformat_minor": 5
}
