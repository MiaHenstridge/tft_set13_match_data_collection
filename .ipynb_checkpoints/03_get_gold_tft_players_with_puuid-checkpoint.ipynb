{
 "cells": [
  {
   "cell_type": "markdown",
   "id": "566c02ec-42d0-4511-a3cc-24b88a8d53ce",
   "metadata": {},
   "source": [
    "# Step 3: Collect the PUUID of Gold TFT players"
   ]
  },
  {
   "cell_type": "code",
   "execution_count": 1,
   "id": "88bd69cc-b284-4340-9644-342687a0483e",
   "metadata": {},
   "outputs": [],
   "source": [
    "import pyspark.sql.types as T\n",
    "import pyspark.sql.functions as F\n",
    "\n",
    "from pyspark import SparkContext, SparkConf, SQLContext\n",
    "\n",
    "from dateutil.relativedelta import relativedelta\n",
    "from pyspark.sql.functions import pandas_udf\n",
    "from pyspark.sql.window import Window\n",
    "\n",
    "import pandas as pd\n",
    "import numpy as np\n",
    "\n",
    "from datetime import date, datetime, timedelta, timezone\n",
    "import os\n",
    "import json\n",
    "import requests\n",
    "import time\n",
    "import yaml"
   ]
  },
  {
   "cell_type": "code",
   "execution_count": 2,
   "id": "a550ee82-b000-4946-bf10-69f2594db361",
   "metadata": {},
   "outputs": [
    {
     "name": "stderr",
     "output_type": "stream",
     "text": [
      "25/02/06 23:52:56 WARN Utils: Your hostname, LAPTOP-4O0SI9BK resolves to a loopback address: 127.0.1.1; using 172.26.83.105 instead (on interface eth0)\n",
      "25/02/06 23:52:56 WARN Utils: Set SPARK_LOCAL_IP if you need to bind to another address\n",
      "Setting default log level to \"WARN\".\n",
      "To adjust logging level use sc.setLogLevel(newLevel). For SparkR, use setLogLevel(newLevel).\n",
      "25/02/06 23:52:58 WARN NativeCodeLoader: Unable to load native-hadoop library for your platform... using builtin-java classes where applicable\n",
      "25/02/06 23:52:58 WARN SparkConf: Note that spark.local.dir will be overridden by the value set by the cluster manager (via SPARK_LOCAL_DIRS in mesos/standalone/kubernetes and LOCAL_DIRS in YARN).\n",
      "25/02/06 23:52:59 WARN Utils: Service 'SparkUI' could not bind on port 4040. Attempting port 4041.\n",
      "/usr/local/lib/python3.10/dist-packages/pyspark/sql/context.py:113: FutureWarning: Deprecated in 3.0.0. Use SparkSession.builder.getOrCreate() instead.\n",
      "  warnings.warn(\n"
     ]
    }
   ],
   "source": [
    "appName = \"PySpark Lol players by rank\"\n",
    "master = \"local[*]\"\n",
    "conf = SparkConf() \\\n",
    "    .setAppName(appName) \\\n",
    "    .setMaster(master) \\\n",
    "    .set(\"spark.executor.memory\", \"40g\") \\\n",
    "    .set(\"spark.driver.memory\", \"40g\") \\\n",
    "    .set(\"spark.executor.memoryOverhead\", \"8g\") \\\n",
    "    .set(\"spark.local.dir\", \"/home/mai/spark-temp\") \\\n",
    "    .set(\"spark.sql.session.timeZone\", \"UTC\") \\\n",
    "    .set(\"spark.dynamicAllocation.enabled\", \"true\") \\\n",
    "    .set(\"spark.dynamicAllocation.minExecutors\", \"2\") \\\n",
    "    .set(\"spark.dynamicAllocation.maxExecutors\", \"50\") \\\n",
    "    .set(\"spark.speculation\", \"true\") \n",
    "   \n",
    "sc = SparkContext.getOrCreate(conf=conf)\n",
    "sqlContext = SQLContext(sc)\n",
    "spark = sqlContext.sparkSession"
   ]
  },
  {
   "cell_type": "markdown",
   "id": "5bdd847d-4772-41fc-973d-8337032ef767",
   "metadata": {},
   "source": [
    "## Set up"
   ]
  },
  {
   "cell_type": "code",
   "execution_count": 3,
   "id": "3f1fe9a3-2da0-4e11-a7b8-0ecea94723aa",
   "metadata": {},
   "outputs": [],
   "source": [
    "# retrieve API key\n",
    "with open('./api_key.yaml', 'r') as file:\n",
    "    API_KEY = yaml.safe_load(file)['api_key']"
   ]
  },
  {
   "cell_type": "code",
   "execution_count": 15,
   "id": "aafb64dd-f3e4-47a3-9084-22eec071a2b7",
   "metadata": {},
   "outputs": [],
   "source": [
    "# set up parameters for querying the API\n",
    "REGION = 'kr'      # region of the player (KR or EUW1) \n",
    "BASE_URL = f'https://{REGION}.api.riotgames.com/tft/league/v1/entries' # API endpoint (for players below Master rank, we use this API endpoint which will also return the PUUID of the player)\n",
    "QUEUE = 'RANKED_TFT'  # queue of the player. We are interested in players who reached challenger in ranked queue    \n",
    "TIER = 'GOLD'      # tier / rank of the player \n",
    "DIVISION = 'I'     # subdivision of the tier (For ranks below Master, there are 4 subdivisions I, II, III, IV)"
   ]
  },
  {
   "cell_type": "code",
   "execution_count": 16,
   "id": "17eba534-9b76-4a23-a972-cb47d3f89746",
   "metadata": {},
   "outputs": [],
   "source": [
    "# set up the entry limit for each page in the result returned\n",
    "ENTRY_LIMIT = 205"
   ]
  },
  {
   "cell_type": "code",
   "execution_count": 18,
   "id": "596ca9bd-0feb-48bb-8a99-d0a176c9b2d3",
   "metadata": {},
   "outputs": [],
   "source": [
    "# function to return the puuid of gold TFT players\n",
    "def get_players(queue, tier, division, entry_limit):\n",
    "    players = []\n",
    "    page = 1\n",
    "    is_paginating = True\n",
    "    while is_paginating:\n",
    "        # construct url\n",
    "        url = f'{BASE_URL}/{TIER}/{DIVISION}?queue={QUEUE}&page={page}'\n",
    "        # headers\n",
    "        headers = {\n",
    "            'X-Riot-Token': API_KEY\n",
    "        }\n",
    "        # send request\n",
    "        response = requests.get(url, headers=headers)\n",
    "\n",
    "        if response.status_code == 200:\n",
    "            # print(page)\n",
    "            # parse json response\n",
    "            data = response.json()\n",
    "            players.extend(data)\n",
    "            if len(data) < entry_limit or page >= 5:\n",
    "                is_paginating = False\n",
    "            else:\n",
    "                page += 1\n",
    "            # time.sleep(1.2)\n",
    "        elif response.status_code == 429:  # Rate-limited response\n",
    "            print(\"Rate limit exceeded. Waiting before retrying...\")\n",
    "            # Extract \"Retry-After\" header if available\n",
    "            retry_after = int(response.headers.get(\"Retry-After\", 10))\n",
    "            time.sleep(retry_after)  # Wait for the specified time\n",
    "        else:\n",
    "            print(f'Error: {response.status_code} - {response.text}')\n",
    "            is_paginating = False\n",
    "    return players"
   ]
  },
  {
   "cell_type": "markdown",
   "id": "511551ba-1f22-403d-b687-f2a951d704cf",
   "metadata": {},
   "source": [
    "## Get the players by rank"
   ]
  },
  {
   "cell_type": "code",
   "execution_count": 19,
   "id": "0b3c179d-4f57-421b-b674-bf7d26df8228",
   "metadata": {
    "scrolled": true
   },
   "outputs": [],
   "source": [
    "tft_players = get_players(QUEUE, TIER, DIVISION, ENTRY_LIMIT)"
   ]
  },
  {
   "cell_type": "code",
   "execution_count": 20,
   "id": "252781e0-06f5-49ac-938f-9d49b8df19ac",
   "metadata": {},
   "outputs": [],
   "source": [
    "# convert json response to pd dataframe\n",
    "tft_players_df = pd.json_normalize(tft_players)"
   ]
  },
  {
   "cell_type": "code",
   "execution_count": 21,
   "id": "f82ffa3d-8220-4d3f-8b39-4b660f98a3ca",
   "metadata": {},
   "outputs": [
    {
     "data": {
      "text/plain": [
       "(1025, 13)"
      ]
     },
     "execution_count": 21,
     "metadata": {},
     "output_type": "execute_result"
    }
   ],
   "source": [
    "tft_players_df.shape"
   ]
  },
  {
   "cell_type": "code",
   "execution_count": 22,
   "id": "a9f44a0b-14ce-4763-bd55-43698f951ed4",
   "metadata": {},
   "outputs": [],
   "source": [
    "# convert into a PySpark dataframe\n",
    "tft_players_df = spark.createDataFrame(tft_players_df)"
   ]
  },
  {
   "cell_type": "code",
   "execution_count": 23,
   "id": "e08cc00c-21f8-440a-ae36-e2c74d3fbf83",
   "metadata": {},
   "outputs": [
    {
     "name": "stdout",
     "output_type": "stream",
     "text": [
      "+--------------------+--------------------+----------+----+----+--------------------+------------+----+------+-------+--------+----------+---------+\n",
      "|               puuid|            leagueId| queueType|tier|rank|          summonerId|leaguePoints|wins|losses|veteran|inactive|freshBlood|hotStreak|\n",
      "+--------------------+--------------------+----------+----+----+--------------------+------------+----+------+-------+--------+----------+---------+\n",
      "|uJr5xHJWi1YbxEjmA...|5f38105e-3c70-4f7...|RANKED_TFT|GOLD|   I|OGh2Z6KNBeg1vwDT0...|          24|  94|   106|  false|   false|     false|    false|\n",
      "|UKNPf16zVG0-hn5m4...|c003cdd3-1b68-419...|RANKED_TFT|GOLD|   I|ww9_0qou-pPMD5asd...|          32|  27|    24|  false|   false|     false|    false|\n",
      "|wogzb-1g1KxdC9r1p...|bf5f46cc-6735-436...|RANKED_TFT|GOLD|   I|zxUZvHcJ_lI4sZ0Tj...|          12|  33|    29|  false|   false|     false|    false|\n",
      "|aumJ0m9ngyLklNA2Z...|eaf9004c-1551-487...|RANKED_TFT|GOLD|   I|1ICDes8AlSNGsxysX...|           0|  37|    35|  false|   false|     false|    false|\n",
      "|pofPVwkyQrTQWOzsG...|50677d4b-fad4-489...|RANKED_TFT|GOLD|   I|z77ioRDuUwB8WmNmJ...|          24|  79|    77|  false|   false|     false|     true|\n",
      "|_vwxC1B9UKrz5xxt2...|b28cddd8-30c6-449...|RANKED_TFT|GOLD|   I|zJIx5Gtyq4N-cWuga...|           6|  60|    48|  false|   false|     false|    false|\n",
      "|k6r1Se3z1-gNK20Zh...|280eed81-7d46-492...|RANKED_TFT|GOLD|   I|Y-v-MjAazNxzLe8MA...|          30|  22|    22|  false|   false|     false|    false|\n",
      "|RngtgoZrZgpJtPfIn...|2cca8d36-059b-4ef...|RANKED_TFT|GOLD|   I|kpL1UROJEdWckfzsW...|          16|  33|    34|  false|   false|     false|     true|\n",
      "|u2hIePk0EAvevBcCC...|9c48af90-82cd-416...|RANKED_TFT|GOLD|   I|ZAYIUARsFiwOOSzqV...|           0|  67|    55|  false|   false|     false|    false|\n",
      "|oY4GT4L_R-SYF-UBK...|92cfa8f4-5cdd-43c...|RANKED_TFT|GOLD|   I|2AtxoAOC93IDYMS6_...|           5|  25|    24|  false|   false|     false|    false|\n",
      "+--------------------+--------------------+----------+----+----+--------------------+------------+----+------+-------+--------+----------+---------+\n",
      "only showing top 10 rows\n",
      "\n"
     ]
    }
   ],
   "source": [
    "tft_players_df.show(10)"
   ]
  },
  {
   "cell_type": "code",
   "execution_count": 24,
   "id": "de7d4c16-559f-48dc-8d95-6331cbc69efc",
   "metadata": {},
   "outputs": [],
   "source": [
    "# write to parquet file\n",
    "tft_players_df.write.mode('overwrite').parquet(f'./data/tft_players/players_{REGION}_{TIER}_{DIVISION}.parquet/')"
   ]
  },
  {
   "cell_type": "code",
   "execution_count": null,
   "id": "ee04bb4b-543b-49e6-94c9-85da2f1fa2e8",
   "metadata": {},
   "outputs": [],
   "source": []
  },
  {
   "cell_type": "code",
   "execution_count": null,
   "id": "c6792fba-03c4-4fb5-8518-a85bc7f1719d",
   "metadata": {},
   "outputs": [],
   "source": []
  }
 ],
 "metadata": {
  "kernelspec": {
   "display_name": "Python 3 (ipykernel)",
   "language": "python",
   "name": "python3"
  },
  "language_info": {
   "codemirror_mode": {
    "name": "ipython",
    "version": 3
   },
   "file_extension": ".py",
   "mimetype": "text/x-python",
   "name": "python",
   "nbconvert_exporter": "python",
   "pygments_lexer": "ipython3",
   "version": "3.10.12"
  }
 },
 "nbformat": 4,
 "nbformat_minor": 5
}
