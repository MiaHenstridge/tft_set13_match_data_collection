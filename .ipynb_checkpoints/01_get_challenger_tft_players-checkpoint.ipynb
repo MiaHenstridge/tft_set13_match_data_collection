{
 "cells": [
  {
   "cell_type": "markdown",
   "id": "237d8d5b-4570-409c-8c94-f383e30d0a9e",
   "metadata": {},
   "source": [
    "# Step 1: Collect summonerId of challenger TFT players"
   ]
  },
  {
   "cell_type": "code",
   "execution_count": 1,
   "id": "5108f97d-1512-43b6-910b-f6220801a6bc",
   "metadata": {},
   "outputs": [],
   "source": [
    "import pyspark.sql.types as T\n",
    "import pyspark.sql.functions as F\n",
    "\n",
    "from pyspark import SparkContext, SparkConf, SQLContext\n",
    "\n",
    "from dateutil.relativedelta import relativedelta\n",
    "from pyspark.sql.functions import pandas_udf\n",
    "from pyspark.sql.window import Window\n",
    "\n",
    "import pandas as pd\n",
    "import numpy as np\n",
    "\n",
    "from datetime import date, datetime, timedelta, timezone\n",
    "import os\n",
    "import json\n",
    "import requests\n",
    "import time\n",
    "import yaml"
   ]
  },
  {
   "cell_type": "code",
   "execution_count": 2,
   "id": "ba88d133-7251-4822-b561-ab9ecd146d41",
   "metadata": {},
   "outputs": [
    {
     "name": "stderr",
     "output_type": "stream",
     "text": [
      "25/02/05 15:11:46 WARN Utils: Your hostname, LAPTOP-4O0SI9BK resolves to a loopback address: 127.0.1.1; using 172.26.83.22 instead (on interface eth0)\n",
      "25/02/05 15:11:46 WARN Utils: Set SPARK_LOCAL_IP if you need to bind to another address\n",
      "Setting default log level to \"WARN\".\n",
      "To adjust logging level use sc.setLogLevel(newLevel). For SparkR, use setLogLevel(newLevel).\n",
      "25/02/05 15:11:48 WARN NativeCodeLoader: Unable to load native-hadoop library for your platform... using builtin-java classes where applicable\n",
      "25/02/05 15:11:48 WARN SparkConf: Note that spark.local.dir will be overridden by the value set by the cluster manager (via SPARK_LOCAL_DIRS in mesos/standalone/kubernetes and LOCAL_DIRS in YARN).\n",
      "25/02/05 15:11:49 WARN Utils: Service 'SparkUI' could not bind on port 4040. Attempting port 4041.\n",
      "/usr/local/lib/python3.10/dist-packages/pyspark/sql/context.py:113: FutureWarning: Deprecated in 3.0.0. Use SparkSession.builder.getOrCreate() instead.\n",
      "  warnings.warn(\n"
     ]
    }
   ],
   "source": [
    "appName = \"PySpark TFT players by rank\"\n",
    "master = \"local[*]\"\n",
    "conf = SparkConf() \\\n",
    "    .setAppName(appName) \\\n",
    "    .setMaster(master) \\\n",
    "    .set(\"spark.executor.memory\", \"40g\") \\\n",
    "    .set(\"spark.driver.memory\", \"40g\") \\\n",
    "    .set(\"spark.executor.memoryOverhead\", \"8g\") \\\n",
    "    .set(\"spark.local.dir\", \"/home/mai/spark-temp\") \\\n",
    "    .set(\"spark.sql.session.timeZone\", \"UTC\") \\\n",
    "    .set(\"spark.dynamicAllocation.enabled\", \"true\") \\\n",
    "    .set(\"spark.dynamicAllocation.minExecutors\", \"2\") \\\n",
    "    .set(\"spark.dynamicAllocation.maxExecutors\", \"50\") \\\n",
    "    .set(\"spark.speculation\", \"true\") \n",
    "   \n",
    "sc = SparkContext.getOrCreate(conf=conf)\n",
    "sqlContext = SQLContext(sc)\n",
    "spark = sqlContext.sparkSession"
   ]
  },
  {
   "cell_type": "markdown",
   "id": "40c6bc44-996c-4115-a856-6af702ef696e",
   "metadata": {},
   "source": [
    "## Set up"
   ]
  },
  {
   "cell_type": "code",
   "execution_count": 3,
   "id": "37c48e01-a4de-4c95-abbe-de9c122c5a56",
   "metadata": {},
   "outputs": [],
   "source": [
    "# retrieve API key\n",
    "with open('./api_key.yaml', 'r') as file:\n",
    "    API_KEY = yaml.safe_load(file)['api_key']"
   ]
  },
  {
   "cell_type": "code",
   "execution_count": 4,
   "id": "270bf405-f2f2-46c7-84e5-716c6f501a35",
   "metadata": {},
   "outputs": [
    {
     "data": {
      "text/plain": [
       "'RGAPI-1a8d985b-72d0-45c3-a1b5-bd1be81564a0'"
      ]
     },
     "execution_count": 4,
     "metadata": {},
     "output_type": "execute_result"
    }
   ],
   "source": [
    "API_KEY"
   ]
  },
  {
   "cell_type": "code",
   "execution_count": 6,
   "id": "8ddccfd6-9c52-400f-8035-6f453eb734f3",
   "metadata": {},
   "outputs": [],
   "source": [
    "# function to get the players\n",
    "def get_players(queue, tier, division, entry_limit):\n",
    "    players = []\n",
    "    page = 1\n",
    "    is_paginating = True\n",
    "    while is_paginating:\n",
    "        # construct url\n",
    "        url = f'{BASE_URL}?{QUEUE}'\n",
    "        # headers\n",
    "        headers = {\n",
    "            'X-Riot-Token': API_KEY\n",
    "        }\n",
    "        # send request\n",
    "        response = requests.get(url, headers=headers)\n",
    "\n",
    "        if response.status_code == 200:\n",
    "            # parse json response\n",
    "            data = response.json()\n",
    "            players.extend(data)\n",
    "            if len(data) < entry_limit:\n",
    "                is_paginating = False\n",
    "            else:\n",
    "                page += 1\n",
    "            time.sleep(1.2)\n",
    "        elif response.status_code == 429:  # Rate-limited response\n",
    "            print(\"Rate limit exceeded. Waiting before retrying...\")\n",
    "            # Extract \"Retry-After\" header if available\n",
    "            retry_after = int(response.headers.get(\"Retry-After\", 10))\n",
    "            time.sleep(retry_after)  # Wait for the specified time\n",
    "        else:\n",
    "            print(f'Error: {response.status_code} - {response.text}')\n",
    "            is_paginating = False\n",
    "    return players"
   ]
  },
  {
   "cell_type": "code",
   "execution_count": 22,
   "id": "497bc8dd-79c1-4aab-aebe-ad09a58935af",
   "metadata": {},
   "outputs": [],
   "source": [
    "# set up parameters for the querying the API\n",
    "REGION = 'kr'         # region of the player (KR or EUW1)\n",
    "BASE_URL = f'https://{REGION}.api.riotgames.com/tft/league/v1/challenger'         # API endpoint\n",
    "QUEUE = 'RANKED_TFT'  # queue of the player. We are interested in players who reached challenger in ranked queue\n",
    "TIER = 'CHALLENGER'   # tier / rank of the player \n",
    "DIVISION = 'I'        # subdivision of the tier (For Master, Grandmaster, Challenger, there is only 1 subdivision so this defaults to I)"
   ]
  },
  {
   "cell_type": "code",
   "execution_count": 23,
   "id": "868069de-85fd-4602-9e54-326ef4619de9",
   "metadata": {},
   "outputs": [],
   "source": [
    "# construct the url and the headers with the API\n",
    "url = f'{BASE_URL}?{QUEUE}'\n",
    "headers = {\n",
    "        'X-Riot-Token': API_KEY\n",
    "    }"
   ]
  },
  {
   "cell_type": "code",
   "execution_count": 24,
   "id": "51914ae0-9df2-4760-bf6a-09acdb7c9436",
   "metadata": {},
   "outputs": [],
   "source": [
    "# get the response\n",
    "response = requests.get(url, headers=headers)"
   ]
  },
  {
   "cell_type": "code",
   "execution_count": 25,
   "id": "a57a7e5e-735f-4551-a7e3-31325a69ad47",
   "metadata": {},
   "outputs": [],
   "source": [
    "if response.status_code == 200:\n",
    "    # parse json response\n",
    "    data = response.json()['entries']"
   ]
  },
  {
   "cell_type": "code",
   "execution_count": 26,
   "id": "bbe4fbe0-3dfd-4390-a62b-44a998ad49b4",
   "metadata": {},
   "outputs": [],
   "source": [
    "# convert the json response into a dataframe\n",
    "tft_players = pd.json_normalize(data)"
   ]
  },
  {
   "cell_type": "code",
   "execution_count": 27,
   "id": "0b8b5205-4195-4f41-9ee0-51f82892f25b",
   "metadata": {},
   "outputs": [
    {
     "data": {
      "text/html": [
       "<div>\n",
       "<style scoped>\n",
       "    .dataframe tbody tr th:only-of-type {\n",
       "        vertical-align: middle;\n",
       "    }\n",
       "\n",
       "    .dataframe tbody tr th {\n",
       "        vertical-align: top;\n",
       "    }\n",
       "\n",
       "    .dataframe thead th {\n",
       "        text-align: right;\n",
       "    }\n",
       "</style>\n",
       "<table border=\"1\" class=\"dataframe\">\n",
       "  <thead>\n",
       "    <tr style=\"text-align: right;\">\n",
       "      <th></th>\n",
       "      <th>summonerId</th>\n",
       "      <th>leaguePoints</th>\n",
       "      <th>rank</th>\n",
       "      <th>wins</th>\n",
       "      <th>losses</th>\n",
       "      <th>veteran</th>\n",
       "      <th>inactive</th>\n",
       "      <th>freshBlood</th>\n",
       "      <th>hotStreak</th>\n",
       "    </tr>\n",
       "  </thead>\n",
       "  <tbody>\n",
       "    <tr>\n",
       "      <th>0</th>\n",
       "      <td>ILwCVBsVzwAXll29Rjm0pJ2MpcJho9F2Gs6Q-ROOaVmLH4...</td>\n",
       "      <td>1791</td>\n",
       "      <td>I</td>\n",
       "      <td>253</td>\n",
       "      <td>103</td>\n",
       "      <td>True</td>\n",
       "      <td>False</td>\n",
       "      <td>False</td>\n",
       "      <td>False</td>\n",
       "    </tr>\n",
       "    <tr>\n",
       "      <th>1</th>\n",
       "      <td>PcJtqqwPzHaQZRM3MyrTFw44HJjnPLZEOb9aZwurjaisJi...</td>\n",
       "      <td>1773</td>\n",
       "      <td>I</td>\n",
       "      <td>222</td>\n",
       "      <td>96</td>\n",
       "      <td>True</td>\n",
       "      <td>False</td>\n",
       "      <td>False</td>\n",
       "      <td>True</td>\n",
       "    </tr>\n",
       "    <tr>\n",
       "      <th>2</th>\n",
       "      <td>EeFn7RQBLE0Px47lujB7fbrEz-Zc1e9pCoaekXcWrDnZqAm7</td>\n",
       "      <td>1772</td>\n",
       "      <td>I</td>\n",
       "      <td>391</td>\n",
       "      <td>212</td>\n",
       "      <td>True</td>\n",
       "      <td>False</td>\n",
       "      <td>False</td>\n",
       "      <td>True</td>\n",
       "    </tr>\n",
       "    <tr>\n",
       "      <th>3</th>\n",
       "      <td>ONyjHlWH-BWFc-KuSrCGcVMerIzzIum7WHcoDyTD5Hd_F4...</td>\n",
       "      <td>1749</td>\n",
       "      <td>I</td>\n",
       "      <td>230</td>\n",
       "      <td>90</td>\n",
       "      <td>True</td>\n",
       "      <td>False</td>\n",
       "      <td>False</td>\n",
       "      <td>False</td>\n",
       "    </tr>\n",
       "    <tr>\n",
       "      <th>4</th>\n",
       "      <td>nXJWod4yFn7ZkCumBLfZcY-4gm82y0Rv6SAUIIcOhGhFWes</td>\n",
       "      <td>1724</td>\n",
       "      <td>I</td>\n",
       "      <td>305</td>\n",
       "      <td>206</td>\n",
       "      <td>True</td>\n",
       "      <td>False</td>\n",
       "      <td>False</td>\n",
       "      <td>True</td>\n",
       "    </tr>\n",
       "  </tbody>\n",
       "</table>\n",
       "</div>"
      ],
      "text/plain": [
       "                                          summonerId  leaguePoints rank  wins  \\\n",
       "0  ILwCVBsVzwAXll29Rjm0pJ2MpcJho9F2Gs6Q-ROOaVmLH4...          1791    I   253   \n",
       "1  PcJtqqwPzHaQZRM3MyrTFw44HJjnPLZEOb9aZwurjaisJi...          1773    I   222   \n",
       "2   EeFn7RQBLE0Px47lujB7fbrEz-Zc1e9pCoaekXcWrDnZqAm7          1772    I   391   \n",
       "3  ONyjHlWH-BWFc-KuSrCGcVMerIzzIum7WHcoDyTD5Hd_F4...          1749    I   230   \n",
       "4    nXJWod4yFn7ZkCumBLfZcY-4gm82y0Rv6SAUIIcOhGhFWes          1724    I   305   \n",
       "\n",
       "   losses  veteran  inactive  freshBlood  hotStreak  \n",
       "0     103     True     False       False      False  \n",
       "1      96     True     False       False       True  \n",
       "2     212     True     False       False       True  \n",
       "3      90     True     False       False      False  \n",
       "4     206     True     False       False       True  "
      ]
     },
     "execution_count": 27,
     "metadata": {},
     "output_type": "execute_result"
    }
   ],
   "source": [
    "tft_players.head()"
   ]
  },
  {
   "cell_type": "code",
   "execution_count": 28,
   "id": "805fe9d6-5e0d-4e3b-b2de-698beaa04705",
   "metadata": {},
   "outputs": [],
   "source": [
    "# convert the Pandas dataframe into a PySpark dataframe for later usage\n",
    "tft_players = spark.createDataFrame(tft_players)"
   ]
  },
  {
   "cell_type": "code",
   "execution_count": 29,
   "id": "7d2d5a31-9825-49c5-b72f-18e643d0722e",
   "metadata": {},
   "outputs": [
    {
     "name": "stderr",
     "output_type": "stream",
     "text": [
      "[Stage 3:>                                                          (0 + 1) / 1]\r"
     ]
    },
    {
     "name": "stdout",
     "output_type": "stream",
     "text": [
      "+--------------------+------------+----+----+------+-------+--------+----------+---------+\n",
      "|          summonerId|leaguePoints|rank|wins|losses|veteran|inactive|freshBlood|hotStreak|\n",
      "+--------------------+------------+----+----+------+-------+--------+----------+---------+\n",
      "|ILwCVBsVzwAXll29R...|        1791|   I| 253|   103|   true|   false|     false|    false|\n",
      "|PcJtqqwPzHaQZRM3M...|        1773|   I| 222|    96|   true|   false|     false|     true|\n",
      "|EeFn7RQBLE0Px47lu...|        1772|   I| 391|   212|   true|   false|     false|     true|\n",
      "|ONyjHlWH-BWFc-KuS...|        1749|   I| 230|    90|   true|   false|     false|    false|\n",
      "|nXJWod4yFn7ZkCumB...|        1724|   I| 305|   206|   true|   false|     false|     true|\n",
      "|bqmYXUsjey6gxdy9m...|        1691|   I| 440|   254|   true|   false|     false|     true|\n",
      "|AI-SS6_RFbA2bmJnO...|        1667|   I| 341|   183|   true|   false|     false|    false|\n",
      "|2YFjhQo1LenjZen4N...|        1664|   I| 257|   116|   true|   false|     false|    false|\n",
      "|AXwCukw0RhJt0EAXd...|        1645|   I| 674|   507|   true|   false|     false|    false|\n",
      "|NOVKleorgWmOeBXpm...|        1617|   I| 391|   206|   true|   false|     false|    false|\n",
      "|Rsm62TveInI0oQgpk...|        1614|   I| 305|   163|   true|   false|     false|    false|\n",
      "|cwW2lWiszpe1SruyZ...|        1610|   I| 257|   201|   true|   false|     false|     true|\n",
      "|BxHjClaDzUgnDs7XS...|        1600|   I| 333|   203|   true|   false|     false|    false|\n",
      "|3PGUMBgqB9UfgxHE_...|        1587|   I| 322|   199|   true|   false|     false|     true|\n",
      "|XUCX5AfKBb4kLYgiR...|        1566|   I| 607|   377|   true|   false|     false|     true|\n",
      "|RjGvPnr5xvQrSjTIc...|        1561|   I| 367|   256|   true|   false|     false|     true|\n",
      "|hMW9bKufbJ01V2mUe...|        1538|   I| 364|   293|   true|   false|     false|     true|\n",
      "|EooeFlsb5BixLyvu_...|        1538|   I| 209|   129|   true|   false|     false|     true|\n",
      "|03pKusAboed1ebQEm...|        1518|   I| 401|   234|   true|   false|     false|     true|\n",
      "|HAY1zMX3VIdFPJiYV...|        1500|   I| 455|   325|  false|   false|     false|    false|\n",
      "+--------------------+------------+----+----+------+-------+--------+----------+---------+\n",
      "only showing top 20 rows\n",
      "\n"
     ]
    },
    {
     "name": "stderr",
     "output_type": "stream",
     "text": [
      "                                                                                \r"
     ]
    }
   ],
   "source": [
    "tft_players.show()"
   ]
  },
  {
   "cell_type": "code",
   "execution_count": 30,
   "id": "7246c541-dbf8-424a-8a1b-0f6a50df67ff",
   "metadata": {},
   "outputs": [],
   "source": [
    "# write the PySpark dataframe to a parquet file\n",
    "tft_players.write.mode('overwrite').parquet(f'./data/tft_players/players_{REGION}_{TIER}_{DIVISION}.parquet')"
   ]
  },
  {
   "cell_type": "code",
   "execution_count": null,
   "id": "8521766c-f206-462f-8de3-a71ea159b9b9",
   "metadata": {},
   "outputs": [],
   "source": []
  }
 ],
 "metadata": {
  "kernelspec": {
   "display_name": "Python 3 (ipykernel)",
   "language": "python",
   "name": "python3"
  },
  "language_info": {
   "codemirror_mode": {
    "name": "ipython",
    "version": 3
   },
   "file_extension": ".py",
   "mimetype": "text/x-python",
   "name": "python",
   "nbconvert_exporter": "python",
   "pygments_lexer": "ipython3",
   "version": "3.10.12"
  }
 },
 "nbformat": 4,
 "nbformat_minor": 5
}
