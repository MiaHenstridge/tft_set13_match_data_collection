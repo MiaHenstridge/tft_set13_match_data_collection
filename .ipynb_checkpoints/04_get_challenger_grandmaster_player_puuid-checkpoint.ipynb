{
 "cells": [
  {
   "cell_type": "markdown",
   "id": "6cf9da86-8877-4335-9b57-b4c2bb638a2f",
   "metadata": {},
   "source": [
    "# Step 4: Query the PUUIDs of challenger and grandmaster using summonerId\n",
    "In order to retrieve the match history of players later, we need to provide the PUUID of the player, which is why we do this extra step to collect the PUUID of our challenger and grandmaster players. For gold players, the previous step already gave us their PUUID.\n"
   ]
  },
  {
   "cell_type": "code",
   "execution_count": 1,
   "id": "7e95cebb-1b66-43b3-847b-c752953986a2",
   "metadata": {},
   "outputs": [],
   "source": [
    "import pyspark.sql.types as T\n",
    "import pyspark.sql.functions as F\n",
    "\n",
    "from pyspark import SparkContext, SparkConf, SQLContext\n",
    "\n",
    "from dateutil.relativedelta import relativedelta\n",
    "from pyspark.sql.functions import pandas_udf\n",
    "from pyspark.sql.window import Window\n",
    "\n",
    "import pandas as pd\n",
    "import numpy as np\n",
    "\n",
    "from datetime import date, datetime, timedelta, timezone\n",
    "import os\n",
    "import json\n",
    "import requests\n",
    "import time\n",
    "import yaml"
   ]
  },
  {
   "cell_type": "code",
   "execution_count": 2,
   "id": "ce5565c7-29d9-44dc-8fd8-1e3f921bb6ed",
   "metadata": {
    "scrolled": true
   },
   "outputs": [
    {
     "name": "stderr",
     "output_type": "stream",
     "text": [
      "25/02/06 21:08:12 WARN Utils: Your hostname, LAPTOP-4O0SI9BK resolves to a loopback address: 127.0.1.1; using 172.26.83.105 instead (on interface eth0)\n",
      "25/02/06 21:08:12 WARN Utils: Set SPARK_LOCAL_IP if you need to bind to another address\n",
      "Setting default log level to \"WARN\".\n",
      "To adjust logging level use sc.setLogLevel(newLevel). For SparkR, use setLogLevel(newLevel).\n",
      "25/02/06 21:08:13 WARN NativeCodeLoader: Unable to load native-hadoop library for your platform... using builtin-java classes where applicable\n",
      "25/02/06 21:08:13 WARN SparkConf: Note that spark.local.dir will be overridden by the value set by the cluster manager (via SPARK_LOCAL_DIRS in mesos/standalone/kubernetes and LOCAL_DIRS in YARN).\n",
      "/usr/local/lib/python3.10/dist-packages/pyspark/sql/context.py:113: FutureWarning: Deprecated in 3.0.0. Use SparkSession.builder.getOrCreate() instead.\n",
      "  warnings.warn(\n"
     ]
    }
   ],
   "source": [
    "appName = \"PySpark TFT puuids\"\n",
    "master = \"local[*]\"\n",
    "conf = SparkConf() \\\n",
    "    .setAppName(appName) \\\n",
    "    .setMaster(master) \\\n",
    "    .set(\"spark.executor.memory\", \"40g\") \\\n",
    "    .set(\"spark.driver.memory\", \"40g\") \\\n",
    "    .set(\"spark.executor.memoryOverhead\", \"8g\") \\\n",
    "    .set(\"spark.local.dir\", \"/home/mai/spark-temp\") \\\n",
    "    .set(\"spark.sql.session.timeZone\", \"UTC\") \\\n",
    "    .set(\"spark.dynamicAllocation.enabled\", \"true\") \\\n",
    "    .set(\"spark.dynamicAllocation.minExecutors\", \"2\") \\\n",
    "    .set(\"spark.dynamicAllocation.maxExecutors\", \"50\") \\\n",
    "    .set(\"spark.speculation\", \"true\") \n",
    "   \n",
    "sc = SparkContext.getOrCreate(conf=conf)\n",
    "sqlContext = SQLContext(sc)\n",
    "spark = sqlContext.sparkSession"
   ]
  },
  {
   "cell_type": "markdown",
   "id": "8623c401-8347-4b62-b67b-e0c927188603",
   "metadata": {},
   "source": [
    "## Set up"
   ]
  },
  {
   "cell_type": "code",
   "execution_count": 3,
   "id": "219259a2-095f-47af-b93f-cdd799211625",
   "metadata": {},
   "outputs": [],
   "source": [
    "# retrieve API key\n",
    "with open('./api_key.yaml', 'r') as file:\n",
    "    API_KEY = yaml.safe_load(file)['api_key']"
   ]
  },
  {
   "cell_type": "code",
   "execution_count": 50,
   "id": "315c37e0-790f-48ff-bb70-5720f74c871c",
   "metadata": {},
   "outputs": [],
   "source": [
    "# set up parameters for the API query\n",
    "REGION = 'kr'\n",
    "BASE_URL = f'https://{REGION}.api.riotgames.com/tft/summoner/v1/summoners'    # API endpoint for querying players PUUID\n",
    "TIER = 'GRANDMASTER'\n",
    "DIVISION = 'I'"
   ]
  },
  {
   "cell_type": "markdown",
   "id": "be481390-38aa-40fa-bc15-8998d5f9d753",
   "metadata": {},
   "source": [
    "## Get the players puuid"
   ]
  },
  {
   "cell_type": "code",
   "execution_count": 51,
   "id": "be754c12-e171-49ae-a57d-2b9e369afcfa",
   "metadata": {},
   "outputs": [],
   "source": [
    "# get the summonerId previously retrieved\n",
    "df = pd.read_parquet(f'./data/tft_players/players_{REGION}_{TIER}_{DIVISION}.parquet/')"
   ]
  },
  {
   "cell_type": "code",
   "execution_count": 52,
   "id": "34dd30e9-0c03-45ba-be77-c9c6275474c8",
   "metadata": {},
   "outputs": [
    {
     "data": {
      "text/html": [
       "<div>\n",
       "<style scoped>\n",
       "    .dataframe tbody tr th:only-of-type {\n",
       "        vertical-align: middle;\n",
       "    }\n",
       "\n",
       "    .dataframe tbody tr th {\n",
       "        vertical-align: top;\n",
       "    }\n",
       "\n",
       "    .dataframe thead th {\n",
       "        text-align: right;\n",
       "    }\n",
       "</style>\n",
       "<table border=\"1\" class=\"dataframe\">\n",
       "  <thead>\n",
       "    <tr style=\"text-align: right;\">\n",
       "      <th></th>\n",
       "      <th>summonerId</th>\n",
       "      <th>leaguePoints</th>\n",
       "      <th>rank</th>\n",
       "      <th>wins</th>\n",
       "      <th>losses</th>\n",
       "      <th>veteran</th>\n",
       "      <th>inactive</th>\n",
       "      <th>freshBlood</th>\n",
       "      <th>hotStreak</th>\n",
       "    </tr>\n",
       "  </thead>\n",
       "  <tbody>\n",
       "    <tr>\n",
       "      <th>0</th>\n",
       "      <td>dqmUNFs259mIFEdBVOxtiyHWzPZ6WXs6IQbmSw8S7Hh77w</td>\n",
       "      <td>1250</td>\n",
       "      <td>I</td>\n",
       "      <td>374</td>\n",
       "      <td>284</td>\n",
       "      <td>False</td>\n",
       "      <td>False</td>\n",
       "      <td>True</td>\n",
       "      <td>True</td>\n",
       "    </tr>\n",
       "    <tr>\n",
       "      <th>1</th>\n",
       "      <td>JCGB8OxzkrKchP6rK2MjNOimzWEW5n09oRWOjUjFAInZ0o...</td>\n",
       "      <td>1217</td>\n",
       "      <td>I</td>\n",
       "      <td>386</td>\n",
       "      <td>346</td>\n",
       "      <td>False</td>\n",
       "      <td>False</td>\n",
       "      <td>True</td>\n",
       "      <td>False</td>\n",
       "    </tr>\n",
       "    <tr>\n",
       "      <th>2</th>\n",
       "      <td>qcWxxzK64N_Hd_5jb-wIflEazUQiUuXANrvHbQ9_4o5vSdk</td>\n",
       "      <td>1213</td>\n",
       "      <td>I</td>\n",
       "      <td>387</td>\n",
       "      <td>330</td>\n",
       "      <td>False</td>\n",
       "      <td>False</td>\n",
       "      <td>False</td>\n",
       "      <td>False</td>\n",
       "    </tr>\n",
       "    <tr>\n",
       "      <th>3</th>\n",
       "      <td>zL5O66dVe1Mj2NOUBeGYY9HgXxxhn02LBHyuTBtIrPEwnZk</td>\n",
       "      <td>1193</td>\n",
       "      <td>I</td>\n",
       "      <td>163</td>\n",
       "      <td>100</td>\n",
       "      <td>False</td>\n",
       "      <td>False</td>\n",
       "      <td>True</td>\n",
       "      <td>True</td>\n",
       "    </tr>\n",
       "    <tr>\n",
       "      <th>4</th>\n",
       "      <td>9uUOsQ89Zuk1genCsk3cFy-y0FqLVwoUS_VLM7fXTG6EWY4</td>\n",
       "      <td>1192</td>\n",
       "      <td>I</td>\n",
       "      <td>122</td>\n",
       "      <td>66</td>\n",
       "      <td>False</td>\n",
       "      <td>False</td>\n",
       "      <td>False</td>\n",
       "      <td>True</td>\n",
       "    </tr>\n",
       "  </tbody>\n",
       "</table>\n",
       "</div>"
      ],
      "text/plain": [
       "                                          summonerId  leaguePoints rank  wins  \\\n",
       "0     dqmUNFs259mIFEdBVOxtiyHWzPZ6WXs6IQbmSw8S7Hh77w          1250    I   374   \n",
       "1  JCGB8OxzkrKchP6rK2MjNOimzWEW5n09oRWOjUjFAInZ0o...          1217    I   386   \n",
       "2    qcWxxzK64N_Hd_5jb-wIflEazUQiUuXANrvHbQ9_4o5vSdk          1213    I   387   \n",
       "3    zL5O66dVe1Mj2NOUBeGYY9HgXxxhn02LBHyuTBtIrPEwnZk          1193    I   163   \n",
       "4    9uUOsQ89Zuk1genCsk3cFy-y0FqLVwoUS_VLM7fXTG6EWY4          1192    I   122   \n",
       "\n",
       "   losses  veteran  inactive  freshBlood  hotStreak  \n",
       "0     284    False     False        True       True  \n",
       "1     346    False     False        True      False  \n",
       "2     330    False     False       False      False  \n",
       "3     100    False     False        True       True  \n",
       "4      66    False     False       False       True  "
      ]
     },
     "execution_count": 52,
     "metadata": {},
     "output_type": "execute_result"
    }
   ],
   "source": [
    "df.head()"
   ]
  },
  {
   "cell_type": "code",
   "execution_count": 53,
   "id": "8cd7a62e-dc79-45de-9d40-438f4de4bd9a",
   "metadata": {},
   "outputs": [],
   "source": [
    "# collect the summonerId into a list\n",
    "summoner_ids = df['summonerId']"
   ]
  },
  {
   "cell_type": "code",
   "execution_count": 54,
   "id": "23035055-7211-4ba6-8ade-964e7a48dd5b",
   "metadata": {},
   "outputs": [
    {
     "data": {
      "text/plain": [
       "600"
      ]
     },
     "execution_count": 54,
     "metadata": {},
     "output_type": "execute_result"
    }
   ],
   "source": [
    "len(summoner_ids)"
   ]
  },
  {
   "cell_type": "code",
   "execution_count": 55,
   "id": "94e1f683-afe4-4dd7-a379-676d9a730d94",
   "metadata": {},
   "outputs": [],
   "source": [
    "# function to query player puuid from summonerId\n",
    "def get_puuid(ids_):\n",
    "    puuid_data = []\n",
    "    i = 0\n",
    "    while i < len(ids_):\n",
    "        # construct url\n",
    "        url = f'{BASE_URL}/{ids_[i]}'\n",
    "        # headers \n",
    "        headers = {\n",
    "            'X-Riot-Token': API_KEY,\n",
    "        }\n",
    "        # send request\n",
    "        response = requests.get(url, headers=headers)\n",
    "        if response.status_code == 200:\n",
    "            # parse json response\n",
    "            data = response.json()\n",
    "            # add summonerid to the data for mapping later\n",
    "            data['summonerId'] = ids_[i]\n",
    "            puuid_data.append(data)\n",
    "            # time.sleep(1.2)\n",
    "            i += 1\n",
    "        elif response.status_code == 429:\n",
    "            print(\"Rate limit exceeded. Waiting before retrying...\")\n",
    "            # Extract \"Retry-After\" header if available\n",
    "            retry_after = int(response.headers.get(\"Retry-After\", 10))\n",
    "            time.sleep(retry_after)  # Wait for the specified time\n",
    "        else:\n",
    "            print(f'Error: {response.status_code} - {response.text}')\n",
    "            # i += 1\n",
    "            break\n",
    "    return puuid_data"
   ]
  },
  {
   "cell_type": "code",
   "execution_count": 56,
   "id": "6a47e06d-7818-46dd-9484-4d8694745412",
   "metadata": {},
   "outputs": [
    {
     "name": "stdout",
     "output_type": "stream",
     "text": [
      "Rate limit exceeded. Waiting before retrying...\n",
      "Rate limit exceeded. Waiting before retrying...\n",
      "Rate limit exceeded. Waiting before retrying...\n",
      "Rate limit exceeded. Waiting before retrying...\n",
      "Rate limit exceeded. Waiting before retrying...\n"
     ]
    }
   ],
   "source": [
    "puuid_data = get_puuid(summoner_ids)"
   ]
  },
  {
   "cell_type": "code",
   "execution_count": 57,
   "id": "5137fca9-d06c-4002-bdd3-f1189b0fa8e6",
   "metadata": {},
   "outputs": [
    {
     "data": {
      "text/html": [
       "<div>\n",
       "<style scoped>\n",
       "    .dataframe tbody tr th:only-of-type {\n",
       "        vertical-align: middle;\n",
       "    }\n",
       "\n",
       "    .dataframe tbody tr th {\n",
       "        vertical-align: top;\n",
       "    }\n",
       "\n",
       "    .dataframe thead th {\n",
       "        text-align: right;\n",
       "    }\n",
       "</style>\n",
       "<table border=\"1\" class=\"dataframe\">\n",
       "  <thead>\n",
       "    <tr style=\"text-align: right;\">\n",
       "      <th></th>\n",
       "      <th>id</th>\n",
       "      <th>accountId</th>\n",
       "      <th>puuid</th>\n",
       "      <th>profileIconId</th>\n",
       "      <th>revisionDate</th>\n",
       "      <th>summonerLevel</th>\n",
       "      <th>summonerId</th>\n",
       "    </tr>\n",
       "  </thead>\n",
       "  <tbody>\n",
       "    <tr>\n",
       "      <th>0</th>\n",
       "      <td>dqmUNFs259mIFEdBVOxtiyHWzPZ6WXs6IQbmSw8S7Hh77w</td>\n",
       "      <td>tozex8nfNMJnA_VnXDQI63xofJ-D7m9WlEx17qWJj9DA</td>\n",
       "      <td>RBE6iHUktHgz_gXnOPb4E5GKDknIwz2VShQ-3HIWXpF-PQ...</td>\n",
       "      <td>1636</td>\n",
       "      <td>1738865177000</td>\n",
       "      <td>141</td>\n",
       "      <td>dqmUNFs259mIFEdBVOxtiyHWzPZ6WXs6IQbmSw8S7Hh77w</td>\n",
       "    </tr>\n",
       "    <tr>\n",
       "      <th>1</th>\n",
       "      <td>JCGB8OxzkrKchP6rK2MjNOimzWEW5n09oRWOjUjFAInZ0o...</td>\n",
       "      <td>MjeVryD8Akeyqy-fLbdAdD25o1qvtZygiTgFe8zxs0FT-h...</td>\n",
       "      <td>e5VVeturZHwmymLEkGMAEMabWEIAFyhz5HqEqZRjwJQ3fU...</td>\n",
       "      <td>907</td>\n",
       "      <td>1738721203000</td>\n",
       "      <td>2</td>\n",
       "      <td>JCGB8OxzkrKchP6rK2MjNOimzWEW5n09oRWOjUjFAInZ0o...</td>\n",
       "    </tr>\n",
       "    <tr>\n",
       "      <th>2</th>\n",
       "      <td>qcWxxzK64N_Hd_5jb-wIflEazUQiUuXANrvHbQ9_4o5vSdk</td>\n",
       "      <td>49MCrIpWyFHsA41Bc6YdBQN5YpYD94xzgXqsm3McqXlcVc...</td>\n",
       "      <td>JZ6wXkKsBxZDs5UFQAVkYP-ZsZGCBv_MZhv44vlif_rB3h...</td>\n",
       "      <td>3376</td>\n",
       "      <td>1738694061000</td>\n",
       "      <td>201</td>\n",
       "      <td>qcWxxzK64N_Hd_5jb-wIflEazUQiUuXANrvHbQ9_4o5vSdk</td>\n",
       "    </tr>\n",
       "    <tr>\n",
       "      <th>3</th>\n",
       "      <td>zL5O66dVe1Mj2NOUBeGYY9HgXxxhn02LBHyuTBtIrPEwnZk</td>\n",
       "      <td>GIUZvQoRYw9WlsNlk87Lum6a7N4IzT2yBo8Yk6eGnKdnsU4</td>\n",
       "      <td>HF9QMYd7LqmJBqHwyqIVBXBtIFDpxctZKMmvzyPyEytdvP...</td>\n",
       "      <td>3478</td>\n",
       "      <td>1738854159778</td>\n",
       "      <td>374</td>\n",
       "      <td>zL5O66dVe1Mj2NOUBeGYY9HgXxxhn02LBHyuTBtIrPEwnZk</td>\n",
       "    </tr>\n",
       "    <tr>\n",
       "      <th>4</th>\n",
       "      <td>9uUOsQ89Zuk1genCsk3cFy-y0FqLVwoUS_VLM7fXTG6EWY4</td>\n",
       "      <td>VRm6Cb_wiKZE2jjJ1yR8rwJA7WcTYFN_byXffF3xcFU_</td>\n",
       "      <td>ZtRX8x6-0dBAL8VSSNvwxWT9MT7TxfxPT1TKRquH6g5Knv...</td>\n",
       "      <td>6000</td>\n",
       "      <td>1738836707704</td>\n",
       "      <td>641</td>\n",
       "      <td>9uUOsQ89Zuk1genCsk3cFy-y0FqLVwoUS_VLM7fXTG6EWY4</td>\n",
       "    </tr>\n",
       "  </tbody>\n",
       "</table>\n",
       "</div>"
      ],
      "text/plain": [
       "                                                  id  \\\n",
       "0     dqmUNFs259mIFEdBVOxtiyHWzPZ6WXs6IQbmSw8S7Hh77w   \n",
       "1  JCGB8OxzkrKchP6rK2MjNOimzWEW5n09oRWOjUjFAInZ0o...   \n",
       "2    qcWxxzK64N_Hd_5jb-wIflEazUQiUuXANrvHbQ9_4o5vSdk   \n",
       "3    zL5O66dVe1Mj2NOUBeGYY9HgXxxhn02LBHyuTBtIrPEwnZk   \n",
       "4    9uUOsQ89Zuk1genCsk3cFy-y0FqLVwoUS_VLM7fXTG6EWY4   \n",
       "\n",
       "                                           accountId  \\\n",
       "0       tozex8nfNMJnA_VnXDQI63xofJ-D7m9WlEx17qWJj9DA   \n",
       "1  MjeVryD8Akeyqy-fLbdAdD25o1qvtZygiTgFe8zxs0FT-h...   \n",
       "2  49MCrIpWyFHsA41Bc6YdBQN5YpYD94xzgXqsm3McqXlcVc...   \n",
       "3    GIUZvQoRYw9WlsNlk87Lum6a7N4IzT2yBo8Yk6eGnKdnsU4   \n",
       "4       VRm6Cb_wiKZE2jjJ1yR8rwJA7WcTYFN_byXffF3xcFU_   \n",
       "\n",
       "                                               puuid  profileIconId  \\\n",
       "0  RBE6iHUktHgz_gXnOPb4E5GKDknIwz2VShQ-3HIWXpF-PQ...           1636   \n",
       "1  e5VVeturZHwmymLEkGMAEMabWEIAFyhz5HqEqZRjwJQ3fU...            907   \n",
       "2  JZ6wXkKsBxZDs5UFQAVkYP-ZsZGCBv_MZhv44vlif_rB3h...           3376   \n",
       "3  HF9QMYd7LqmJBqHwyqIVBXBtIFDpxctZKMmvzyPyEytdvP...           3478   \n",
       "4  ZtRX8x6-0dBAL8VSSNvwxWT9MT7TxfxPT1TKRquH6g5Knv...           6000   \n",
       "\n",
       "    revisionDate  summonerLevel  \\\n",
       "0  1738865177000            141   \n",
       "1  1738721203000              2   \n",
       "2  1738694061000            201   \n",
       "3  1738854159778            374   \n",
       "4  1738836707704            641   \n",
       "\n",
       "                                          summonerId  \n",
       "0     dqmUNFs259mIFEdBVOxtiyHWzPZ6WXs6IQbmSw8S7Hh77w  \n",
       "1  JCGB8OxzkrKchP6rK2MjNOimzWEW5n09oRWOjUjFAInZ0o...  \n",
       "2    qcWxxzK64N_Hd_5jb-wIflEazUQiUuXANrvHbQ9_4o5vSdk  \n",
       "3    zL5O66dVe1Mj2NOUBeGYY9HgXxxhn02LBHyuTBtIrPEwnZk  \n",
       "4    9uUOsQ89Zuk1genCsk3cFy-y0FqLVwoUS_VLM7fXTG6EWY4  "
      ]
     },
     "execution_count": 57,
     "metadata": {},
     "output_type": "execute_result"
    }
   ],
   "source": [
    "# convert response into a pd dataframe\n",
    "puuid_df = pd.json_normalize(puuid_data)\n",
    "puuid_df.head()"
   ]
  },
  {
   "cell_type": "code",
   "execution_count": 58,
   "id": "1dd9520a-8678-4a2f-a287-2ca5b6bf18ba",
   "metadata": {},
   "outputs": [
    {
     "name": "stdout",
     "output_type": "stream",
     "text": [
      "+--------------------+--------------------+--------------------+-------------+-------------+-------------+--------------------+\n",
      "|                  id|           accountId|               puuid|profileIconId| revisionDate|summonerLevel|          summonerId|\n",
      "+--------------------+--------------------+--------------------+-------------+-------------+-------------+--------------------+\n",
      "|dqmUNFs259mIFEdBV...|tozex8nfNMJnA_VnX...|RBE6iHUktHgz_gXnO...|         1636|1738865177000|          141|dqmUNFs259mIFEdBV...|\n",
      "|JCGB8OxzkrKchP6rK...|MjeVryD8Akeyqy-fL...|e5VVeturZHwmymLEk...|          907|1738721203000|            2|JCGB8OxzkrKchP6rK...|\n",
      "|qcWxxzK64N_Hd_5jb...|49MCrIpWyFHsA41Bc...|JZ6wXkKsBxZDs5UFQ...|         3376|1738694061000|          201|qcWxxzK64N_Hd_5jb...|\n",
      "|zL5O66dVe1Mj2NOUB...|GIUZvQoRYw9WlsNlk...|HF9QMYd7LqmJBqHwy...|         3478|1738854159778|          374|zL5O66dVe1Mj2NOUB...|\n",
      "|9uUOsQ89Zuk1genCs...|VRm6Cb_wiKZE2jjJ1...|ZtRX8x6-0dBAL8VSS...|         6000|1738836707704|          641|9uUOsQ89Zuk1genCs...|\n",
      "|DLFOjULdDwm3vOgoe...|wWfDwPdfUBYMwMN_Q...|9HscjyDm0Ghpn87fV...|         6568|1738867389000|           75|DLFOjULdDwm3vOgoe...|\n",
      "|VBXyqNs_5AeYw1TL-...|8sC-sQRMYTTGpxMAz...|rXOcSVHWah1pTJVci...|           25|1738864255810|            8|VBXyqNs_5AeYw1TL-...|\n",
      "|RmfKs0P8FYoeMAunH...|kOn3yHiUdrDqvRC_D...|45AF8Tru1zKIwZUU0...|           23|1738871651000|            1|RmfKs0P8FYoeMAunH...|\n",
      "|zAbe6uOxsSobTkElj...|d5YCVHU-ovGy96Soe...|6vPCiOvBtFb_zPqlA...|           29|1738866421075|          400|zAbe6uOxsSobTkElj...|\n",
      "|v_R3WeAGXHVNcrisa...|AAn-zY96jeOgs8s7N...|uPSuLWPNf36k0d054...|         5411|1738838150267|          567|v_R3WeAGXHVNcrisa...|\n",
      "+--------------------+--------------------+--------------------+-------------+-------------+-------------+--------------------+\n",
      "only showing top 10 rows\n",
      "\n"
     ]
    }
   ],
   "source": [
    "# convert into a PySpark dataframe\n",
    "puuid_df = spark.createDataFrame(puuid_df)\n",
    "puuid_df.show(10)"
   ]
  },
  {
   "cell_type": "code",
   "execution_count": 59,
   "id": "baf0e1fb-0792-4727-989e-71314491f6e8",
   "metadata": {},
   "outputs": [
    {
     "data": {
      "text/plain": [
       "600"
      ]
     },
     "execution_count": 59,
     "metadata": {},
     "output_type": "execute_result"
    }
   ],
   "source": [
    "puuid_df.count()"
   ]
  },
  {
   "cell_type": "code",
   "execution_count": 60,
   "id": "111d22d8-dfd4-40b0-9c9e-51f0d3deeb84",
   "metadata": {},
   "outputs": [],
   "source": [
    "# write to a parquet file\n",
    "puuid_df.write.mode('overwrite').parquet(f'./data/tft_puuids/puuids_{REGION}_{TIER}_{DIVISION}.parquet')"
   ]
  },
  {
   "cell_type": "code",
   "execution_count": null,
   "id": "0f826e9e-ce64-41e9-a456-793130ea6490",
   "metadata": {},
   "outputs": [],
   "source": []
  }
 ],
 "metadata": {
  "kernelspec": {
   "display_name": "Python 3 (ipykernel)",
   "language": "python",
   "name": "python3"
  },
  "language_info": {
   "codemirror_mode": {
    "name": "ipython",
    "version": 3
   },
   "file_extension": ".py",
   "mimetype": "text/x-python",
   "name": "python",
   "nbconvert_exporter": "python",
   "pygments_lexer": "ipython3",
   "version": "3.10.12"
  }
 },
 "nbformat": 4,
 "nbformat_minor": 5
}
