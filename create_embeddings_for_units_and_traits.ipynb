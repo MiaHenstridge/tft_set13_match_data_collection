{
 "cells": [
  {
   "cell_type": "code",
   "execution_count": 1,
   "id": "6d0b1776-e365-4c54-9a43-8b623d6ceea0",
   "metadata": {},
   "outputs": [],
   "source": [
    "import pandas as pd\n",
    "import numpy as np\n",
    "import torch\n",
    "import torch.nn as nn\n",
    "import os\n",
    "import json"
   ]
  },
  {
   "cell_type": "markdown",
   "id": "8c26d3c1-62ed-4075-8895-d1c255d08a41",
   "metadata": {},
   "source": [
    "## 1. Load data"
   ]
  },
  {
   "cell_type": "code",
   "execution_count": 2,
   "id": "28c87606-2ec0-479a-ac52-841311b32867",
   "metadata": {},
   "outputs": [],
   "source": [
    "ALL_FEATURE_DIR = './data/all_features/'"
   ]
  },
  {
   "cell_type": "code",
   "execution_count": 3,
   "id": "55b579d1-ef32-4aa1-8e1b-23dd142bd57f",
   "metadata": {},
   "outputs": [],
   "source": [
    "REGION = 'euw1'\n",
    "TIER = 'CHALLENGER'\n",
    "DIVISION = 'I'"
   ]
  },
  {
   "cell_type": "code",
   "execution_count": 4,
   "id": "d1b5c353-acea-4765-aab4-6be4779b4237",
   "metadata": {},
   "outputs": [],
   "source": [
    "df = pd.read_parquet(os.path.join(ALL_FEATURE_DIR, f'all_features_{REGION}_{TIER}_{DIVISION}.parquet'))"
   ]
  },
  {
   "cell_type": "code",
   "execution_count": 5,
   "id": "9016742c-31be-4366-a466-298c6525a01b",
   "metadata": {},
   "outputs": [],
   "source": [
    "df = df[['metadata_match_id', 'puuid', 'units', 'active_traits', 'placement']]"
   ]
  },
  {
   "cell_type": "code",
   "execution_count": 6,
   "id": "fbf7445c-ccbc-47ee-8ee7-100320608818",
   "metadata": {},
   "outputs": [
    {
     "data": {
      "text/html": [
       "<div>\n",
       "<style scoped>\n",
       "    .dataframe tbody tr th:only-of-type {\n",
       "        vertical-align: middle;\n",
       "    }\n",
       "\n",
       "    .dataframe tbody tr th {\n",
       "        vertical-align: top;\n",
       "    }\n",
       "\n",
       "    .dataframe thead th {\n",
       "        text-align: right;\n",
       "    }\n",
       "</style>\n",
       "<table border=\"1\" class=\"dataframe\">\n",
       "  <thead>\n",
       "    <tr style=\"text-align: right;\">\n",
       "      <th></th>\n",
       "      <th>metadata_match_id</th>\n",
       "      <th>puuid</th>\n",
       "      <th>units</th>\n",
       "      <th>active_traits</th>\n",
       "      <th>placement</th>\n",
       "    </tr>\n",
       "  </thead>\n",
       "  <tbody>\n",
       "    <tr>\n",
       "      <th>0</th>\n",
       "      <td>EUW1_7287829871</td>\n",
       "      <td>25LytTrGnuEzDLLQKSFQjKtDtzdWiYqMYEPImOuwbISTLG...</td>\n",
       "      <td>[{'unit_name': 'Zyra', 'unit_cost': 1, 'unit_t...</td>\n",
       "      <td>[{'trait_name': 'Emissary', 'trait_style': 1.0...</td>\n",
       "      <td>4</td>\n",
       "    </tr>\n",
       "    <tr>\n",
       "      <th>1</th>\n",
       "      <td>EUW1_7287021125</td>\n",
       "      <td>RYLtU0PFAnpFjJ0pJf_i1P_hiMh9w2SF9xxl4Dz4SaiGk9...</td>\n",
       "      <td>[{'unit_name': 'Irelia', 'unit_cost': 1, 'unit...</td>\n",
       "      <td>[{'trait_name': 'Academy', 'trait_style': 1.0,...</td>\n",
       "      <td>6</td>\n",
       "    </tr>\n",
       "    <tr>\n",
       "      <th>2</th>\n",
       "      <td>EUW1_7285135299</td>\n",
       "      <td>q-EzF1r80j1TaaYVCjh1M_gQIL1_GjHt5s5mDT5J0EMFMV...</td>\n",
       "      <td>[{'unit_name': 'Zyra', 'unit_cost': 1, 'unit_t...</td>\n",
       "      <td>[{'trait_name': 'Bruiser', 'trait_style': 1.0,...</td>\n",
       "      <td>1</td>\n",
       "    </tr>\n",
       "    <tr>\n",
       "      <th>3</th>\n",
       "      <td>EUW1_7287517140</td>\n",
       "      <td>dMaMJ-O8aJW2DmjNVIq588fDocoq-p7TnPP6tT0y3Cy3bS...</td>\n",
       "      <td>[{'unit_name': 'Powder', 'unit_cost': 1, 'unit...</td>\n",
       "      <td>[{'trait_name': 'Ambusher', 'trait_style': 4.0...</td>\n",
       "      <td>1</td>\n",
       "    </tr>\n",
       "    <tr>\n",
       "      <th>4</th>\n",
       "      <td>EUW1_7279610050</td>\n",
       "      <td>vmj1lvV5X0BLkh0RMzBBYH-L2QYDekEC40D5-6Z2iPW9tK...</td>\n",
       "      <td>[{'unit_name': 'Morgana', 'unit_cost': 1, 'uni...</td>\n",
       "      <td>[{'trait_name': 'Visionary', 'trait_style': 2....</td>\n",
       "      <td>8</td>\n",
       "    </tr>\n",
       "  </tbody>\n",
       "</table>\n",
       "</div>"
      ],
      "text/plain": [
       "  metadata_match_id                                              puuid  \\\n",
       "0   EUW1_7287829871  25LytTrGnuEzDLLQKSFQjKtDtzdWiYqMYEPImOuwbISTLG...   \n",
       "1   EUW1_7287021125  RYLtU0PFAnpFjJ0pJf_i1P_hiMh9w2SF9xxl4Dz4SaiGk9...   \n",
       "2   EUW1_7285135299  q-EzF1r80j1TaaYVCjh1M_gQIL1_GjHt5s5mDT5J0EMFMV...   \n",
       "3   EUW1_7287517140  dMaMJ-O8aJW2DmjNVIq588fDocoq-p7TnPP6tT0y3Cy3bS...   \n",
       "4   EUW1_7279610050  vmj1lvV5X0BLkh0RMzBBYH-L2QYDekEC40D5-6Z2iPW9tK...   \n",
       "\n",
       "                                               units  \\\n",
       "0  [{'unit_name': 'Zyra', 'unit_cost': 1, 'unit_t...   \n",
       "1  [{'unit_name': 'Irelia', 'unit_cost': 1, 'unit...   \n",
       "2  [{'unit_name': 'Zyra', 'unit_cost': 1, 'unit_t...   \n",
       "3  [{'unit_name': 'Powder', 'unit_cost': 1, 'unit...   \n",
       "4  [{'unit_name': 'Morgana', 'unit_cost': 1, 'uni...   \n",
       "\n",
       "                                       active_traits  placement  \n",
       "0  [{'trait_name': 'Emissary', 'trait_style': 1.0...          4  \n",
       "1  [{'trait_name': 'Academy', 'trait_style': 1.0,...          6  \n",
       "2  [{'trait_name': 'Bruiser', 'trait_style': 1.0,...          1  \n",
       "3  [{'trait_name': 'Ambusher', 'trait_style': 4.0...          1  \n",
       "4  [{'trait_name': 'Visionary', 'trait_style': 2....          8  "
      ]
     },
     "execution_count": 6,
     "metadata": {},
     "output_type": "execute_result"
    }
   ],
   "source": [
    "df.head()"
   ]
  },
  {
   "cell_type": "code",
   "execution_count": 7,
   "id": "21e363d3-660c-42c7-bd21-7a1632ad46e9",
   "metadata": {},
   "outputs": [
    {
     "data": {
      "text/plain": [
       "array([{'unit_name': 'Irelia', 'unit_cost': 1, 'unit_tier': 1, 'unit_item_count': 0, 'players_contesting_unit': 0.0, 'players_contesting_unit_tier_equal': 0.0, 'players_contesting_unit_tier_higher': 0.0},\n",
       "       {'unit_name': 'Leona', 'unit_cost': 2, 'unit_tier': 2, 'unit_item_count': 1, 'players_contesting_unit': 1.0, 'players_contesting_unit_tier_equal': 0.0, 'players_contesting_unit_tier_higher': 1.0},\n",
       "       {'unit_name': 'Rell', 'unit_cost': 2, 'unit_tier': 2, 'unit_item_count': 0, 'players_contesting_unit': 1.0, 'players_contesting_unit_tier_equal': 0.0, 'players_contesting_unit_tier_higher': 1.0},\n",
       "       {'unit_name': 'Ezreal', 'unit_cost': 3, 'unit_tier': 3, 'unit_item_count': 3, 'players_contesting_unit': 0.0, 'players_contesting_unit_tier_equal': 0.0, 'players_contesting_unit_tier_higher': 0.0},\n",
       "       {'unit_name': 'Loris', 'unit_cost': 3, 'unit_tier': 2, 'unit_item_count': 0, 'players_contesting_unit': 3.0, 'players_contesting_unit_tier_equal': 2.0, 'players_contesting_unit_tier_higher': 0.0},\n",
       "       {'unit_name': 'Illaoi', 'unit_cost': 4, 'unit_tier': 2, 'unit_item_count': 2, 'players_contesting_unit': 1.0, 'players_contesting_unit_tier_equal': 1.0, 'players_contesting_unit_tier_higher': 0.0},\n",
       "       {'unit_name': 'Corki', 'unit_cost': 4, 'unit_tier': 2, 'unit_item_count': 3, 'players_contesting_unit': 3.0, 'players_contesting_unit_tier_equal': 2.0, 'players_contesting_unit_tier_higher': 0.0},\n",
       "       {'unit_name': 'Jayce', 'unit_cost': 5, 'unit_tier': 1, 'unit_item_count': 2, 'players_contesting_unit': 0.0, 'players_contesting_unit_tier_equal': 0.0, 'players_contesting_unit_tier_higher': 0.0},\n",
       "       {'unit_name': \"Jayce's summons\", 'unit_cost': 0, 'unit_tier': 1, 'unit_item_count': 0, 'players_contesting_unit': 0.0, 'players_contesting_unit_tier_equal': 0.0, 'players_contesting_unit_tier_higher': 0.0}],\n",
       "      dtype=object)"
      ]
     },
     "execution_count": 7,
     "metadata": {},
     "output_type": "execute_result"
    }
   ],
   "source": [
    "df.iloc[1]['units']"
   ]
  },
  {
   "cell_type": "code",
   "execution_count": 20,
   "id": "49eee8fb-4a91-4532-b7f2-98a83e5a5713",
   "metadata": {},
   "outputs": [
    {
     "name": "stdout",
     "output_type": "stream",
     "text": [
      "[1.0, 4.386294361119891, 2.3068528194400546, 38.18070977791825, 0.3081443893994176, 8.62631406830246, 8.239616194998872, 2.09861228866811, 1.0]\n",
      "66.14654389984706\n"
     ]
    }
   ],
   "source": [
    "test_data = df.iloc[1]['units']\n",
    "\n",
    "def calculate_unit_strength(unit):\n",
    "    alpha = 1\n",
    "    beta = 1\n",
    "    epsilon = 1e-8\n",
    "    unit_strength = alpha * ((unit['unit_cost']+1)**(unit['unit_tier']-1) * (1+np.log(unit['unit_item_count']+1)))\n",
    "    unit_contest = beta * (np.log(1 + unit['players_contesting_unit']) + np.log(unit['players_contesting_unit_tier_equal']+1) + np.log(unit['players_contesting_unit_tier_equal']+1)**2)\n",
    "    return unit_strength - unit_contest\n",
    "\n",
    "unit_strength = [calculate_unit_strength(x) for x in test_data]\n",
    "print(unit_strength)\n",
    "print(sum(unit_strength))"
   ]
  },
  {
   "cell_type": "code",
   "execution_count": 18,
   "id": "c81d1133-1e83-459e-8aaf-1ac834af6cdf",
   "metadata": {},
   "outputs": [
    {
     "data": {
      "text/plain": [
       "1.9459101490553132"
      ]
     },
     "execution_count": 18,
     "metadata": {},
     "output_type": "execute_result"
    }
   ],
   "source": [
    "np.log(7)"
   ]
  },
  {
   "cell_type": "markdown",
   "id": "b69b1cf9-0766-4666-9000-125662f748f8",
   "metadata": {},
   "source": [
    "## 2. Embed units using weighted pooling"
   ]
  },
  {
   "cell_type": "code",
   "execution_count": 8,
   "id": "45ebbd49-3579-4a23-89a9-ed621b69ef41",
   "metadata": {},
   "outputs": [],
   "source": [
    "# get all unique unit names\n",
    "with open('./data/data_dragon/set13/units.json', 'r') as file:\n",
    "    units = json.load(file)"
   ]
  },
  {
   "cell_type": "code",
   "execution_count": 9,
   "id": "2c9d90f4-5394-4359-a713-a08da557da23",
   "metadata": {},
   "outputs": [
    {
     "data": {
      "text/plain": [
       "63"
      ]
     },
     "execution_count": 9,
     "metadata": {},
     "output_type": "execute_result"
    }
   ],
   "source": [
    "SET13_UNITS = [i['name'] for i in units.values()]\n",
    "\n",
    "len(SET13_UNITS)"
   ]
  },
  {
   "cell_type": "code",
   "execution_count": 10,
   "id": "72c24cf8-fcfa-47b9-afe6-2dfda9835ce6",
   "metadata": {},
   "outputs": [],
   "source": [
    "SPECIAL_UNITS = ['Black Rose Sion', \"Jayce's summons\"]"
   ]
  },
  {
   "cell_type": "code",
   "execution_count": 59,
   "id": "03773825-5fb8-4410-b124-4d1bbeeda4dc",
   "metadata": {},
   "outputs": [],
   "source": [
    "# class TFTUnitEmbedder:\n",
    "#     def __init__(self, \n",
    "#                  # unique_units=SET13_UNITS, \n",
    "#                  # special_units=SPECIAL_UNITS, \n",
    "#                  embedding_dim=8, \n",
    "#                  alpha_strength=0.5, \n",
    "#                  alpha_contest=0.3, \n",
    "#                  epsilon=1e-8):\n",
    "#         # self.unit_to_idx = {unit: i for i, unit in enumerate(sorted(unique_units))}\n",
    "#         # for unit in special_units:\n",
    "#         #     self.unit_to_idx[unit] = len(self.unit_to_idx)\n",
    "#         self.embedding_dim = embedding_dim\n",
    "#         self.alpha_strength = alpha_strength    # scaling factor for unit cost & tier & items\n",
    "#         self.alpha_contest = alpha_contest      # scaling factor for contesting pressure\n",
    "#         self.epsilon = epsilon\n",
    "#         # create embedding layer\n",
    "#         # self.embedding_layer = nn.Embedding(len(unique_units)+len(special_units), embedding_dim)\n",
    "\n",
    "#     def get_pooled_embedding(self, units):\n",
    "#         if len(units) == 0:\n",
    "#             return torch.zeros(self.embedding_dim)\n",
    "#         # convert unit names to indices\n",
    "#         # unit_idx = torch.tensor([self.unit_to_idx.get(unit['unit_name'], -1) for unit in units], dtype=torch.long)\n",
    "#         # unit_embeddings = self.embedding_layer(unit_idx)\n",
    "#         # extract other numerical features\n",
    "#         unit_costs = torch.tensor([unit['unit_cost'] for unit in units], dtype=torch.float)\n",
    "#         unit_tiers = torch.tensor([unit['unit_tier'] for unit in units], dtype=torch.float)\n",
    "#         unit_items = torch.tensor([unit['unit_item_count'] for unit in units], dtype=torch.float)\n",
    "#         players_contesting = torch.tensor([unit['players_contesting_unit'] for unit in units], dtype=torch.float)\n",
    "#         players_contesting_tier_higher = torch.tensor([unit['players_contesting_unit_tier_higher'] for unit in units], dtype=torch.float)\n",
    "\n",
    "#         # compute weights with separate scaling factors\n",
    "#         strength_component = self.alpha_strength * (unit_costs * 3**(unit_tiers-1) + (unit_items+self.epsilon) / 3) \n",
    "#         contest_component = self.alpha_contest * ((players_contesting_tier_higher+self.epsilon) / (players_contesting+self.epsilon))\n",
    "#         weights = strength_component + contest_component\n",
    "#         # normalize weights\n",
    "#         weights = weights / weights.sum() if weights.sum() > 0 else weights\n",
    "#         # apply weighted pooling\n",
    "#         pooled_embedding = torch.max(weights, dim=0)\n",
    "#         return pooled_embedding\n",
    "\n",
    "#     def transform(self, df, unit_col='units'):\n",
    "#         # compute pooled embeddings for all rows\n",
    "#         df['units_embedding'] = df[unit_col].apply(lambda units: self.get_pooled_embedding(units))\n",
    "#         return df"
   ]
  },
  {
   "cell_type": "code",
   "execution_count": 60,
   "id": "351f693f-fcfc-4c25-9316-029cbec96763",
   "metadata": {},
   "outputs": [],
   "source": [
    "unit_emb = TFTUnitEmbedder(embedding_dim=4, alpha_strength=0.5, alpha_contest=1.0)"
   ]
  },
  {
   "cell_type": "code",
   "execution_count": 61,
   "id": "8d9a7541-017f-4a70-9d8f-413d29428458",
   "metadata": {},
   "outputs": [],
   "source": [
    "df = unit_emb.transform(df)"
   ]
  },
  {
   "cell_type": "code",
   "execution_count": 62,
   "id": "531564fe-7337-43dd-a8b6-67ce0a863161",
   "metadata": {},
   "outputs": [
    {
     "data": {
      "text/html": [
       "<div>\n",
       "<style scoped>\n",
       "    .dataframe tbody tr th:only-of-type {\n",
       "        vertical-align: middle;\n",
       "    }\n",
       "\n",
       "    .dataframe tbody tr th {\n",
       "        vertical-align: top;\n",
       "    }\n",
       "\n",
       "    .dataframe thead th {\n",
       "        text-align: right;\n",
       "    }\n",
       "</style>\n",
       "<table border=\"1\" class=\"dataframe\">\n",
       "  <thead>\n",
       "    <tr style=\"text-align: right;\">\n",
       "      <th></th>\n",
       "      <th>metadata_match_id</th>\n",
       "      <th>puuid</th>\n",
       "      <th>units</th>\n",
       "      <th>active_traits</th>\n",
       "      <th>placement</th>\n",
       "      <th>units_embedding</th>\n",
       "    </tr>\n",
       "  </thead>\n",
       "  <tbody>\n",
       "    <tr>\n",
       "      <th>0</th>\n",
       "      <td>EUW1_7287829871</td>\n",
       "      <td>25LytTrGnuEzDLLQKSFQjKtDtzdWiYqMYEPImOuwbISTLG...</td>\n",
       "      <td>[{'unit_name': 'Zyra', 'unit_cost': 1, 'unit_t...</td>\n",
       "      <td>[{'trait_name': 'Emissary', 'trait_style': 1.0...</td>\n",
       "      <td>4</td>\n",
       "      <td>(tensor(0.2093), tensor(1))</td>\n",
       "    </tr>\n",
       "    <tr>\n",
       "      <th>1</th>\n",
       "      <td>EUW1_7287021125</td>\n",
       "      <td>RYLtU0PFAnpFjJ0pJf_i1P_hiMh9w2SF9xxl4Dz4SaiGk9...</td>\n",
       "      <td>[{'unit_name': 'Irelia', 'unit_cost': 1, 'unit...</td>\n",
       "      <td>[{'trait_name': 'Academy', 'trait_style': 1.0,...</td>\n",
       "      <td>6</td>\n",
       "      <td>(tensor(0.3203), tensor(3))</td>\n",
       "    </tr>\n",
       "    <tr>\n",
       "      <th>2</th>\n",
       "      <td>EUW1_7285135299</td>\n",
       "      <td>q-EzF1r80j1TaaYVCjh1M_gQIL1_GjHt5s5mDT5J0EMFMV...</td>\n",
       "      <td>[{'unit_name': 'Zyra', 'unit_cost': 1, 'unit_t...</td>\n",
       "      <td>[{'trait_name': 'Bruiser', 'trait_style': 1.0,...</td>\n",
       "      <td>1</td>\n",
       "      <td>(tensor(0.1950), tensor(1))</td>\n",
       "    </tr>\n",
       "    <tr>\n",
       "      <th>3</th>\n",
       "      <td>EUW1_7287517140</td>\n",
       "      <td>dMaMJ-O8aJW2DmjNVIq588fDocoq-p7TnPP6tT0y3Cy3bS...</td>\n",
       "      <td>[{'unit_name': 'Powder', 'unit_cost': 1, 'unit...</td>\n",
       "      <td>[{'trait_name': 'Ambusher', 'trait_style': 4.0...</td>\n",
       "      <td>1</td>\n",
       "      <td>(tensor(0.1957), tensor(6))</td>\n",
       "    </tr>\n",
       "    <tr>\n",
       "      <th>4</th>\n",
       "      <td>EUW1_7279610050</td>\n",
       "      <td>vmj1lvV5X0BLkh0RMzBBYH-L2QYDekEC40D5-6Z2iPW9tK...</td>\n",
       "      <td>[{'unit_name': 'Morgana', 'unit_cost': 1, 'uni...</td>\n",
       "      <td>[{'trait_name': 'Visionary', 'trait_style': 2....</td>\n",
       "      <td>8</td>\n",
       "      <td>(tensor(0.3182), tensor(5))</td>\n",
       "    </tr>\n",
       "  </tbody>\n",
       "</table>\n",
       "</div>"
      ],
      "text/plain": [
       "  metadata_match_id                                              puuid  \\\n",
       "0   EUW1_7287829871  25LytTrGnuEzDLLQKSFQjKtDtzdWiYqMYEPImOuwbISTLG...   \n",
       "1   EUW1_7287021125  RYLtU0PFAnpFjJ0pJf_i1P_hiMh9w2SF9xxl4Dz4SaiGk9...   \n",
       "2   EUW1_7285135299  q-EzF1r80j1TaaYVCjh1M_gQIL1_GjHt5s5mDT5J0EMFMV...   \n",
       "3   EUW1_7287517140  dMaMJ-O8aJW2DmjNVIq588fDocoq-p7TnPP6tT0y3Cy3bS...   \n",
       "4   EUW1_7279610050  vmj1lvV5X0BLkh0RMzBBYH-L2QYDekEC40D5-6Z2iPW9tK...   \n",
       "\n",
       "                                               units  \\\n",
       "0  [{'unit_name': 'Zyra', 'unit_cost': 1, 'unit_t...   \n",
       "1  [{'unit_name': 'Irelia', 'unit_cost': 1, 'unit...   \n",
       "2  [{'unit_name': 'Zyra', 'unit_cost': 1, 'unit_t...   \n",
       "3  [{'unit_name': 'Powder', 'unit_cost': 1, 'unit...   \n",
       "4  [{'unit_name': 'Morgana', 'unit_cost': 1, 'uni...   \n",
       "\n",
       "                                       active_traits  placement  \\\n",
       "0  [{'trait_name': 'Emissary', 'trait_style': 1.0...          4   \n",
       "1  [{'trait_name': 'Academy', 'trait_style': 1.0,...          6   \n",
       "2  [{'trait_name': 'Bruiser', 'trait_style': 1.0,...          1   \n",
       "3  [{'trait_name': 'Ambusher', 'trait_style': 4.0...          1   \n",
       "4  [{'trait_name': 'Visionary', 'trait_style': 2....          8   \n",
       "\n",
       "               units_embedding  \n",
       "0  (tensor(0.2093), tensor(1))  \n",
       "1  (tensor(0.3203), tensor(3))  \n",
       "2  (tensor(0.1950), tensor(1))  \n",
       "3  (tensor(0.1957), tensor(6))  \n",
       "4  (tensor(0.3182), tensor(5))  "
      ]
     },
     "execution_count": 62,
     "metadata": {},
     "output_type": "execute_result"
    }
   ],
   "source": [
    "df.head()"
   ]
  },
  {
   "cell_type": "code",
   "execution_count": 57,
   "id": "08b00b6e-a305-4a33-a2a8-eab4486292d9",
   "metadata": {},
   "outputs": [
    {
     "data": {
      "text/html": [
       "<div>\n",
       "<style scoped>\n",
       "    .dataframe tbody tr th:only-of-type {\n",
       "        vertical-align: middle;\n",
       "    }\n",
       "\n",
       "    .dataframe tbody tr th {\n",
       "        vertical-align: top;\n",
       "    }\n",
       "\n",
       "    .dataframe thead th {\n",
       "        text-align: right;\n",
       "    }\n",
       "</style>\n",
       "<table border=\"1\" class=\"dataframe\">\n",
       "  <thead>\n",
       "    <tr style=\"text-align: right;\">\n",
       "      <th></th>\n",
       "      <th>metadata_match_id</th>\n",
       "      <th>puuid</th>\n",
       "      <th>units</th>\n",
       "      <th>active_traits</th>\n",
       "      <th>placement</th>\n",
       "      <th>units_embedding</th>\n",
       "    </tr>\n",
       "  </thead>\n",
       "  <tbody>\n",
       "    <tr>\n",
       "      <th>0</th>\n",
       "      <td>EUW1_7287829871</td>\n",
       "      <td>25LytTrGnuEzDLLQKSFQjKtDtzdWiYqMYEPImOuwbISTLG...</td>\n",
       "      <td>[{'unit_name': 'Zyra', 'unit_cost': 1, 'unit_t...</td>\n",
       "      <td>[{'trait_name': 'Emissary', 'trait_style': 1.0...</td>\n",
       "      <td>4</td>\n",
       "      <td>([tensor(0.2093)], [tensor(1)])</td>\n",
       "    </tr>\n",
       "    <tr>\n",
       "      <th>6713</th>\n",
       "      <td>EUW1_7287829871</td>\n",
       "      <td>luS03nUnioqAHW4JTjCnMJozDNFxhQZ15QnxMt1A1RuseY...</td>\n",
       "      <td>[{'unit_name': 'Tristana', 'unit_cost': 2, 'un...</td>\n",
       "      <td>[{'trait_name': 'Emissary', 'trait_style': 4.0...</td>\n",
       "      <td>2</td>\n",
       "      <td>([tensor(0.1779)], [tensor(8)])</td>\n",
       "    </tr>\n",
       "    <tr>\n",
       "      <th>7567</th>\n",
       "      <td>EUW1_7287829871</td>\n",
       "      <td>dW0e-sSivzXayv2b9M1RKBl2U4R_p9-8zsWm0mb_QIATQH...</td>\n",
       "      <td>[{'unit_name': 'Vladimir', 'unit_cost': 2, 'un...</td>\n",
       "      <td>[{'trait_name': 'Emissary', 'trait_style': 4.0...</td>\n",
       "      <td>6</td>\n",
       "      <td>([tensor(0.2155)], [tensor(6)])</td>\n",
       "    </tr>\n",
       "    <tr>\n",
       "      <th>18678</th>\n",
       "      <td>EUW1_7287829871</td>\n",
       "      <td>ajpljYRv-8pKhLjOMblvF2pgOVTOaHbuGxXYmpHCaywED5...</td>\n",
       "      <td>[{'unit_name': 'Morgana', 'unit_cost': 1, 'uni...</td>\n",
       "      <td>[{'trait_name': 'Visionary', 'trait_style': 4....</td>\n",
       "      <td>5</td>\n",
       "      <td>([tensor(0.2377)], [tensor(4)])</td>\n",
       "    </tr>\n",
       "    <tr>\n",
       "      <th>22504</th>\n",
       "      <td>EUW1_7287829871</td>\n",
       "      <td>_JcFIAwTDEEQTWxTrxt30xaLaioPAyFXPucawYMIY9oDm5...</td>\n",
       "      <td>[{'unit_name': 'Powder', 'unit_cost': 1, 'unit...</td>\n",
       "      <td>[{'trait_name': 'Emissary', 'trait_style': 1.0...</td>\n",
       "      <td>8</td>\n",
       "      <td>([tensor(0.1775)], [tensor(6)])</td>\n",
       "    </tr>\n",
       "    <tr>\n",
       "      <th>24207</th>\n",
       "      <td>EUW1_7287829871</td>\n",
       "      <td>2E8YEKoXEHXanZWKaxVT4K6KT8rfeZyDK4WE19UnVGrRYa...</td>\n",
       "      <td>[{'unit_name': 'Vladimir', 'unit_cost': 2, 'un...</td>\n",
       "      <td>[{'trait_name': 'Emissary', 'trait_style': 4.0...</td>\n",
       "      <td>3</td>\n",
       "      <td>([tensor(0.1798)], [tensor(7)])</td>\n",
       "    </tr>\n",
       "    <tr>\n",
       "      <th>25792</th>\n",
       "      <td>EUW1_7287829871</td>\n",
       "      <td>qwIGHwnoGf-NeE2wE2jdeLT1v5ALnSPCokUIqvEeJ2-pUJ...</td>\n",
       "      <td>[{'unit_name': 'Trundle', 'unit_cost': 1, 'uni...</td>\n",
       "      <td>[{'trait_name': 'Blood Hunter', 'trait_style':...</td>\n",
       "      <td>1</td>\n",
       "      <td>([tensor(0.1479)], [tensor(7)])</td>\n",
       "    </tr>\n",
       "    <tr>\n",
       "      <th>25793</th>\n",
       "      <td>EUW1_7287829871</td>\n",
       "      <td>Dtl3sdyemYrVqK6k-QnVPEvCWHeVkfUtDfP8Ea5ijlQa_U...</td>\n",
       "      <td>[{'unit_name': 'Lux', 'unit_cost': 1, 'unit_ti...</td>\n",
       "      <td>[{'trait_name': 'Emissary', 'trait_style': 1.0...</td>\n",
       "      <td>7</td>\n",
       "      <td>([tensor(0.2038)], [tensor(5)])</td>\n",
       "    </tr>\n",
       "  </tbody>\n",
       "</table>\n",
       "</div>"
      ],
      "text/plain": [
       "      metadata_match_id                                              puuid  \\\n",
       "0       EUW1_7287829871  25LytTrGnuEzDLLQKSFQjKtDtzdWiYqMYEPImOuwbISTLG...   \n",
       "6713    EUW1_7287829871  luS03nUnioqAHW4JTjCnMJozDNFxhQZ15QnxMt1A1RuseY...   \n",
       "7567    EUW1_7287829871  dW0e-sSivzXayv2b9M1RKBl2U4R_p9-8zsWm0mb_QIATQH...   \n",
       "18678   EUW1_7287829871  ajpljYRv-8pKhLjOMblvF2pgOVTOaHbuGxXYmpHCaywED5...   \n",
       "22504   EUW1_7287829871  _JcFIAwTDEEQTWxTrxt30xaLaioPAyFXPucawYMIY9oDm5...   \n",
       "24207   EUW1_7287829871  2E8YEKoXEHXanZWKaxVT4K6KT8rfeZyDK4WE19UnVGrRYa...   \n",
       "25792   EUW1_7287829871  qwIGHwnoGf-NeE2wE2jdeLT1v5ALnSPCokUIqvEeJ2-pUJ...   \n",
       "25793   EUW1_7287829871  Dtl3sdyemYrVqK6k-QnVPEvCWHeVkfUtDfP8Ea5ijlQa_U...   \n",
       "\n",
       "                                                   units  \\\n",
       "0      [{'unit_name': 'Zyra', 'unit_cost': 1, 'unit_t...   \n",
       "6713   [{'unit_name': 'Tristana', 'unit_cost': 2, 'un...   \n",
       "7567   [{'unit_name': 'Vladimir', 'unit_cost': 2, 'un...   \n",
       "18678  [{'unit_name': 'Morgana', 'unit_cost': 1, 'uni...   \n",
       "22504  [{'unit_name': 'Powder', 'unit_cost': 1, 'unit...   \n",
       "24207  [{'unit_name': 'Vladimir', 'unit_cost': 2, 'un...   \n",
       "25792  [{'unit_name': 'Trundle', 'unit_cost': 1, 'uni...   \n",
       "25793  [{'unit_name': 'Lux', 'unit_cost': 1, 'unit_ti...   \n",
       "\n",
       "                                           active_traits  placement  \\\n",
       "0      [{'trait_name': 'Emissary', 'trait_style': 1.0...          4   \n",
       "6713   [{'trait_name': 'Emissary', 'trait_style': 4.0...          2   \n",
       "7567   [{'trait_name': 'Emissary', 'trait_style': 4.0...          6   \n",
       "18678  [{'trait_name': 'Visionary', 'trait_style': 4....          5   \n",
       "22504  [{'trait_name': 'Emissary', 'trait_style': 1.0...          8   \n",
       "24207  [{'trait_name': 'Emissary', 'trait_style': 4.0...          3   \n",
       "25792  [{'trait_name': 'Blood Hunter', 'trait_style':...          1   \n",
       "25793  [{'trait_name': 'Emissary', 'trait_style': 1.0...          7   \n",
       "\n",
       "                       units_embedding  \n",
       "0      ([tensor(0.2093)], [tensor(1)])  \n",
       "6713   ([tensor(0.1779)], [tensor(8)])  \n",
       "7567   ([tensor(0.2155)], [tensor(6)])  \n",
       "18678  ([tensor(0.2377)], [tensor(4)])  \n",
       "22504  ([tensor(0.1775)], [tensor(6)])  \n",
       "24207  ([tensor(0.1798)], [tensor(7)])  \n",
       "25792  ([tensor(0.1479)], [tensor(7)])  \n",
       "25793  ([tensor(0.2038)], [tensor(5)])  "
      ]
     },
     "execution_count": 57,
     "metadata": {},
     "output_type": "execute_result"
    }
   ],
   "source": [
    "df[df['metadata_match_id'] == 'EUW1_7287829871'].head(8)"
   ]
  },
  {
   "cell_type": "code",
   "execution_count": 58,
   "id": "88a7c4bf-75e9-4ce0-91b6-62ac3023a497",
   "metadata": {},
   "outputs": [
    {
     "data": {
      "text/plain": [
       "torch.return_types.max(\n",
       "values=tensor([0.1479]),\n",
       "indices=tensor([7]))"
      ]
     },
     "execution_count": 58,
     "metadata": {},
     "output_type": "execute_result"
    }
   ],
   "source": [
    "df.loc[(df['metadata_match_id'] == 'EUW1_7287829871') & (df['placement']==1)].iloc[0]['units_embedding']"
   ]
  },
  {
   "cell_type": "code",
   "execution_count": 51,
   "id": "f28307de-a5e1-4e73-be71-d42549d24db0",
   "metadata": {},
   "outputs": [
    {
     "data": {
      "text/plain": [
       "tensor([1.])"
      ]
     },
     "execution_count": 51,
     "metadata": {},
     "output_type": "execute_result"
    }
   ],
   "source": [
    "df.loc[(df['metadata_match_id'] == 'EUW1_7287829871') & (df['placement']==2)].iloc[0]['units_embedding']"
   ]
  },
  {
   "cell_type": "code",
   "execution_count": 52,
   "id": "6c090b9a-24f9-47f2-9cc1-eafd2dca40a8",
   "metadata": {},
   "outputs": [
    {
     "data": {
      "text/plain": [
       "tensor([1.])"
      ]
     },
     "execution_count": 52,
     "metadata": {},
     "output_type": "execute_result"
    }
   ],
   "source": [
    "df.loc[(df['metadata_match_id'] == 'EUW1_7287829871') & (df['placement']==8)].iloc[0]['units_embedding']"
   ]
  },
  {
   "cell_type": "code",
   "execution_count": null,
   "id": "521dcb75-9275-4297-b2af-099922a20a4d",
   "metadata": {},
   "outputs": [],
   "source": []
  }
 ],
 "metadata": {
  "kernelspec": {
   "display_name": "Python 3 (ipykernel)",
   "language": "python",
   "name": "python3"
  },
  "language_info": {
   "codemirror_mode": {
    "name": "ipython",
    "version": 3
   },
   "file_extension": ".py",
   "mimetype": "text/x-python",
   "name": "python",
   "nbconvert_exporter": "python",
   "pygments_lexer": "ipython3",
   "version": "3.10.12"
  }
 },
 "nbformat": 4,
 "nbformat_minor": 5
}
